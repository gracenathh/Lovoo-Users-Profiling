{
  "nbformat": 4,
  "nbformat_minor": 0,
  "metadata": {
    "colab": {
      "name": "Lovoo Users Clustering.ipynb",
      "provenance": []
    },
    "kernelspec": {
      "name": "python3",
      "display_name": "Python 3"
    },
    "language_info": {
      "name": "python"
    }
  },
  "cells": [
    {
      "cell_type": "markdown",
      "source": [
        "# Lovoo Users Profiling\n",
        "**Coded by ©Grace Nathania**\n",
        "\n",
        "LOVOO is a leading online dating app in the German-speaking world founded in 2011. \n",
        "\n",
        "Users' data was fetched during spring 2015 (April to May) by Jeffrey Mabilama and published on his [Kaggle account](https://www.kaggle.com/jmmvutu/dating-app-lovoo-user-profiles).\n",
        "\n",
        "To create the users profiling, we have to first do exploratory data analysis (EDA) in which we can understand the data deeper and clean the data to be used for the next step. \n",
        "\n",
        "In the rows of code below, k-Means clustering is used to segmentise the users who share the same behaviours;\n",
        "* To determine the most optimised number of k, elbow method and silhouette score are used.\n",
        "* To do deeper profiling, clustered data is analysed on Google Sheets using pivot tables. \n",
        "* To visualise the profiling, insights from Google Sheets are then visuliased and presented using Google Slides.\n",
        "\n",
        "\n"
      ],
      "metadata": {
        "id": "KpY7wzJ4SjB1"
      }
    },
    {
      "cell_type": "code",
      "execution_count": 1,
      "metadata": {
        "colab": {
          "base_uri": "https://localhost:8080/"
        },
        "id": "rtkDFMzuEH_h",
        "outputId": "8998642c-d808-4432-a03b-4d211edfbe3b"
      },
      "outputs": [
        {
          "output_type": "stream",
          "name": "stdout",
          "text": [
            "Drive already mounted at /content/drive; to attempt to forcibly remount, call drive.mount(\"/content/drive\", force_remount=True).\n"
          ]
        }
      ],
      "source": [
        "from google.colab import drive\n",
        "drive.mount('/content/drive')"
      ]
    },
    {
      "cell_type": "code",
      "source": [
        "import pandas as pd\n",
        "%matplotlib inline\n",
        "import matplotlib.pyplot as plt\n",
        "import numpy as np\n",
        "import seaborn as sns\n",
        "from datetime import datetime\n",
        "\n",
        "import warnings\n",
        "warnings.filterwarnings('ignore')\n",
        "warnings.filterwarnings(\"ignore\", category=DeprecationWarning) "
      ],
      "metadata": {
        "id": "RelZeEMAFA2x"
      },
      "execution_count": 2,
      "outputs": []
    },
    {
      "cell_type": "code",
      "source": [
        "def create_csv(df, filename):\n",
        "    df_final = df.to_csv('/content/drive/MyDrive/Loovo/Cleaned Data/{}.csv'.format(filename), index = False) #sep='\\t'\n",
        "    return print(\"CSV export is done! File name: {}.csv\".format(filename))"
      ],
      "metadata": {
        "id": "G1ohhoR5FdEj"
      },
      "execution_count": 3,
      "outputs": []
    },
    {
      "cell_type": "markdown",
      "source": [
        "# 1. EDA"
      ],
      "metadata": {
        "id": "urLvpMnRGAVV"
      }
    },
    {
      "cell_type": "markdown",
      "source": [
        "## 1.1 Data Loading\n",
        "Data source: https://www.kaggle.com/jmmvutu/dating-app-lovoo-user-profiles"
      ],
      "metadata": {
        "id": "nw2ebRk9GLkb"
      }
    },
    {
      "cell_type": "code",
      "source": [
        "df = pd.read_csv(\"/content/drive/MyDrive/Loovo/lovoo_v3_users_api-results.csv\")\n",
        "df.shape"
      ],
      "metadata": {
        "colab": {
          "base_uri": "https://localhost:8080/"
        },
        "id": "TainlFjTFUAY",
        "outputId": "be780b1b-ef19-4784-d9ae-a7fbaba5ea10"
      },
      "execution_count": 4,
      "outputs": [
        {
          "output_type": "execute_result",
          "data": {
            "text/plain": [
              "(3992, 42)"
            ]
          },
          "metadata": {},
          "execution_count": 4
        }
      ]
    },
    {
      "cell_type": "code",
      "source": [
        "df.head(1)"
      ],
      "metadata": {
        "colab": {
          "base_uri": "https://localhost:8080/",
          "height": 214
        },
        "id": "R3Vjct-0GQ9g",
        "outputId": "3291c6f2-a3ee-47d7-c3a7-c31d7b8680a4"
      },
      "execution_count": 5,
      "outputs": [
        {
          "output_type": "execute_result",
          "data": {
            "text/html": [
              "\n",
              "  <div id=\"df-cb20c728-64a0-4832-a050-f7ae42e58b41\">\n",
              "    <div class=\"colab-df-container\">\n",
              "      <div>\n",
              "<style scoped>\n",
              "    .dataframe tbody tr th:only-of-type {\n",
              "        vertical-align: middle;\n",
              "    }\n",
              "\n",
              "    .dataframe tbody tr th {\n",
              "        vertical-align: top;\n",
              "    }\n",
              "\n",
              "    .dataframe thead th {\n",
              "        text-align: right;\n",
              "    }\n",
              "</style>\n",
              "<table border=\"1\" class=\"dataframe\">\n",
              "  <thead>\n",
              "    <tr style=\"text-align: right;\">\n",
              "      <th></th>\n",
              "      <th>gender</th>\n",
              "      <th>genderLooking</th>\n",
              "      <th>age</th>\n",
              "      <th>name</th>\n",
              "      <th>counts_details</th>\n",
              "      <th>counts_pictures</th>\n",
              "      <th>counts_profileVisits</th>\n",
              "      <th>counts_kisses</th>\n",
              "      <th>counts_fans</th>\n",
              "      <th>counts_g</th>\n",
              "      <th>flirtInterests_chat</th>\n",
              "      <th>flirtInterests_friends</th>\n",
              "      <th>flirtInterests_date</th>\n",
              "      <th>country</th>\n",
              "      <th>city</th>\n",
              "      <th>location</th>\n",
              "      <th>distance</th>\n",
              "      <th>isFlirtstar</th>\n",
              "      <th>isHighlighted</th>\n",
              "      <th>isInfluencer</th>\n",
              "      <th>isMobile</th>\n",
              "      <th>isNew</th>\n",
              "      <th>isOnline</th>\n",
              "      <th>isVip</th>\n",
              "      <th>lang_count</th>\n",
              "      <th>lang_fr</th>\n",
              "      <th>lang_en</th>\n",
              "      <th>lang_de</th>\n",
              "      <th>lang_it</th>\n",
              "      <th>lang_es</th>\n",
              "      <th>lang_pt</th>\n",
              "      <th>verified</th>\n",
              "      <th>shareProfileEnabled</th>\n",
              "      <th>lastOnlineDate</th>\n",
              "      <th>lastOnlineTime</th>\n",
              "      <th>birthd</th>\n",
              "      <th>crypt</th>\n",
              "      <th>freetext</th>\n",
              "      <th>whazzup</th>\n",
              "      <th>userId</th>\n",
              "      <th>pictureId</th>\n",
              "      <th>isSystemProfile</th>\n",
              "    </tr>\n",
              "  </thead>\n",
              "  <tbody>\n",
              "    <tr>\n",
              "      <th>0</th>\n",
              "      <td>F</td>\n",
              "      <td>M</td>\n",
              "      <td>25</td>\n",
              "      <td>daeni</td>\n",
              "      <td>1.0</td>\n",
              "      <td>4</td>\n",
              "      <td>8279</td>\n",
              "      <td>239</td>\n",
              "      <td>0</td>\n",
              "      <td>3</td>\n",
              "      <td>True</td>\n",
              "      <td>True</td>\n",
              "      <td>True</td>\n",
              "      <td>CH</td>\n",
              "      <td>Rothenburg</td>\n",
              "      <td>Rümlang</td>\n",
              "      <td>175.0</td>\n",
              "      <td>0</td>\n",
              "      <td>0</td>\n",
              "      <td>0</td>\n",
              "      <td>1</td>\n",
              "      <td>0</td>\n",
              "      <td>0</td>\n",
              "      <td>0</td>\n",
              "      <td>1</td>\n",
              "      <td>False</td>\n",
              "      <td>False</td>\n",
              "      <td>True</td>\n",
              "      <td>False</td>\n",
              "      <td>False</td>\n",
              "      <td>False</td>\n",
              "      <td>0</td>\n",
              "      <td>1</td>\n",
              "      <td>2015-04-25T20:43:26Z</td>\n",
              "      <td>1.429995e+09</td>\n",
              "      <td>0</td>\n",
              "      <td>NaN</td>\n",
              "      <td>Nur tote Fisch schwimmen mit dem Strom</td>\n",
              "      <td>Nur tote fische schwimmen mit dem strom</td>\n",
              "      <td>4e3842f79b70e7ea57000064</td>\n",
              "      <td>55303fc3160ba0eb728b4575</td>\n",
              "      <td>NaN</td>\n",
              "    </tr>\n",
              "  </tbody>\n",
              "</table>\n",
              "</div>\n",
              "      <button class=\"colab-df-convert\" onclick=\"convertToInteractive('df-cb20c728-64a0-4832-a050-f7ae42e58b41')\"\n",
              "              title=\"Convert this dataframe to an interactive table.\"\n",
              "              style=\"display:none;\">\n",
              "        \n",
              "  <svg xmlns=\"http://www.w3.org/2000/svg\" height=\"24px\"viewBox=\"0 0 24 24\"\n",
              "       width=\"24px\">\n",
              "    <path d=\"M0 0h24v24H0V0z\" fill=\"none\"/>\n",
              "    <path d=\"M18.56 5.44l.94 2.06.94-2.06 2.06-.94-2.06-.94-.94-2.06-.94 2.06-2.06.94zm-11 1L8.5 8.5l.94-2.06 2.06-.94-2.06-.94L8.5 2.5l-.94 2.06-2.06.94zm10 10l.94 2.06.94-2.06 2.06-.94-2.06-.94-.94-2.06-.94 2.06-2.06.94z\"/><path d=\"M17.41 7.96l-1.37-1.37c-.4-.4-.92-.59-1.43-.59-.52 0-1.04.2-1.43.59L10.3 9.45l-7.72 7.72c-.78.78-.78 2.05 0 2.83L4 21.41c.39.39.9.59 1.41.59.51 0 1.02-.2 1.41-.59l7.78-7.78 2.81-2.81c.8-.78.8-2.07 0-2.86zM5.41 20L4 18.59l7.72-7.72 1.47 1.35L5.41 20z\"/>\n",
              "  </svg>\n",
              "      </button>\n",
              "      \n",
              "  <style>\n",
              "    .colab-df-container {\n",
              "      display:flex;\n",
              "      flex-wrap:wrap;\n",
              "      gap: 12px;\n",
              "    }\n",
              "\n",
              "    .colab-df-convert {\n",
              "      background-color: #E8F0FE;\n",
              "      border: none;\n",
              "      border-radius: 50%;\n",
              "      cursor: pointer;\n",
              "      display: none;\n",
              "      fill: #1967D2;\n",
              "      height: 32px;\n",
              "      padding: 0 0 0 0;\n",
              "      width: 32px;\n",
              "    }\n",
              "\n",
              "    .colab-df-convert:hover {\n",
              "      background-color: #E2EBFA;\n",
              "      box-shadow: 0px 1px 2px rgba(60, 64, 67, 0.3), 0px 1px 3px 1px rgba(60, 64, 67, 0.15);\n",
              "      fill: #174EA6;\n",
              "    }\n",
              "\n",
              "    [theme=dark] .colab-df-convert {\n",
              "      background-color: #3B4455;\n",
              "      fill: #D2E3FC;\n",
              "    }\n",
              "\n",
              "    [theme=dark] .colab-df-convert:hover {\n",
              "      background-color: #434B5C;\n",
              "      box-shadow: 0px 1px 3px 1px rgba(0, 0, 0, 0.15);\n",
              "      filter: drop-shadow(0px 1px 2px rgba(0, 0, 0, 0.3));\n",
              "      fill: #FFFFFF;\n",
              "    }\n",
              "  </style>\n",
              "\n",
              "      <script>\n",
              "        const buttonEl =\n",
              "          document.querySelector('#df-cb20c728-64a0-4832-a050-f7ae42e58b41 button.colab-df-convert');\n",
              "        buttonEl.style.display =\n",
              "          google.colab.kernel.accessAllowed ? 'block' : 'none';\n",
              "\n",
              "        async function convertToInteractive(key) {\n",
              "          const element = document.querySelector('#df-cb20c728-64a0-4832-a050-f7ae42e58b41');\n",
              "          const dataTable =\n",
              "            await google.colab.kernel.invokeFunction('convertToInteractive',\n",
              "                                                     [key], {});\n",
              "          if (!dataTable) return;\n",
              "\n",
              "          const docLinkHtml = 'Like what you see? Visit the ' +\n",
              "            '<a target=\"_blank\" href=https://colab.research.google.com/notebooks/data_table.ipynb>data table notebook</a>'\n",
              "            + ' to learn more about interactive tables.';\n",
              "          element.innerHTML = '';\n",
              "          dataTable['output_type'] = 'display_data';\n",
              "          await google.colab.output.renderOutput(dataTable, element);\n",
              "          const docLink = document.createElement('div');\n",
              "          docLink.innerHTML = docLinkHtml;\n",
              "          element.appendChild(docLink);\n",
              "        }\n",
              "      </script>\n",
              "    </div>\n",
              "  </div>\n",
              "  "
            ],
            "text/plain": [
              "  gender genderLooking  ...                 pictureId isSystemProfile\n",
              "0      F             M  ...  55303fc3160ba0eb728b4575             NaN\n",
              "\n",
              "[1 rows x 42 columns]"
            ]
          },
          "metadata": {},
          "execution_count": 5
        }
      ]
    },
    {
      "cell_type": "code",
      "source": [
        "df.info()"
      ],
      "metadata": {
        "colab": {
          "base_uri": "https://localhost:8080/"
        },
        "id": "856DV9LKGXHT",
        "outputId": "83e777b4-ea1b-4cb7-dd0f-28bddb151b4f"
      },
      "execution_count": 6,
      "outputs": [
        {
          "output_type": "stream",
          "name": "stdout",
          "text": [
            "<class 'pandas.core.frame.DataFrame'>\n",
            "RangeIndex: 3992 entries, 0 to 3991\n",
            "Data columns (total 42 columns):\n",
            " #   Column                  Non-Null Count  Dtype  \n",
            "---  ------                  --------------  -----  \n",
            " 0   gender                  3992 non-null   object \n",
            " 1   genderLooking           3992 non-null   object \n",
            " 2   age                     3992 non-null   int64  \n",
            " 3   name                    3992 non-null   object \n",
            " 4   counts_details          3992 non-null   float64\n",
            " 5   counts_pictures         3992 non-null   int64  \n",
            " 6   counts_profileVisits    3992 non-null   int64  \n",
            " 7   counts_kisses           3992 non-null   int64  \n",
            " 8   counts_fans             3992 non-null   int64  \n",
            " 9   counts_g                3992 non-null   int64  \n",
            " 10  flirtInterests_chat     3992 non-null   bool   \n",
            " 11  flirtInterests_friends  3992 non-null   bool   \n",
            " 12  flirtInterests_date     3992 non-null   bool   \n",
            " 13  country                 3992 non-null   object \n",
            " 14  city                    3706 non-null   object \n",
            " 15  location                3979 non-null   object \n",
            " 16  distance                3946 non-null   float64\n",
            " 17  isFlirtstar             3992 non-null   int64  \n",
            " 18  isHighlighted           3992 non-null   int64  \n",
            " 19  isInfluencer            3992 non-null   int64  \n",
            " 20  isMobile                3992 non-null   int64  \n",
            " 21  isNew                   3992 non-null   int64  \n",
            " 22  isOnline                3992 non-null   int64  \n",
            " 23  isVip                   3992 non-null   int64  \n",
            " 24  lang_count              3992 non-null   int64  \n",
            " 25  lang_fr                 3992 non-null   bool   \n",
            " 26  lang_en                 3992 non-null   bool   \n",
            " 27  lang_de                 3992 non-null   bool   \n",
            " 28  lang_it                 3992 non-null   bool   \n",
            " 29  lang_es                 3992 non-null   bool   \n",
            " 30  lang_pt                 3992 non-null   bool   \n",
            " 31  verified                3992 non-null   int64  \n",
            " 32  shareProfileEnabled     3992 non-null   int64  \n",
            " 33  lastOnlineDate          3991 non-null   object \n",
            " 34  lastOnlineTime          3991 non-null   float64\n",
            " 35  birthd                  3992 non-null   int64  \n",
            " 36  crypt                   46 non-null     float64\n",
            " 37  freetext                113 non-null    object \n",
            " 38  whazzup                 2399 non-null   object \n",
            " 39  userId                  3992 non-null   object \n",
            " 40  pictureId               3901 non-null   object \n",
            " 41  isSystemProfile         2 non-null      float64\n",
            "dtypes: bool(9), float64(5), int64(17), object(11)\n",
            "memory usage: 1.0+ MB\n"
          ]
        }
      ]
    },
    {
      "cell_type": "markdown",
      "source": [
        "## 1.2 Data Visualisation and Cleaning"
      ],
      "metadata": {
        "id": "Yx-VR-0QIl0T"
      }
    },
    {
      "cell_type": "code",
      "source": [
        "df.describe()"
      ],
      "metadata": {
        "colab": {
          "base_uri": "https://localhost:8080/",
          "height": 364
        },
        "id": "_tr4pPEOKi0N",
        "outputId": "12652f12-070f-47a8-8007-46229c8399a1"
      },
      "execution_count": 7,
      "outputs": [
        {
          "output_type": "execute_result",
          "data": {
            "text/html": [
              "\n",
              "  <div id=\"df-30cd05fe-cf9e-415d-af03-a561de3c40e4\">\n",
              "    <div class=\"colab-df-container\">\n",
              "      <div>\n",
              "<style scoped>\n",
              "    .dataframe tbody tr th:only-of-type {\n",
              "        vertical-align: middle;\n",
              "    }\n",
              "\n",
              "    .dataframe tbody tr th {\n",
              "        vertical-align: top;\n",
              "    }\n",
              "\n",
              "    .dataframe thead th {\n",
              "        text-align: right;\n",
              "    }\n",
              "</style>\n",
              "<table border=\"1\" class=\"dataframe\">\n",
              "  <thead>\n",
              "    <tr style=\"text-align: right;\">\n",
              "      <th></th>\n",
              "      <th>age</th>\n",
              "      <th>counts_details</th>\n",
              "      <th>counts_pictures</th>\n",
              "      <th>counts_profileVisits</th>\n",
              "      <th>counts_kisses</th>\n",
              "      <th>counts_fans</th>\n",
              "      <th>counts_g</th>\n",
              "      <th>distance</th>\n",
              "      <th>isFlirtstar</th>\n",
              "      <th>isHighlighted</th>\n",
              "      <th>isInfluencer</th>\n",
              "      <th>isMobile</th>\n",
              "      <th>isNew</th>\n",
              "      <th>isOnline</th>\n",
              "      <th>isVip</th>\n",
              "      <th>lang_count</th>\n",
              "      <th>verified</th>\n",
              "      <th>shareProfileEnabled</th>\n",
              "      <th>lastOnlineTime</th>\n",
              "      <th>birthd</th>\n",
              "      <th>crypt</th>\n",
              "      <th>isSystemProfile</th>\n",
              "    </tr>\n",
              "  </thead>\n",
              "  <tbody>\n",
              "    <tr>\n",
              "      <th>count</th>\n",
              "      <td>3992.000000</td>\n",
              "      <td>3992.000000</td>\n",
              "      <td>3992.000000</td>\n",
              "      <td>3992.000000</td>\n",
              "      <td>3992.000000</td>\n",
              "      <td>3992.000000</td>\n",
              "      <td>3992.000000</td>\n",
              "      <td>3946.000000</td>\n",
              "      <td>3992.000000</td>\n",
              "      <td>3992.000000</td>\n",
              "      <td>3992.0</td>\n",
              "      <td>3992.000000</td>\n",
              "      <td>3992.000000</td>\n",
              "      <td>3992.000000</td>\n",
              "      <td>3992.000000</td>\n",
              "      <td>3992.000000</td>\n",
              "      <td>3992.000000</td>\n",
              "      <td>3992.000000</td>\n",
              "      <td>3.991000e+03</td>\n",
              "      <td>3992.000000</td>\n",
              "      <td>46.0</td>\n",
              "      <td>2.0</td>\n",
              "    </tr>\n",
              "    <tr>\n",
              "      <th>mean</th>\n",
              "      <td>21.991483</td>\n",
              "      <td>0.569409</td>\n",
              "      <td>4.786573</td>\n",
              "      <td>3705.467184</td>\n",
              "      <td>156.599699</td>\n",
              "      <td>2.335421</td>\n",
              "      <td>0.125501</td>\n",
              "      <td>207.230005</td>\n",
              "      <td>0.011774</td>\n",
              "      <td>0.011774</td>\n",
              "      <td>0.0</td>\n",
              "      <td>0.745992</td>\n",
              "      <td>0.238727</td>\n",
              "      <td>0.585421</td>\n",
              "      <td>0.022796</td>\n",
              "      <td>1.109719</td>\n",
              "      <td>0.219940</td>\n",
              "      <td>0.960671</td>\n",
              "      <td>1.428921e+09</td>\n",
              "      <td>0.003758</td>\n",
              "      <td>1.0</td>\n",
              "      <td>1.0</td>\n",
              "    </tr>\n",
              "    <tr>\n",
              "      <th>std</th>\n",
              "      <td>1.959481</td>\n",
              "      <td>0.326066</td>\n",
              "      <td>4.420238</td>\n",
              "      <td>6845.038330</td>\n",
              "      <td>377.650691</td>\n",
              "      <td>12.235699</td>\n",
              "      <td>1.238945</td>\n",
              "      <td>196.594017</td>\n",
              "      <td>0.107879</td>\n",
              "      <td>0.107879</td>\n",
              "      <td>0.0</td>\n",
              "      <td>0.435357</td>\n",
              "      <td>0.426359</td>\n",
              "      <td>0.492711</td>\n",
              "      <td>0.149270</td>\n",
              "      <td>0.582451</td>\n",
              "      <td>0.414258</td>\n",
              "      <td>0.194400</td>\n",
              "      <td>8.227151e+05</td>\n",
              "      <td>0.061191</td>\n",
              "      <td>0.0</td>\n",
              "      <td>0.0</td>\n",
              "    </tr>\n",
              "    <tr>\n",
              "      <th>min</th>\n",
              "      <td>18.000000</td>\n",
              "      <td>0.000000</td>\n",
              "      <td>0.000000</td>\n",
              "      <td>0.000000</td>\n",
              "      <td>0.000000</td>\n",
              "      <td>0.000000</td>\n",
              "      <td>0.000000</td>\n",
              "      <td>0.000000</td>\n",
              "      <td>0.000000</td>\n",
              "      <td>0.000000</td>\n",
              "      <td>0.0</td>\n",
              "      <td>0.000000</td>\n",
              "      <td>0.000000</td>\n",
              "      <td>0.000000</td>\n",
              "      <td>0.000000</td>\n",
              "      <td>0.000000</td>\n",
              "      <td>0.000000</td>\n",
              "      <td>0.000000</td>\n",
              "      <td>1.426592e+09</td>\n",
              "      <td>0.000000</td>\n",
              "      <td>1.0</td>\n",
              "      <td>1.0</td>\n",
              "    </tr>\n",
              "    <tr>\n",
              "      <th>25%</th>\n",
              "      <td>20.000000</td>\n",
              "      <td>0.310000</td>\n",
              "      <td>2.000000</td>\n",
              "      <td>383.000000</td>\n",
              "      <td>11.000000</td>\n",
              "      <td>0.000000</td>\n",
              "      <td>0.000000</td>\n",
              "      <td>83.875000</td>\n",
              "      <td>0.000000</td>\n",
              "      <td>0.000000</td>\n",
              "      <td>0.0</td>\n",
              "      <td>0.000000</td>\n",
              "      <td>0.000000</td>\n",
              "      <td>0.000000</td>\n",
              "      <td>0.000000</td>\n",
              "      <td>1.000000</td>\n",
              "      <td>0.000000</td>\n",
              "      <td>1.000000</td>\n",
              "      <td>1.428332e+09</td>\n",
              "      <td>0.000000</td>\n",
              "      <td>1.0</td>\n",
              "      <td>1.0</td>\n",
              "    </tr>\n",
              "    <tr>\n",
              "      <th>50%</th>\n",
              "      <td>22.000000</td>\n",
              "      <td>0.620000</td>\n",
              "      <td>4.000000</td>\n",
              "      <td>1222.000000</td>\n",
              "      <td>44.000000</td>\n",
              "      <td>0.000000</td>\n",
              "      <td>0.000000</td>\n",
              "      <td>172.000000</td>\n",
              "      <td>0.000000</td>\n",
              "      <td>0.000000</td>\n",
              "      <td>0.0</td>\n",
              "      <td>1.000000</td>\n",
              "      <td>0.000000</td>\n",
              "      <td>1.000000</td>\n",
              "      <td>0.000000</td>\n",
              "      <td>1.000000</td>\n",
              "      <td>0.000000</td>\n",
              "      <td>1.000000</td>\n",
              "      <td>1.428400e+09</td>\n",
              "      <td>0.000000</td>\n",
              "      <td>1.0</td>\n",
              "      <td>1.0</td>\n",
              "    </tr>\n",
              "    <tr>\n",
              "      <th>75%</th>\n",
              "      <td>24.000000</td>\n",
              "      <td>0.850000</td>\n",
              "      <td>6.000000</td>\n",
              "      <td>4063.250000</td>\n",
              "      <td>141.000000</td>\n",
              "      <td>0.000000</td>\n",
              "      <td>0.000000</td>\n",
              "      <td>317.000000</td>\n",
              "      <td>0.000000</td>\n",
              "      <td>0.000000</td>\n",
              "      <td>0.0</td>\n",
              "      <td>1.000000</td>\n",
              "      <td>0.000000</td>\n",
              "      <td>1.000000</td>\n",
              "      <td>0.000000</td>\n",
              "      <td>1.000000</td>\n",
              "      <td>0.000000</td>\n",
              "      <td>1.000000</td>\n",
              "      <td>1.429992e+09</td>\n",
              "      <td>0.000000</td>\n",
              "      <td>1.0</td>\n",
              "      <td>1.0</td>\n",
              "    </tr>\n",
              "    <tr>\n",
              "      <th>max</th>\n",
              "      <td>28.000000</td>\n",
              "      <td>1.000000</td>\n",
              "      <td>30.000000</td>\n",
              "      <td>164425.000000</td>\n",
              "      <td>9288.000000</td>\n",
              "      <td>241.000000</td>\n",
              "      <td>43.000000</td>\n",
              "      <td>6918.000000</td>\n",
              "      <td>1.000000</td>\n",
              "      <td>1.000000</td>\n",
              "      <td>0.0</td>\n",
              "      <td>1.000000</td>\n",
              "      <td>1.000000</td>\n",
              "      <td>1.000000</td>\n",
              "      <td>1.000000</td>\n",
              "      <td>9.000000</td>\n",
              "      <td>1.000000</td>\n",
              "      <td>1.000000</td>\n",
              "      <td>1.430647e+09</td>\n",
              "      <td>1.000000</td>\n",
              "      <td>1.0</td>\n",
              "      <td>1.0</td>\n",
              "    </tr>\n",
              "  </tbody>\n",
              "</table>\n",
              "</div>\n",
              "      <button class=\"colab-df-convert\" onclick=\"convertToInteractive('df-30cd05fe-cf9e-415d-af03-a561de3c40e4')\"\n",
              "              title=\"Convert this dataframe to an interactive table.\"\n",
              "              style=\"display:none;\">\n",
              "        \n",
              "  <svg xmlns=\"http://www.w3.org/2000/svg\" height=\"24px\"viewBox=\"0 0 24 24\"\n",
              "       width=\"24px\">\n",
              "    <path d=\"M0 0h24v24H0V0z\" fill=\"none\"/>\n",
              "    <path d=\"M18.56 5.44l.94 2.06.94-2.06 2.06-.94-2.06-.94-.94-2.06-.94 2.06-2.06.94zm-11 1L8.5 8.5l.94-2.06 2.06-.94-2.06-.94L8.5 2.5l-.94 2.06-2.06.94zm10 10l.94 2.06.94-2.06 2.06-.94-2.06-.94-.94-2.06-.94 2.06-2.06.94z\"/><path d=\"M17.41 7.96l-1.37-1.37c-.4-.4-.92-.59-1.43-.59-.52 0-1.04.2-1.43.59L10.3 9.45l-7.72 7.72c-.78.78-.78 2.05 0 2.83L4 21.41c.39.39.9.59 1.41.59.51 0 1.02-.2 1.41-.59l7.78-7.78 2.81-2.81c.8-.78.8-2.07 0-2.86zM5.41 20L4 18.59l7.72-7.72 1.47 1.35L5.41 20z\"/>\n",
              "  </svg>\n",
              "      </button>\n",
              "      \n",
              "  <style>\n",
              "    .colab-df-container {\n",
              "      display:flex;\n",
              "      flex-wrap:wrap;\n",
              "      gap: 12px;\n",
              "    }\n",
              "\n",
              "    .colab-df-convert {\n",
              "      background-color: #E8F0FE;\n",
              "      border: none;\n",
              "      border-radius: 50%;\n",
              "      cursor: pointer;\n",
              "      display: none;\n",
              "      fill: #1967D2;\n",
              "      height: 32px;\n",
              "      padding: 0 0 0 0;\n",
              "      width: 32px;\n",
              "    }\n",
              "\n",
              "    .colab-df-convert:hover {\n",
              "      background-color: #E2EBFA;\n",
              "      box-shadow: 0px 1px 2px rgba(60, 64, 67, 0.3), 0px 1px 3px 1px rgba(60, 64, 67, 0.15);\n",
              "      fill: #174EA6;\n",
              "    }\n",
              "\n",
              "    [theme=dark] .colab-df-convert {\n",
              "      background-color: #3B4455;\n",
              "      fill: #D2E3FC;\n",
              "    }\n",
              "\n",
              "    [theme=dark] .colab-df-convert:hover {\n",
              "      background-color: #434B5C;\n",
              "      box-shadow: 0px 1px 3px 1px rgba(0, 0, 0, 0.15);\n",
              "      filter: drop-shadow(0px 1px 2px rgba(0, 0, 0, 0.3));\n",
              "      fill: #FFFFFF;\n",
              "    }\n",
              "  </style>\n",
              "\n",
              "      <script>\n",
              "        const buttonEl =\n",
              "          document.querySelector('#df-30cd05fe-cf9e-415d-af03-a561de3c40e4 button.colab-df-convert');\n",
              "        buttonEl.style.display =\n",
              "          google.colab.kernel.accessAllowed ? 'block' : 'none';\n",
              "\n",
              "        async function convertToInteractive(key) {\n",
              "          const element = document.querySelector('#df-30cd05fe-cf9e-415d-af03-a561de3c40e4');\n",
              "          const dataTable =\n",
              "            await google.colab.kernel.invokeFunction('convertToInteractive',\n",
              "                                                     [key], {});\n",
              "          if (!dataTable) return;\n",
              "\n",
              "          const docLinkHtml = 'Like what you see? Visit the ' +\n",
              "            '<a target=\"_blank\" href=https://colab.research.google.com/notebooks/data_table.ipynb>data table notebook</a>'\n",
              "            + ' to learn more about interactive tables.';\n",
              "          element.innerHTML = '';\n",
              "          dataTable['output_type'] = 'display_data';\n",
              "          await google.colab.output.renderOutput(dataTable, element);\n",
              "          const docLink = document.createElement('div');\n",
              "          docLink.innerHTML = docLinkHtml;\n",
              "          element.appendChild(docLink);\n",
              "        }\n",
              "      </script>\n",
              "    </div>\n",
              "  </div>\n",
              "  "
            ],
            "text/plain": [
              "               age  counts_details  ...  crypt  isSystemProfile\n",
              "count  3992.000000     3992.000000  ...   46.0              2.0\n",
              "mean     21.991483        0.569409  ...    1.0              1.0\n",
              "std       1.959481        0.326066  ...    0.0              0.0\n",
              "min      18.000000        0.000000  ...    1.0              1.0\n",
              "25%      20.000000        0.310000  ...    1.0              1.0\n",
              "50%      22.000000        0.620000  ...    1.0              1.0\n",
              "75%      24.000000        0.850000  ...    1.0              1.0\n",
              "max      28.000000        1.000000  ...    1.0              1.0\n",
              "\n",
              "[8 rows x 22 columns]"
            ]
          },
          "metadata": {},
          "execution_count": 7
        }
      ]
    },
    {
      "cell_type": "code",
      "source": [
        "def cal_max(col):\n",
        "  fq = df[col].describe()['25%'] \n",
        "  tq = df[col].describe()['75%']\n",
        "  iqr = tq-fq\n",
        "  return (tq + 1.5*iqr)"
      ],
      "metadata": {
        "id": "mthe2_7J6WGL"
      },
      "execution_count": 8,
      "outputs": []
    },
    {
      "cell_type": "code",
      "source": [
        "def draw_boxplot(c):\n",
        "  sns.boxplot(df[c], palette='dark')\n",
        "  plt.title('BoxPlot for {}'.format(c))\n",
        "  plt.show()\n",
        "\n",
        "  # count outliers\n",
        "  mv = cal_max(c)\n",
        "  len_outlier = len(df[(df[c] > mv)])\n",
        "  print(\"outliers for column\",c,\":\",len_outlier)"
      ],
      "metadata": {
        "id": "sCvGheXCIbAz"
      },
      "execution_count": 9,
      "outputs": []
    },
    {
      "cell_type": "markdown",
      "source": [
        "### 1.2.1 age"
      ],
      "metadata": {
        "id": "Fkb3fust9yIT"
      }
    },
    {
      "cell_type": "code",
      "source": [
        "age_gb = df.groupby(['age'])['userId'].count().reset_index().rename(columns = {'userId' : 'count'})"
      ],
      "metadata": {
        "id": "ytKfzl-YW6uC"
      },
      "execution_count": 10,
      "outputs": []
    },
    {
      "cell_type": "code",
      "source": [
        "plt.figure(figsize=(8,4))\n",
        "sns.barplot(x=age_gb['age'], y=age_gb['count'], palette=\"rocket\")\n",
        "plt.title(\"Ages' Frequency\")\n",
        "plt.xlabel(\"Age\")\n",
        "plt.ylabel(\"Number of User\")\n",
        "plt.show()"
      ],
      "metadata": {
        "colab": {
          "base_uri": "https://localhost:8080/",
          "height": 295
        },
        "id": "Lwm0PrT0RSpa",
        "outputId": "e4fb908c-4f4f-4ef7-d87b-adcea4c15d3b"
      },
      "execution_count": 11,
      "outputs": [
        {
          "output_type": "display_data",
          "data": {
            "image/png": "[encoded data removed]",
            "text/plain": [
              "<Figure size 576x288 with 1 Axes>"
            ]
          },
          "metadata": {
            "needs_background": "light"
          }
        }
      ]
    },
    {
      "cell_type": "code",
      "source": [
        "# Removing users with age < 19 and age > 26\n",
        "print(\"Before removal:\",df.shape)\n",
        "df = df[(df['age'] > 18)]\n",
        "df = df[(df['age'] < 27)]\n",
        "print(\"After removal:\",df.shape)"
      ],
      "metadata": {
        "colab": {
          "base_uri": "https://localhost:8080/"
        },
        "id": "hVyv4VD4Xkcx",
        "outputId": "83b85c22-feee-4cca-c1e9-3fc90c14b218"
      },
      "execution_count": 12,
      "outputs": [
        {
          "output_type": "stream",
          "name": "stdout",
          "text": [
            "Before removal: (3992, 42)\n",
            "After removal: (3989, 42)\n"
          ]
        }
      ]
    },
    {
      "cell_type": "markdown",
      "source": [
        "### 1.2.2 counts_details"
      ],
      "metadata": {
        "id": "xINoGfLf9qIt"
      }
    },
    {
      "cell_type": "code",
      "source": [
        "draw_boxplot('counts_details') # no removal needed refering to the visualisation below"
      ],
      "metadata": {
        "colab": {
          "base_uri": "https://localhost:8080/",
          "height": 314
        },
        "id": "g3_bLzqp9i_P",
        "outputId": "a5b286c7-039f-4b3a-9ed2-1f9ed335ebee"
      },
      "execution_count": 13,
      "outputs": [
        {
          "output_type": "display_data",
          "data": {
            "image/png": "[encoded data removed]",
            "text/plain": [
              "<Figure size 432x288 with 1 Axes>"
            ]
          },
          "metadata": {
            "needs_background": "light"
          }
        },
        {
          "output_type": "stream",
          "name": "stdout",
          "text": [
            "outliers for column counts_details : 0\n"
          ]
        }
      ]
    },
    {
      "cell_type": "markdown",
      "source": [
        "### 1.2.3 counts_pictures\n",
        "number of pictures on the user's profile"
      ],
      "metadata": {
        "id": "PlnrwUD19ktu"
      }
    },
    {
      "cell_type": "code",
      "source": [
        "draw_boxplot('counts_pictures')"
      ],
      "metadata": {
        "colab": {
          "base_uri": "https://localhost:8080/",
          "height": 314
        },
        "id": "TJB3mXJB84XB",
        "outputId": "a8dc5c32-514d-4d09-a3e3-98b21a163657"
      },
      "execution_count": 14,
      "outputs": [
        {
          "output_type": "display_data",
          "data": {
            "image/png": "[encoded data removed]",
            "text/plain": [
              "<Figure size 432x288 with 1 Axes>"
            ]
          },
          "metadata": {
            "needs_background": "light"
          }
        },
        {
          "output_type": "stream",
          "name": "stdout",
          "text": [
            "outliers for column counts_pictures : 239\n"
          ]
        }
      ]
    },
    {
      "cell_type": "code",
      "source": [
        "# Removing outliers of counts_pictures\n",
        "print(\"Removing outliers of counts_pictures\\noriginal shape:\",df.shape)\n",
        "max_val = cal_max('counts_pictures')\n",
        "df = df[df['counts_pictures'] < max_val]\n",
        "print(\"after removal:\", df.shape)"
      ],
      "metadata": {
        "id": "NvDA6IODKhnT",
        "colab": {
          "base_uri": "https://localhost:8080/"
        },
        "outputId": "f639a649-f341-454f-df7a-11cfde8a076c"
      },
      "execution_count": 15,
      "outputs": [
        {
          "output_type": "stream",
          "name": "stdout",
          "text": [
            "Removing outliers of counts_pictures\n",
            "original shape: (3989, 42)\n",
            "after removal: (3704, 42)\n"
          ]
        }
      ]
    },
    {
      "cell_type": "markdown",
      "source": [
        "### 1.2.4 counts_profileVisits\n",
        "number of clicks on this user (to see his/her full profile) from other user accounts."
      ],
      "metadata": {
        "id": "TctB-alK93wu"
      }
    },
    {
      "cell_type": "code",
      "source": [
        "draw_boxplot('counts_profileVisits')"
      ],
      "metadata": {
        "colab": {
          "base_uri": "https://localhost:8080/",
          "height": 314
        },
        "id": "c_90rkMlCsUQ",
        "outputId": "dae22e19-c25b-4bce-fe69-48385d5df761"
      },
      "execution_count": 16,
      "outputs": [
        {
          "output_type": "display_data",
          "data": {
            "image/png": "[encoded data removed]",
            "text/plain": [
              "<Figure size 432x288 with 1 Axes>"
            ]
          },
          "metadata": {
            "needs_background": "light"
          }
        },
        {
          "output_type": "stream",
          "name": "stdout",
          "text": [
            "outliers for column counts_profileVisits : 376\n"
          ]
        }
      ]
    },
    {
      "cell_type": "code",
      "source": [
        "# Based on visualisation, replace profileVisits > 290000 with mean\n",
        "print(\"Rows with profileVisits > 29000: {} rows\" .format(len(df[(df['counts_profileVisits'] > 29000)])))\n",
        "\n",
        "# replace profileVisits > 29000 with mean\n",
        "df['counts_profileVisits'] = np.where(df['counts_profileVisits'] > 29000, df['counts_profileVisits'].mean(), df['counts_profileVisits'])\n",
        "print(\"replace profileVisits > 29000 with mean\")\n",
        "print(\"Rows with profileVisits > 29000: {} rows\" .format(len(df[(df['counts_profileVisits'] > 29000)])))"
      ],
      "metadata": {
        "colab": {
          "base_uri": "https://localhost:8080/"
        },
        "id": "PAHR5a2uCzmy",
        "outputId": "10ae546d-55ec-4d4f-c076-575ce655095e"
      },
      "execution_count": 17,
      "outputs": [
        {
          "output_type": "stream",
          "name": "stdout",
          "text": [
            "Rows with profileVisits > 29000: 29 rows\n",
            "replace profileVisits > 29000 with mean\n",
            "Rows with profileVisits > 29000: 0 rows\n"
          ]
        }
      ]
    },
    {
      "cell_type": "markdown",
      "source": [
        "### 1.2.5 counts_kisses\n",
        "Number of unique user accounts that \"liked\" (called \"kiss\" on the platform) this user account."
      ],
      "metadata": {
        "id": "8bCIduk7EDdW"
      }
    },
    {
      "cell_type": "code",
      "source": [
        "draw_boxplot('counts_kisses')"
      ],
      "metadata": {
        "colab": {
          "base_uri": "https://localhost:8080/",
          "height": 314
        },
        "id": "O92qBtn3EGCs",
        "outputId": "940e42c8-fe64-4bef-fa55-dd333c1f0ce9"
      },
      "execution_count": 18,
      "outputs": [
        {
          "output_type": "display_data",
          "data": {
            "image/png": "[encoded data removed]",
            "text/plain": [
              "<Figure size 432x288 with 1 Axes>"
            ]
          },
          "metadata": {
            "needs_background": "light"
          }
        },
        {
          "output_type": "stream",
          "name": "stdout",
          "text": [
            "outliers for column counts_kisses : 383\n"
          ]
        }
      ]
    },
    {
      "cell_type": "code",
      "source": [
        "# Based on visualisation, remove kisses > 2000 with means\n",
        "print(\"Rows with kisses > 2000: {} rows\" .format(len(df[(df['counts_kisses'] > 2000)])))\n",
        "df = df[df['counts_kisses'] < 2000]\n",
        "print(\"after removal:\", len(df[(df['counts_kisses'] > 2000)]))"
      ],
      "metadata": {
        "colab": {
          "base_uri": "https://localhost:8080/"
        },
        "id": "ruinSXYoEltN",
        "outputId": "8b6e8b94-888d-4cd3-bd66-18856769bb80"
      },
      "execution_count": 19,
      "outputs": [
        {
          "output_type": "stream",
          "name": "stdout",
          "text": [
            "Rows with kisses > 2000: 9 rows\n",
            "after removal: 0\n"
          ]
        }
      ]
    },
    {
      "cell_type": "markdown",
      "source": [
        "### 1.2.6 counts_fans\n",
        "Number of followers"
      ],
      "metadata": {
        "id": "X78toFiTFd9j"
      }
    },
    {
      "cell_type": "code",
      "source": [
        "fans_gb = df.groupby(['counts_fans'])['userId'].count().reset_index().rename(columns = {'userId' : 'count'})"
      ],
      "metadata": {
        "id": "71lavoRzIlMU"
      },
      "execution_count": 20,
      "outputs": []
    },
    {
      "cell_type": "code",
      "source": [
        "plt.figure(figsize=(15,6))\n",
        "sns.barplot(x=fans_gb['counts_fans'], y=fans_gb['count'], palette=\"rocket\")\n",
        "plt.title(\"counts_fans' Frequency\")\n",
        "plt.xlabel(\"# of Fans\")\n",
        "plt.ylabel(\"Number of User\")\n",
        "plt.show()"
      ],
      "metadata": {
        "colab": {
          "base_uri": "https://localhost:8080/",
          "height": 404
        },
        "id": "cxKtemLIIpYl",
        "outputId": "08c8c48f-fe21-4d49-b8f5-a706a5753752"
      },
      "execution_count": 21,
      "outputs": [
        {
          "output_type": "display_data",
          "data": {
            "image/png": "[encoded data removed]",
            "text/plain": [
              "<Figure size 1080x432 with 1 Axes>"
            ]
          },
          "metadata": {
            "needs_background": "light"
          }
        }
      ]
    },
    {
      "cell_type": "code",
      "source": [
        "# not a good feature, thus remove counts_fans\n",
        "print(\"Before removal:\",df.shape)\n",
        "df.drop(columns = ['counts_fans'], axis = 1, inplace = True)\n",
        "print(\"After removal:\",df.shape)"
      ],
      "metadata": {
        "colab": {
          "base_uri": "https://localhost:8080/"
        },
        "id": "nqf8Um_fIbCa",
        "outputId": "2d8f3b22-89d7-4666-b04f-141f6ff3be69"
      },
      "execution_count": 22,
      "outputs": [
        {
          "output_type": "stream",
          "name": "stdout",
          "text": [
            "Before removal: (3695, 42)\n",
            "After removal: (3695, 41)\n"
          ]
        }
      ]
    },
    {
      "cell_type": "markdown",
      "source": [
        "### 1.2.7 counts_g"
      ],
      "metadata": {
        "id": "Q0pbc23dJ3XC"
      }
    },
    {
      "cell_type": "code",
      "source": [
        "# No specific description about this column, thus remove\n",
        "print(\"Before removal:\",df.shape)\n",
        "df.drop(columns = ['counts_g'], axis = 1, inplace = True)\n",
        "print(\"After removal:\",df.shape)"
      ],
      "metadata": {
        "colab": {
          "base_uri": "https://localhost:8080/"
        },
        "id": "i09i3URuKGlJ",
        "outputId": "431f253b-fed7-46e9-a31e-a01affe4a77f"
      },
      "execution_count": 23,
      "outputs": [
        {
          "output_type": "stream",
          "name": "stdout",
          "text": [
            "Before removal: (3695, 41)\n",
            "After removal: (3695, 40)\n"
          ]
        }
      ]
    },
    {
      "cell_type": "markdown",
      "source": [
        "### 1.2.8 Gender - Gender Looking"
      ],
      "metadata": {
        "id": "w14YIiPvYlw-"
      }
    },
    {
      "cell_type": "code",
      "source": [
        "df.groupby(['gender','genderLooking'])['userId'].count().reset_index().rename(columns = {'userId' : 'count'})"
      ],
      "metadata": {
        "colab": {
          "base_uri": "https://localhost:8080/",
          "height": 174
        },
        "id": "B2S8FKvZYgDG",
        "outputId": "52a6613a-88a4-4fb8-c2a4-a83d54a78d21"
      },
      "execution_count": 24,
      "outputs": [
        {
          "output_type": "execute_result",
          "data": {
            "text/html": [
              "\n",
              "  <div id=\"df-26e530ed-f2e1-4a07-b252-5b11f97de533\">\n",
              "    <div class=\"colab-df-container\">\n",
              "      <div>\n",
              "<style scoped>\n",
              "    .dataframe tbody tr th:only-of-type {\n",
              "        vertical-align: middle;\n",
              "    }\n",
              "\n",
              "    .dataframe tbody tr th {\n",
              "        vertical-align: top;\n",
              "    }\n",
              "\n",
              "    .dataframe thead th {\n",
              "        text-align: right;\n",
              "    }\n",
              "</style>\n",
              "<table border=\"1\" class=\"dataframe\">\n",
              "  <thead>\n",
              "    <tr style=\"text-align: right;\">\n",
              "      <th></th>\n",
              "      <th>gender</th>\n",
              "      <th>genderLooking</th>\n",
              "      <th>count</th>\n",
              "    </tr>\n",
              "  </thead>\n",
              "  <tbody>\n",
              "    <tr>\n",
              "      <th>0</th>\n",
              "      <td>F</td>\n",
              "      <td>F</td>\n",
              "      <td>25</td>\n",
              "    </tr>\n",
              "    <tr>\n",
              "      <th>1</th>\n",
              "      <td>F</td>\n",
              "      <td>M</td>\n",
              "      <td>3317</td>\n",
              "    </tr>\n",
              "    <tr>\n",
              "      <th>2</th>\n",
              "      <td>F</td>\n",
              "      <td>both</td>\n",
              "      <td>16</td>\n",
              "    </tr>\n",
              "    <tr>\n",
              "      <th>3</th>\n",
              "      <td>F</td>\n",
              "      <td>none</td>\n",
              "      <td>337</td>\n",
              "    </tr>\n",
              "  </tbody>\n",
              "</table>\n",
              "</div>\n",
              "      <button class=\"colab-df-convert\" onclick=\"convertToInteractive('df-26e530ed-f2e1-4a07-b252-5b11f97de533')\"\n",
              "              title=\"Convert this dataframe to an interactive table.\"\n",
              "              style=\"display:none;\">\n",
              "        \n",
              "  <svg xmlns=\"http://www.w3.org/2000/svg\" height=\"24px\"viewBox=\"0 0 24 24\"\n",
              "       width=\"24px\">\n",
              "    <path d=\"M0 0h24v24H0V0z\" fill=\"none\"/>\n",
              "    <path d=\"M18.56 5.44l.94 2.06.94-2.06 2.06-.94-2.06-.94-.94-2.06-.94 2.06-2.06.94zm-11 1L8.5 8.5l.94-2.06 2.06-.94-2.06-.94L8.5 2.5l-.94 2.06-2.06.94zm10 10l.94 2.06.94-2.06 2.06-.94-2.06-.94-.94-2.06-.94 2.06-2.06.94z\"/><path d=\"M17.41 7.96l-1.37-1.37c-.4-.4-.92-.59-1.43-.59-.52 0-1.04.2-1.43.59L10.3 9.45l-7.72 7.72c-.78.78-.78 2.05 0 2.83L4 21.41c.39.39.9.59 1.41.59.51 0 1.02-.2 1.41-.59l7.78-7.78 2.81-2.81c.8-.78.8-2.07 0-2.86zM5.41 20L4 18.59l7.72-7.72 1.47 1.35L5.41 20z\"/>\n",
              "  </svg>\n",
              "      </button>\n",
              "      \n",
              "  <style>\n",
              "    .colab-df-container {\n",
              "      display:flex;\n",
              "      flex-wrap:wrap;\n",
              "      gap: 12px;\n",
              "    }\n",
              "\n",
              "    .colab-df-convert {\n",
              "      background-color: #E8F0FE;\n",
              "      border: none;\n",
              "      border-radius: 50%;\n",
              "      cursor: pointer;\n",
              "      display: none;\n",
              "      fill: #1967D2;\n",
              "      height: 32px;\n",
              "      padding: 0 0 0 0;\n",
              "      width: 32px;\n",
              "    }\n",
              "\n",
              "    .colab-df-convert:hover {\n",
              "      background-color: #E2EBFA;\n",
              "      box-shadow: 0px 1px 2px rgba(60, 64, 67, 0.3), 0px 1px 3px 1px rgba(60, 64, 67, 0.15);\n",
              "      fill: #174EA6;\n",
              "    }\n",
              "\n",
              "    [theme=dark] .colab-df-convert {\n",
              "      background-color: #3B4455;\n",
              "      fill: #D2E3FC;\n",
              "    }\n",
              "\n",
              "    [theme=dark] .colab-df-convert:hover {\n",
              "      background-color: #434B5C;\n",
              "      box-shadow: 0px 1px 3px 1px rgba(0, 0, 0, 0.15);\n",
              "      filter: drop-shadow(0px 1px 2px rgba(0, 0, 0, 0.3));\n",
              "      fill: #FFFFFF;\n",
              "    }\n",
              "  </style>\n",
              "\n",
              "      <script>\n",
              "        const buttonEl =\n",
              "          document.querySelector('#df-26e530ed-f2e1-4a07-b252-5b11f97de533 button.colab-df-convert');\n",
              "        buttonEl.style.display =\n",
              "          google.colab.kernel.accessAllowed ? 'block' : 'none';\n",
              "\n",
              "        async function convertToInteractive(key) {\n",
              "          const element = document.querySelector('#df-26e530ed-f2e1-4a07-b252-5b11f97de533');\n",
              "          const dataTable =\n",
              "            await google.colab.kernel.invokeFunction('convertToInteractive',\n",
              "                                                     [key], {});\n",
              "          if (!dataTable) return;\n",
              "\n",
              "          const docLinkHtml = 'Like what you see? Visit the ' +\n",
              "            '<a target=\"_blank\" href=https://colab.research.google.com/notebooks/data_table.ipynb>data table notebook</a>'\n",
              "            + ' to learn more about interactive tables.';\n",
              "          element.innerHTML = '';\n",
              "          dataTable['output_type'] = 'display_data';\n",
              "          await google.colab.output.renderOutput(dataTable, element);\n",
              "          const docLink = document.createElement('div');\n",
              "          docLink.innerHTML = docLinkHtml;\n",
              "          element.appendChild(docLink);\n",
              "        }\n",
              "      </script>\n",
              "    </div>\n",
              "  </div>\n",
              "  "
            ],
            "text/plain": [
              "  gender genderLooking  count\n",
              "0      F             F     25\n",
              "1      F             M   3317\n",
              "2      F          both     16\n",
              "3      F          none    337"
            ]
          },
          "metadata": {},
          "execution_count": 24
        }
      ]
    },
    {
      "cell_type": "markdown",
      "source": [
        "### 1.2.9 Language"
      ],
      "metadata": {
        "id": "k1FRCQf2cFi-"
      }
    },
    {
      "cell_type": "code",
      "source": [
        "lang_col = ['lang_fr', 'lang_en', 'lang_de', 'lang_it', 'lang_es', 'lang_pt']\n",
        "x_pos = 0\n",
        "figure, axis = plt.subplots(1, 6, figsize = (20,6))\n",
        "for c in lang_col:\n",
        "  vc = pd.DataFrame(df[c].value_counts())\n",
        "  axis[x_pos].pie(vc, labels = vc.index)\n",
        "  axis[x_pos].set_title(c)\n",
        "  x_pos += 1\n",
        "\n",
        "plt.show()"
      ],
      "metadata": {
        "colab": {
          "base_uri": "https://localhost:8080/",
          "height": 206
        },
        "id": "rkSY7ovxcai0",
        "outputId": "18078f56-2818-4501-92c1-6771783e6f6a"
      },
      "execution_count": 25,
      "outputs": [
        {
          "output_type": "display_data",
          "data": {
            "image/png": "[encoded data removed]",
            "text/plain": [
              "<Figure size 1440x432 with 6 Axes>"
            ]
          },
          "metadata": {}
        }
      ]
    },
    {
      "cell_type": "code",
      "source": [
        "# From the visualisation above, it seems that most users use lang_fr (France) or lang_de (German), thus keep these 2 columns, remove the rest\n",
        "print(\"Before removal:\",df.shape)\n",
        "df.drop(columns = ['lang_en','lang_it','lang_es','lang_pt'], inplace = True)\n",
        "print(\"After removal:\",df.shape)\n",
        "df.head(1)"
      ],
      "metadata": {
        "colab": {
          "base_uri": "https://localhost:8080/",
          "height": 249
        },
        "id": "2_Tz1iKaccsD",
        "outputId": "5c795df2-7ef9-449f-d511-0b2e6e78072e"
      },
      "execution_count": 26,
      "outputs": [
        {
          "output_type": "stream",
          "name": "stdout",
          "text": [
            "Before removal: (3695, 40)\n",
            "After removal: (3695, 36)\n"
          ]
        },
        {
          "output_type": "execute_result",
          "data": {
            "text/html": [
              "\n",
              "  <div id=\"df-903aaa7c-fc00-40fa-ab63-a945eb2ce257\">\n",
              "    <div class=\"colab-df-container\">\n",
              "      <div>\n",
              "<style scoped>\n",
              "    .dataframe tbody tr th:only-of-type {\n",
              "        vertical-align: middle;\n",
              "    }\n",
              "\n",
              "    .dataframe tbody tr th {\n",
              "        vertical-align: top;\n",
              "    }\n",
              "\n",
              "    .dataframe thead th {\n",
              "        text-align: right;\n",
              "    }\n",
              "</style>\n",
              "<table border=\"1\" class=\"dataframe\">\n",
              "  <thead>\n",
              "    <tr style=\"text-align: right;\">\n",
              "      <th></th>\n",
              "      <th>gender</th>\n",
              "      <th>genderLooking</th>\n",
              "      <th>age</th>\n",
              "      <th>name</th>\n",
              "      <th>counts_details</th>\n",
              "      <th>counts_pictures</th>\n",
              "      <th>counts_profileVisits</th>\n",
              "      <th>counts_kisses</th>\n",
              "      <th>flirtInterests_chat</th>\n",
              "      <th>flirtInterests_friends</th>\n",
              "      <th>flirtInterests_date</th>\n",
              "      <th>country</th>\n",
              "      <th>city</th>\n",
              "      <th>location</th>\n",
              "      <th>distance</th>\n",
              "      <th>isFlirtstar</th>\n",
              "      <th>isHighlighted</th>\n",
              "      <th>isInfluencer</th>\n",
              "      <th>isMobile</th>\n",
              "      <th>isNew</th>\n",
              "      <th>isOnline</th>\n",
              "      <th>isVip</th>\n",
              "      <th>lang_count</th>\n",
              "      <th>lang_fr</th>\n",
              "      <th>lang_de</th>\n",
              "      <th>verified</th>\n",
              "      <th>shareProfileEnabled</th>\n",
              "      <th>lastOnlineDate</th>\n",
              "      <th>lastOnlineTime</th>\n",
              "      <th>birthd</th>\n",
              "      <th>crypt</th>\n",
              "      <th>freetext</th>\n",
              "      <th>whazzup</th>\n",
              "      <th>userId</th>\n",
              "      <th>pictureId</th>\n",
              "      <th>isSystemProfile</th>\n",
              "    </tr>\n",
              "  </thead>\n",
              "  <tbody>\n",
              "    <tr>\n",
              "      <th>0</th>\n",
              "      <td>F</td>\n",
              "      <td>M</td>\n",
              "      <td>25</td>\n",
              "      <td>daeni</td>\n",
              "      <td>1.0</td>\n",
              "      <td>4</td>\n",
              "      <td>8279.0</td>\n",
              "      <td>239</td>\n",
              "      <td>True</td>\n",
              "      <td>True</td>\n",
              "      <td>True</td>\n",
              "      <td>CH</td>\n",
              "      <td>Rothenburg</td>\n",
              "      <td>Rümlang</td>\n",
              "      <td>175.0</td>\n",
              "      <td>0</td>\n",
              "      <td>0</td>\n",
              "      <td>0</td>\n",
              "      <td>1</td>\n",
              "      <td>0</td>\n",
              "      <td>0</td>\n",
              "      <td>0</td>\n",
              "      <td>1</td>\n",
              "      <td>False</td>\n",
              "      <td>True</td>\n",
              "      <td>0</td>\n",
              "      <td>1</td>\n",
              "      <td>2015-04-25T20:43:26Z</td>\n",
              "      <td>1.429995e+09</td>\n",
              "      <td>0</td>\n",
              "      <td>NaN</td>\n",
              "      <td>Nur tote Fisch schwimmen mit dem Strom</td>\n",
              "      <td>Nur tote fische schwimmen mit dem strom</td>\n",
              "      <td>4e3842f79b70e7ea57000064</td>\n",
              "      <td>55303fc3160ba0eb728b4575</td>\n",
              "      <td>NaN</td>\n",
              "    </tr>\n",
              "  </tbody>\n",
              "</table>\n",
              "</div>\n",
              "      <button class=\"colab-df-convert\" onclick=\"convertToInteractive('df-903aaa7c-fc00-40fa-ab63-a945eb2ce257')\"\n",
              "              title=\"Convert this dataframe to an interactive table.\"\n",
              "              style=\"display:none;\">\n",
              "        \n",
              "  <svg xmlns=\"http://www.w3.org/2000/svg\" height=\"24px\"viewBox=\"0 0 24 24\"\n",
              "       width=\"24px\">\n",
              "    <path d=\"M0 0h24v24H0V0z\" fill=\"none\"/>\n",
              "    <path d=\"M18.56 5.44l.94 2.06.94-2.06 2.06-.94-2.06-.94-.94-2.06-.94 2.06-2.06.94zm-11 1L8.5 8.5l.94-2.06 2.06-.94-2.06-.94L8.5 2.5l-.94 2.06-2.06.94zm10 10l.94 2.06.94-2.06 2.06-.94-2.06-.94-.94-2.06-.94 2.06-2.06.94z\"/><path d=\"M17.41 7.96l-1.37-1.37c-.4-.4-.92-.59-1.43-.59-.52 0-1.04.2-1.43.59L10.3 9.45l-7.72 7.72c-.78.78-.78 2.05 0 2.83L4 21.41c.39.39.9.59 1.41.59.51 0 1.02-.2 1.41-.59l7.78-7.78 2.81-2.81c.8-.78.8-2.07 0-2.86zM5.41 20L4 18.59l7.72-7.72 1.47 1.35L5.41 20z\"/>\n",
              "  </svg>\n",
              "      </button>\n",
              "      \n",
              "  <style>\n",
              "    .colab-df-container {\n",
              "      display:flex;\n",
              "      flex-wrap:wrap;\n",
              "      gap: 12px;\n",
              "    }\n",
              "\n",
              "    .colab-df-convert {\n",
              "      background-color: #E8F0FE;\n",
              "      border: none;\n",
              "      border-radius: 50%;\n",
              "      cursor: pointer;\n",
              "      display: none;\n",
              "      fill: #1967D2;\n",
              "      height: 32px;\n",
              "      padding: 0 0 0 0;\n",
              "      width: 32px;\n",
              "    }\n",
              "\n",
              "    .colab-df-convert:hover {\n",
              "      background-color: #E2EBFA;\n",
              "      box-shadow: 0px 1px 2px rgba(60, 64, 67, 0.3), 0px 1px 3px 1px rgba(60, 64, 67, 0.15);\n",
              "      fill: #174EA6;\n",
              "    }\n",
              "\n",
              "    [theme=dark] .colab-df-convert {\n",
              "      background-color: #3B4455;\n",
              "      fill: #D2E3FC;\n",
              "    }\n",
              "\n",
              "    [theme=dark] .colab-df-convert:hover {\n",
              "      background-color: #434B5C;\n",
              "      box-shadow: 0px 1px 3px 1px rgba(0, 0, 0, 0.15);\n",
              "      filter: drop-shadow(0px 1px 2px rgba(0, 0, 0, 0.3));\n",
              "      fill: #FFFFFF;\n",
              "    }\n",
              "  </style>\n",
              "\n",
              "      <script>\n",
              "        const buttonEl =\n",
              "          document.querySelector('#df-903aaa7c-fc00-40fa-ab63-a945eb2ce257 button.colab-df-convert');\n",
              "        buttonEl.style.display =\n",
              "          google.colab.kernel.accessAllowed ? 'block' : 'none';\n",
              "\n",
              "        async function convertToInteractive(key) {\n",
              "          const element = document.querySelector('#df-903aaa7c-fc00-40fa-ab63-a945eb2ce257');\n",
              "          const dataTable =\n",
              "            await google.colab.kernel.invokeFunction('convertToInteractive',\n",
              "                                                     [key], {});\n",
              "          if (!dataTable) return;\n",
              "\n",
              "          const docLinkHtml = 'Like what you see? Visit the ' +\n",
              "            '<a target=\"_blank\" href=https://colab.research.google.com/notebooks/data_table.ipynb>data table notebook</a>'\n",
              "            + ' to learn more about interactive tables.';\n",
              "          element.innerHTML = '';\n",
              "          dataTable['output_type'] = 'display_data';\n",
              "          await google.colab.output.renderOutput(dataTable, element);\n",
              "          const docLink = document.createElement('div');\n",
              "          docLink.innerHTML = docLinkHtml;\n",
              "          element.appendChild(docLink);\n",
              "        }\n",
              "      </script>\n",
              "    </div>\n",
              "  </div>\n",
              "  "
            ],
            "text/plain": [
              "  gender genderLooking  ...                 pictureId isSystemProfile\n",
              "0      F             M  ...  55303fc3160ba0eb728b4575             NaN\n",
              "\n",
              "[1 rows x 36 columns]"
            ]
          },
          "metadata": {},
          "execution_count": 26
        }
      ]
    },
    {
      "cell_type": "markdown",
      "source": [
        "### 1.2.10 isFlirtstar, isHighlighted, isInfluencer, isMobile, isNew, isOnline, isVIP, crypt, isSystemProfile\n",
        "\n",
        "**isFlirtstar**: Whether the user account that fetched the dataset \"liked\" this user's profile.\n",
        "\n",
        "**isHighlighted**: Whether the user's profile is currently highlighted (at fetch time) [A user can use in-app currency to have one's profile temporarily highlighted and get more impressions/matches]\n",
        "\n",
        "**isInfluencer**: Whether this is an influencer account\n",
        "\n",
        "**isMobile**: Whether the user uses the mobile app \n",
        "\n",
        "**isNew**: The user account is recently created\n",
        "\n",
        "**isOnline**: 1 if the user was connected at time of fetch\n",
        "\n",
        "**isVip**: 1 if the user is VIP. [It was possible to buy a VIP status with real money. This status came with benefits.]\n",
        "\n",
        "**crypt**: NA\n",
        "\n",
        "**isSystemProfile**: Whether this user account is one of the website's own account (moderators, community managers, ...)"
      ],
      "metadata": {
        "id": "R3wtOJrlhZ3U"
      }
    },
    {
      "cell_type": "code",
      "source": [
        "is_col = ['isFlirtstar', 'isHighlighted', 'isInfluencer', 'isMobile', 'isNew', 'isOnline', 'isVip', 'isSystemProfile']\n",
        "x_pos = 0\n",
        "figure, axis = plt.subplots(1, 8, figsize = (25,7))\n",
        "for c in is_col:\n",
        "  vc = pd.DataFrame(df[c].value_counts())\n",
        "  axis[x_pos].pie(vc, labels = vc.index, autopct='%.2f')\n",
        "  axis[x_pos].set_title(c)\n",
        "  x_pos += 1\n",
        "\n",
        "plt.show()"
      ],
      "metadata": {
        "colab": {
          "base_uri": "https://localhost:8080/",
          "height": 195
        },
        "id": "uDlk9XWxh3JG",
        "outputId": "1be2447c-07fb-43fa-dbb5-d8d6a956266a"
      },
      "execution_count": 27,
      "outputs": [
        {
          "output_type": "display_data",
          "data": {
            "image/png": "[encoded data removed]",
            "text/plain": [
              "<Figure size 1800x504 with 8 Axes>"
            ]
          },
          "metadata": {}
        }
      ]
    },
    {
      "cell_type": "markdown",
      "source": [
        "Looking at the pie charts above, removing isFlirtstar, isHighlighted, isInfluencerm, isOnline, crypt, isSystemProfile because:\n",
        "1. isFlirtstar: based on the user who fetched the data\n",
        "2. isHighlighted, isOnline: real time data which now is a past data\n",
        "3. isInfluencer: No pattern as all users are not influencer\n",
        "4. crypt: no clear description, most probably crypt is enabled/or not\n",
        "5. isSystemProfile: as no one is a system profile"
      ],
      "metadata": {
        "id": "NkzW8MfijuAw"
      }
    },
    {
      "cell_type": "code",
      "source": [
        "print(\"Before removal:\",df.shape)\n",
        "df.drop(columns = ['isFlirtstar', 'isHighlighted', 'isInfluencer', 'isOnline', 'crypt', 'isSystemProfile'], inplace = True)\n",
        "print(\"After removal:\",df.shape)\n",
        "df.head(1)"
      ],
      "metadata": {
        "colab": {
          "base_uri": "https://localhost:8080/",
          "height": 249
        },
        "id": "Mb48-hzhi0b4",
        "outputId": "35b75695-17e3-4560-924f-e9d68df3c654"
      },
      "execution_count": 28,
      "outputs": [
        {
          "output_type": "stream",
          "name": "stdout",
          "text": [
            "Before removal: (3695, 36)\n",
            "After removal: (3695, 30)\n"
          ]
        },
        {
          "output_type": "execute_result",
          "data": {
            "text/html": [
              "\n",
              "  <div id=\"df-e7570380-a50b-4278-8aac-2a9a2d23ee70\">\n",
              "    <div class=\"colab-df-container\">\n",
              "      <div>\n",
              "<style scoped>\n",
              "    .dataframe tbody tr th:only-of-type {\n",
              "        vertical-align: middle;\n",
              "    }\n",
              "\n",
              "    .dataframe tbody tr th {\n",
              "        vertical-align: top;\n",
              "    }\n",
              "\n",
              "    .dataframe thead th {\n",
              "        text-align: right;\n",
              "    }\n",
              "</style>\n",
              "<table border=\"1\" class=\"dataframe\">\n",
              "  <thead>\n",
              "    <tr style=\"text-align: right;\">\n",
              "      <th></th>\n",
              "      <th>gender</th>\n",
              "      <th>genderLooking</th>\n",
              "      <th>age</th>\n",
              "      <th>name</th>\n",
              "      <th>counts_details</th>\n",
              "      <th>counts_pictures</th>\n",
              "      <th>counts_profileVisits</th>\n",
              "      <th>counts_kisses</th>\n",
              "      <th>flirtInterests_chat</th>\n",
              "      <th>flirtInterests_friends</th>\n",
              "      <th>flirtInterests_date</th>\n",
              "      <th>country</th>\n",
              "      <th>city</th>\n",
              "      <th>location</th>\n",
              "      <th>distance</th>\n",
              "      <th>isMobile</th>\n",
              "      <th>isNew</th>\n",
              "      <th>isVip</th>\n",
              "      <th>lang_count</th>\n",
              "      <th>lang_fr</th>\n",
              "      <th>lang_de</th>\n",
              "      <th>verified</th>\n",
              "      <th>shareProfileEnabled</th>\n",
              "      <th>lastOnlineDate</th>\n",
              "      <th>lastOnlineTime</th>\n",
              "      <th>birthd</th>\n",
              "      <th>freetext</th>\n",
              "      <th>whazzup</th>\n",
              "      <th>userId</th>\n",
              "      <th>pictureId</th>\n",
              "    </tr>\n",
              "  </thead>\n",
              "  <tbody>\n",
              "    <tr>\n",
              "      <th>0</th>\n",
              "      <td>F</td>\n",
              "      <td>M</td>\n",
              "      <td>25</td>\n",
              "      <td>daeni</td>\n",
              "      <td>1.0</td>\n",
              "      <td>4</td>\n",
              "      <td>8279.0</td>\n",
              "      <td>239</td>\n",
              "      <td>True</td>\n",
              "      <td>True</td>\n",
              "      <td>True</td>\n",
              "      <td>CH</td>\n",
              "      <td>Rothenburg</td>\n",
              "      <td>Rümlang</td>\n",
              "      <td>175.0</td>\n",
              "      <td>1</td>\n",
              "      <td>0</td>\n",
              "      <td>0</td>\n",
              "      <td>1</td>\n",
              "      <td>False</td>\n",
              "      <td>True</td>\n",
              "      <td>0</td>\n",
              "      <td>1</td>\n",
              "      <td>2015-04-25T20:43:26Z</td>\n",
              "      <td>1.429995e+09</td>\n",
              "      <td>0</td>\n",
              "      <td>Nur tote Fisch schwimmen mit dem Strom</td>\n",
              "      <td>Nur tote fische schwimmen mit dem strom</td>\n",
              "      <td>4e3842f79b70e7ea57000064</td>\n",
              "      <td>55303fc3160ba0eb728b4575</td>\n",
              "    </tr>\n",
              "  </tbody>\n",
              "</table>\n",
              "</div>\n",
              "      <button class=\"colab-df-convert\" onclick=\"convertToInteractive('df-e7570380-a50b-4278-8aac-2a9a2d23ee70')\"\n",
              "              title=\"Convert this dataframe to an interactive table.\"\n",
              "              style=\"display:none;\">\n",
              "        \n",
              "  <svg xmlns=\"http://www.w3.org/2000/svg\" height=\"24px\"viewBox=\"0 0 24 24\"\n",
              "       width=\"24px\">\n",
              "    <path d=\"M0 0h24v24H0V0z\" fill=\"none\"/>\n",
              "    <path d=\"M18.56 5.44l.94 2.06.94-2.06 2.06-.94-2.06-.94-.94-2.06-.94 2.06-2.06.94zm-11 1L8.5 8.5l.94-2.06 2.06-.94-2.06-.94L8.5 2.5l-.94 2.06-2.06.94zm10 10l.94 2.06.94-2.06 2.06-.94-2.06-.94-.94-2.06-.94 2.06-2.06.94z\"/><path d=\"M17.41 7.96l-1.37-1.37c-.4-.4-.92-.59-1.43-.59-.52 0-1.04.2-1.43.59L10.3 9.45l-7.72 7.72c-.78.78-.78 2.05 0 2.83L4 21.41c.39.39.9.59 1.41.59.51 0 1.02-.2 1.41-.59l7.78-7.78 2.81-2.81c.8-.78.8-2.07 0-2.86zM5.41 20L4 18.59l7.72-7.72 1.47 1.35L5.41 20z\"/>\n",
              "  </svg>\n",
              "      </button>\n",
              "      \n",
              "  <style>\n",
              "    .colab-df-container {\n",
              "      display:flex;\n",
              "      flex-wrap:wrap;\n",
              "      gap: 12px;\n",
              "    }\n",
              "\n",
              "    .colab-df-convert {\n",
              "      background-color: #E8F0FE;\n",
              "      border: none;\n",
              "      border-radius: 50%;\n",
              "      cursor: pointer;\n",
              "      display: none;\n",
              "      fill: #1967D2;\n",
              "      height: 32px;\n",
              "      padding: 0 0 0 0;\n",
              "      width: 32px;\n",
              "    }\n",
              "\n",
              "    .colab-df-convert:hover {\n",
              "      background-color: #E2EBFA;\n",
              "      box-shadow: 0px 1px 2px rgba(60, 64, 67, 0.3), 0px 1px 3px 1px rgba(60, 64, 67, 0.15);\n",
              "      fill: #174EA6;\n",
              "    }\n",
              "\n",
              "    [theme=dark] .colab-df-convert {\n",
              "      background-color: #3B4455;\n",
              "      fill: #D2E3FC;\n",
              "    }\n",
              "\n",
              "    [theme=dark] .colab-df-convert:hover {\n",
              "      background-color: #434B5C;\n",
              "      box-shadow: 0px 1px 3px 1px rgba(0, 0, 0, 0.15);\n",
              "      filter: drop-shadow(0px 1px 2px rgba(0, 0, 0, 0.3));\n",
              "      fill: #FFFFFF;\n",
              "    }\n",
              "  </style>\n",
              "\n",
              "      <script>\n",
              "        const buttonEl =\n",
              "          document.querySelector('#df-e7570380-a50b-4278-8aac-2a9a2d23ee70 button.colab-df-convert');\n",
              "        buttonEl.style.display =\n",
              "          google.colab.kernel.accessAllowed ? 'block' : 'none';\n",
              "\n",
              "        async function convertToInteractive(key) {\n",
              "          const element = document.querySelector('#df-e7570380-a50b-4278-8aac-2a9a2d23ee70');\n",
              "          const dataTable =\n",
              "            await google.colab.kernel.invokeFunction('convertToInteractive',\n",
              "                                                     [key], {});\n",
              "          if (!dataTable) return;\n",
              "\n",
              "          const docLinkHtml = 'Like what you see? Visit the ' +\n",
              "            '<a target=\"_blank\" href=https://colab.research.google.com/notebooks/data_table.ipynb>data table notebook</a>'\n",
              "            + ' to learn more about interactive tables.';\n",
              "          element.innerHTML = '';\n",
              "          dataTable['output_type'] = 'display_data';\n",
              "          await google.colab.output.renderOutput(dataTable, element);\n",
              "          const docLink = document.createElement('div');\n",
              "          docLink.innerHTML = docLinkHtml;\n",
              "          element.appendChild(docLink);\n",
              "        }\n",
              "      </script>\n",
              "    </div>\n",
              "  </div>\n",
              "  "
            ],
            "text/plain": [
              "  gender genderLooking  ...                    userId                 pictureId\n",
              "0      F             M  ...  4e3842f79b70e7ea57000064  55303fc3160ba0eb728b4575\n",
              "\n",
              "[1 rows x 30 columns]"
            ]
          },
          "metadata": {},
          "execution_count": 28
        }
      ]
    },
    {
      "cell_type": "markdown",
      "source": [
        "Removing isNew = 1 because new users usually do not have pattern"
      ],
      "metadata": {
        "id": "27G0tP-qgQqr"
      }
    },
    {
      "cell_type": "code",
      "source": [
        "print(\"Number of new users: {}\".format(len(df[(df['isNew'] == 1)])))\n",
        "df =  df[(df['isNew'] == 0)]\n",
        "print(\"Number of new users: {}\".format(len(df[(df['isNew'] == 1)])))"
      ],
      "metadata": {
        "colab": {
          "base_uri": "https://localhost:8080/"
        },
        "id": "MmGlA5A_gqkA",
        "outputId": "feb7ec6e-c680-463e-997d-640e2210bc69"
      },
      "execution_count": 29,
      "outputs": [
        {
          "output_type": "stream",
          "name": "stdout",
          "text": [
            "Number of new users: 948\n",
            "Number of new users: 0\n"
          ]
        }
      ]
    },
    {
      "cell_type": "markdown",
      "source": [
        "## 1.3 Get The Features Ready\n",
        "+ some columns removal, encoding"
      ],
      "metadata": {
        "id": "XSg9ePisKF_4"
      }
    },
    {
      "cell_type": "code",
      "source": [
        "def count_bool(df,col):\n",
        "  count = 0\n",
        "  \n",
        "  for c in col:\n",
        "    if df[c]:\n",
        "      count += 1\n",
        " \n",
        "  return count"
      ],
      "metadata": {
        "id": "5uTIfa3_LJGQ"
      },
      "execution_count": 30,
      "outputs": []
    },
    {
      "cell_type": "markdown",
      "source": [
        "### 1.3.1 flirtInterest\n",
        "This influencse the recommendation and matching algorithm\n",
        "\n",
        "**chat**: Whether the user indicated being in search for people to chat with\n",
        "\n",
        "**friends**: Whether the user indicated being open to making friends.\n",
        "\n",
        "**date**: Whether the user indicated being open to dating people. \n"
      ],
      "metadata": {
        "id": "twkhjAiJKdzb"
      }
    },
    {
      "cell_type": "code",
      "source": [
        "df['flirtInterests'] = df.apply(lambda x: count_bool(x, ['flirtInterests_chat', 'flirtInterests_friends', 'flirtInterests_date']), axis = 1)"
      ],
      "metadata": {
        "id": "7qndTe_fKdBT"
      },
      "execution_count": 31,
      "outputs": []
    },
    {
      "cell_type": "code",
      "source": [
        "# Removing 'flirtInterests_chat', 'flirtInterests_friends', 'flirtInterests_date'\n",
        "print(\"Before removal:\",df.shape)\n",
        "df.drop(columns = ['flirtInterests_chat', 'flirtInterests_friends', 'flirtInterests_date'], inplace = True)\n",
        "print(\"After removal:\",df.shape)\n",
        "df.head(1)"
      ],
      "metadata": {
        "colab": {
          "base_uri": "https://localhost:8080/",
          "height": 249
        },
        "id": "iDtzm_Vem5aD",
        "outputId": "acaa4899-5a63-478f-aa70-6493610d52d7"
      },
      "execution_count": 32,
      "outputs": [
        {
          "output_type": "stream",
          "name": "stdout",
          "text": [
            "Before removal: (2747, 31)\n",
            "After removal: (2747, 28)\n"
          ]
        },
        {
          "output_type": "execute_result",
          "data": {
            "text/html": [
              "\n",
              "  <div id=\"df-63b8152e-079e-42a5-8076-b6e9b14becf8\">\n",
              "    <div class=\"colab-df-container\">\n",
              "      <div>\n",
              "<style scoped>\n",
              "    .dataframe tbody tr th:only-of-type {\n",
              "        vertical-align: middle;\n",
              "    }\n",
              "\n",
              "    .dataframe tbody tr th {\n",
              "        vertical-align: top;\n",
              "    }\n",
              "\n",
              "    .dataframe thead th {\n",
              "        text-align: right;\n",
              "    }\n",
              "</style>\n",
              "<table border=\"1\" class=\"dataframe\">\n",
              "  <thead>\n",
              "    <tr style=\"text-align: right;\">\n",
              "      <th></th>\n",
              "      <th>gender</th>\n",
              "      <th>genderLooking</th>\n",
              "      <th>age</th>\n",
              "      <th>name</th>\n",
              "      <th>counts_details</th>\n",
              "      <th>counts_pictures</th>\n",
              "      <th>counts_profileVisits</th>\n",
              "      <th>counts_kisses</th>\n",
              "      <th>country</th>\n",
              "      <th>city</th>\n",
              "      <th>location</th>\n",
              "      <th>distance</th>\n",
              "      <th>isMobile</th>\n",
              "      <th>isNew</th>\n",
              "      <th>isVip</th>\n",
              "      <th>lang_count</th>\n",
              "      <th>lang_fr</th>\n",
              "      <th>lang_de</th>\n",
              "      <th>verified</th>\n",
              "      <th>shareProfileEnabled</th>\n",
              "      <th>lastOnlineDate</th>\n",
              "      <th>lastOnlineTime</th>\n",
              "      <th>birthd</th>\n",
              "      <th>freetext</th>\n",
              "      <th>whazzup</th>\n",
              "      <th>userId</th>\n",
              "      <th>pictureId</th>\n",
              "      <th>flirtInterests</th>\n",
              "    </tr>\n",
              "  </thead>\n",
              "  <tbody>\n",
              "    <tr>\n",
              "      <th>0</th>\n",
              "      <td>F</td>\n",
              "      <td>M</td>\n",
              "      <td>25</td>\n",
              "      <td>daeni</td>\n",
              "      <td>1.0</td>\n",
              "      <td>4</td>\n",
              "      <td>8279.0</td>\n",
              "      <td>239</td>\n",
              "      <td>CH</td>\n",
              "      <td>Rothenburg</td>\n",
              "      <td>Rümlang</td>\n",
              "      <td>175.0</td>\n",
              "      <td>1</td>\n",
              "      <td>0</td>\n",
              "      <td>0</td>\n",
              "      <td>1</td>\n",
              "      <td>False</td>\n",
              "      <td>True</td>\n",
              "      <td>0</td>\n",
              "      <td>1</td>\n",
              "      <td>2015-04-25T20:43:26Z</td>\n",
              "      <td>1.429995e+09</td>\n",
              "      <td>0</td>\n",
              "      <td>Nur tote Fisch schwimmen mit dem Strom</td>\n",
              "      <td>Nur tote fische schwimmen mit dem strom</td>\n",
              "      <td>4e3842f79b70e7ea57000064</td>\n",
              "      <td>55303fc3160ba0eb728b4575</td>\n",
              "      <td>3</td>\n",
              "    </tr>\n",
              "  </tbody>\n",
              "</table>\n",
              "</div>\n",
              "      <button class=\"colab-df-convert\" onclick=\"convertToInteractive('df-63b8152e-079e-42a5-8076-b6e9b14becf8')\"\n",
              "              title=\"Convert this dataframe to an interactive table.\"\n",
              "              style=\"display:none;\">\n",
              "        \n",
              "  <svg xmlns=\"http://www.w3.org/2000/svg\" height=\"24px\"viewBox=\"0 0 24 24\"\n",
              "       width=\"24px\">\n",
              "    <path d=\"M0 0h24v24H0V0z\" fill=\"none\"/>\n",
              "    <path d=\"M18.56 5.44l.94 2.06.94-2.06 2.06-.94-2.06-.94-.94-2.06-.94 2.06-2.06.94zm-11 1L8.5 8.5l.94-2.06 2.06-.94-2.06-.94L8.5 2.5l-.94 2.06-2.06.94zm10 10l.94 2.06.94-2.06 2.06-.94-2.06-.94-.94-2.06-.94 2.06-2.06.94z\"/><path d=\"M17.41 7.96l-1.37-1.37c-.4-.4-.92-.59-1.43-.59-.52 0-1.04.2-1.43.59L10.3 9.45l-7.72 7.72c-.78.78-.78 2.05 0 2.83L4 21.41c.39.39.9.59 1.41.59.51 0 1.02-.2 1.41-.59l7.78-7.78 2.81-2.81c.8-.78.8-2.07 0-2.86zM5.41 20L4 18.59l7.72-7.72 1.47 1.35L5.41 20z\"/>\n",
              "  </svg>\n",
              "      </button>\n",
              "      \n",
              "  <style>\n",
              "    .colab-df-container {\n",
              "      display:flex;\n",
              "      flex-wrap:wrap;\n",
              "      gap: 12px;\n",
              "    }\n",
              "\n",
              "    .colab-df-convert {\n",
              "      background-color: #E8F0FE;\n",
              "      border: none;\n",
              "      border-radius: 50%;\n",
              "      cursor: pointer;\n",
              "      display: none;\n",
              "      fill: #1967D2;\n",
              "      height: 32px;\n",
              "      padding: 0 0 0 0;\n",
              "      width: 32px;\n",
              "    }\n",
              "\n",
              "    .colab-df-convert:hover {\n",
              "      background-color: #E2EBFA;\n",
              "      box-shadow: 0px 1px 2px rgba(60, 64, 67, 0.3), 0px 1px 3px 1px rgba(60, 64, 67, 0.15);\n",
              "      fill: #174EA6;\n",
              "    }\n",
              "\n",
              "    [theme=dark] .colab-df-convert {\n",
              "      background-color: #3B4455;\n",
              "      fill: #D2E3FC;\n",
              "    }\n",
              "\n",
              "    [theme=dark] .colab-df-convert:hover {\n",
              "      background-color: #434B5C;\n",
              "      box-shadow: 0px 1px 3px 1px rgba(0, 0, 0, 0.15);\n",
              "      filter: drop-shadow(0px 1px 2px rgba(0, 0, 0, 0.3));\n",
              "      fill: #FFFFFF;\n",
              "    }\n",
              "  </style>\n",
              "\n",
              "      <script>\n",
              "        const buttonEl =\n",
              "          document.querySelector('#df-63b8152e-079e-42a5-8076-b6e9b14becf8 button.colab-df-convert');\n",
              "        buttonEl.style.display =\n",
              "          google.colab.kernel.accessAllowed ? 'block' : 'none';\n",
              "\n",
              "        async function convertToInteractive(key) {\n",
              "          const element = document.querySelector('#df-63b8152e-079e-42a5-8076-b6e9b14becf8');\n",
              "          const dataTable =\n",
              "            await google.colab.kernel.invokeFunction('convertToInteractive',\n",
              "                                                     [key], {});\n",
              "          if (!dataTable) return;\n",
              "\n",
              "          const docLinkHtml = 'Like what you see? Visit the ' +\n",
              "            '<a target=\"_blank\" href=https://colab.research.google.com/notebooks/data_table.ipynb>data table notebook</a>'\n",
              "            + ' to learn more about interactive tables.';\n",
              "          element.innerHTML = '';\n",
              "          dataTable['output_type'] = 'display_data';\n",
              "          await google.colab.output.renderOutput(dataTable, element);\n",
              "          const docLink = document.createElement('div');\n",
              "          docLink.innerHTML = docLinkHtml;\n",
              "          element.appendChild(docLink);\n",
              "        }\n",
              "      </script>\n",
              "    </div>\n",
              "  </div>\n",
              "  "
            ],
            "text/plain": [
              "  gender genderLooking  ...                 pictureId flirtInterests\n",
              "0      F             M  ...  55303fc3160ba0eb728b4575              3\n",
              "\n",
              "[1 rows x 28 columns]"
            ]
          },
          "metadata": {},
          "execution_count": 32
        }
      ]
    },
    {
      "cell_type": "markdown",
      "source": [
        "### 1.3.2 Add Continent"
      ],
      "metadata": {
        "id": "Y-yHxxBmaG8b"
      }
    },
    {
      "cell_type": "code",
      "source": [
        "loc = pd.read_csv(\"/content/drive/MyDrive/Loovo/countryContinent.csv\", encoding= 'unicode_escape')\n",
        "loc.head(1)"
      ],
      "metadata": {
        "colab": {
          "base_uri": "https://localhost:8080/",
          "height": 81
        },
        "id": "2NlxrKfTL4_B",
        "outputId": "69100c77-718e-474a-bfe5-f554b7f81735"
      },
      "execution_count": 33,
      "outputs": [
        {
          "output_type": "execute_result",
          "data": {
            "text/html": [
              "\n",
              "  <div id=\"df-26a6ae16-0c3f-4d7e-a711-4272afbcfd26\">\n",
              "    <div class=\"colab-df-container\">\n",
              "      <div>\n",
              "<style scoped>\n",
              "    .dataframe tbody tr th:only-of-type {\n",
              "        vertical-align: middle;\n",
              "    }\n",
              "\n",
              "    .dataframe tbody tr th {\n",
              "        vertical-align: top;\n",
              "    }\n",
              "\n",
              "    .dataframe thead th {\n",
              "        text-align: right;\n",
              "    }\n",
              "</style>\n",
              "<table border=\"1\" class=\"dataframe\">\n",
              "  <thead>\n",
              "    <tr style=\"text-align: right;\">\n",
              "      <th></th>\n",
              "      <th>country</th>\n",
              "      <th>code_2</th>\n",
              "      <th>code_3</th>\n",
              "      <th>country_code</th>\n",
              "      <th>iso_3166_2</th>\n",
              "      <th>continent</th>\n",
              "      <th>sub_region</th>\n",
              "      <th>region_code</th>\n",
              "      <th>sub_region_code</th>\n",
              "    </tr>\n",
              "  </thead>\n",
              "  <tbody>\n",
              "    <tr>\n",
              "      <th>0</th>\n",
              "      <td>Afghanistan</td>\n",
              "      <td>AF</td>\n",
              "      <td>AFG</td>\n",
              "      <td>4</td>\n",
              "      <td>ISO 3166-2:AF</td>\n",
              "      <td>Asia</td>\n",
              "      <td>Southern Asia</td>\n",
              "      <td>142.0</td>\n",
              "      <td>34.0</td>\n",
              "    </tr>\n",
              "  </tbody>\n",
              "</table>\n",
              "</div>\n",
              "      <button class=\"colab-df-convert\" onclick=\"convertToInteractive('df-26a6ae16-0c3f-4d7e-a711-4272afbcfd26')\"\n",
              "              title=\"Convert this dataframe to an interactive table.\"\n",
              "              style=\"display:none;\">\n",
              "        \n",
              "  <svg xmlns=\"http://www.w3.org/2000/svg\" height=\"24px\"viewBox=\"0 0 24 24\"\n",
              "       width=\"24px\">\n",
              "    <path d=\"M0 0h24v24H0V0z\" fill=\"none\"/>\n",
              "    <path d=\"M18.56 5.44l.94 2.06.94-2.06 2.06-.94-2.06-.94-.94-2.06-.94 2.06-2.06.94zm-11 1L8.5 8.5l.94-2.06 2.06-.94-2.06-.94L8.5 2.5l-.94 2.06-2.06.94zm10 10l.94 2.06.94-2.06 2.06-.94-2.06-.94-.94-2.06-.94 2.06-2.06.94z\"/><path d=\"M17.41 7.96l-1.37-1.37c-.4-.4-.92-.59-1.43-.59-.52 0-1.04.2-1.43.59L10.3 9.45l-7.72 7.72c-.78.78-.78 2.05 0 2.83L4 21.41c.39.39.9.59 1.41.59.51 0 1.02-.2 1.41-.59l7.78-7.78 2.81-2.81c.8-.78.8-2.07 0-2.86zM5.41 20L4 18.59l7.72-7.72 1.47 1.35L5.41 20z\"/>\n",
              "  </svg>\n",
              "      </button>\n",
              "      \n",
              "  <style>\n",
              "    .colab-df-container {\n",
              "      display:flex;\n",
              "      flex-wrap:wrap;\n",
              "      gap: 12px;\n",
              "    }\n",
              "\n",
              "    .colab-df-convert {\n",
              "      background-color: #E8F0FE;\n",
              "      border: none;\n",
              "      border-radius: 50%;\n",
              "      cursor: pointer;\n",
              "      display: none;\n",
              "      fill: #1967D2;\n",
              "      height: 32px;\n",
              "      padding: 0 0 0 0;\n",
              "      width: 32px;\n",
              "    }\n",
              "\n",
              "    .colab-df-convert:hover {\n",
              "      background-color: #E2EBFA;\n",
              "      box-shadow: 0px 1px 2px rgba(60, 64, 67, 0.3), 0px 1px 3px 1px rgba(60, 64, 67, 0.15);\n",
              "      fill: #174EA6;\n",
              "    }\n",
              "\n",
              "    [theme=dark] .colab-df-convert {\n",
              "      background-color: #3B4455;\n",
              "      fill: #D2E3FC;\n",
              "    }\n",
              "\n",
              "    [theme=dark] .colab-df-convert:hover {\n",
              "      background-color: #434B5C;\n",
              "      box-shadow: 0px 1px 3px 1px rgba(0, 0, 0, 0.15);\n",
              "      filter: drop-shadow(0px 1px 2px rgba(0, 0, 0, 0.3));\n",
              "      fill: #FFFFFF;\n",
              "    }\n",
              "  </style>\n",
              "\n",
              "      <script>\n",
              "        const buttonEl =\n",
              "          document.querySelector('#df-26a6ae16-0c3f-4d7e-a711-4272afbcfd26 button.colab-df-convert');\n",
              "        buttonEl.style.display =\n",
              "          google.colab.kernel.accessAllowed ? 'block' : 'none';\n",
              "\n",
              "        async function convertToInteractive(key) {\n",
              "          const element = document.querySelector('#df-26a6ae16-0c3f-4d7e-a711-4272afbcfd26');\n",
              "          const dataTable =\n",
              "            await google.colab.kernel.invokeFunction('convertToInteractive',\n",
              "                                                     [key], {});\n",
              "          if (!dataTable) return;\n",
              "\n",
              "          const docLinkHtml = 'Like what you see? Visit the ' +\n",
              "            '<a target=\"_blank\" href=https://colab.research.google.com/notebooks/data_table.ipynb>data table notebook</a>'\n",
              "            + ' to learn more about interactive tables.';\n",
              "          element.innerHTML = '';\n",
              "          dataTable['output_type'] = 'display_data';\n",
              "          await google.colab.output.renderOutput(dataTable, element);\n",
              "          const docLink = document.createElement('div');\n",
              "          docLink.innerHTML = docLinkHtml;\n",
              "          element.appendChild(docLink);\n",
              "        }\n",
              "      </script>\n",
              "    </div>\n",
              "  </div>\n",
              "  "
            ],
            "text/plain": [
              "       country code_2 code_3  ...     sub_region region_code sub_region_code\n",
              "0  Afghanistan     AF    AFG  ...  Southern Asia       142.0            34.0\n",
              "\n",
              "[1 rows x 9 columns]"
            ]
          },
          "metadata": {},
          "execution_count": 33
        }
      ]
    },
    {
      "cell_type": "code",
      "source": [
        "loc = loc[['code_2','country','continent']]"
      ],
      "metadata": {
        "id": "M3PHWf9-baWP"
      },
      "execution_count": 34,
      "outputs": []
    },
    {
      "cell_type": "code",
      "source": [
        "print(\"Before merging:\",df.shape)\n",
        "df = pd.merge(df, loc, left_on = 'country', right_on = 'code_2', how = 'left')\n",
        "print(\"After merging:\",df.shape)\n",
        "\n",
        "# Removing city, location, distance\n",
        "df.drop(columns = ['country_x','city','location','distance','code_2'], inplace = True)\n",
        "df = df.rename(columns = {'country_y' : 'country'})\n",
        "print(\"After removal:\",df.shape)\n",
        "df.head(1)"
      ],
      "metadata": {
        "colab": {
          "base_uri": "https://localhost:8080/",
          "height": 266
        },
        "id": "ovjmUvSabe1_",
        "outputId": "8459f449-3525-48d0-98e7-5ea4fbc56cc7"
      },
      "execution_count": 35,
      "outputs": [
        {
          "output_type": "stream",
          "name": "stdout",
          "text": [
            "Before merging: (2747, 28)\n",
            "After merging: (2747, 31)\n",
            "After removal: (2747, 26)\n"
          ]
        },
        {
          "output_type": "execute_result",
          "data": {
            "text/html": [
              "\n",
              "  <div id=\"df-4a6fd86a-da30-40ce-8300-8c6ef041da69\">\n",
              "    <div class=\"colab-df-container\">\n",
              "      <div>\n",
              "<style scoped>\n",
              "    .dataframe tbody tr th:only-of-type {\n",
              "        vertical-align: middle;\n",
              "    }\n",
              "\n",
              "    .dataframe tbody tr th {\n",
              "        vertical-align: top;\n",
              "    }\n",
              "\n",
              "    .dataframe thead th {\n",
              "        text-align: right;\n",
              "    }\n",
              "</style>\n",
              "<table border=\"1\" class=\"dataframe\">\n",
              "  <thead>\n",
              "    <tr style=\"text-align: right;\">\n",
              "      <th></th>\n",
              "      <th>gender</th>\n",
              "      <th>genderLooking</th>\n",
              "      <th>age</th>\n",
              "      <th>name</th>\n",
              "      <th>counts_details</th>\n",
              "      <th>counts_pictures</th>\n",
              "      <th>counts_profileVisits</th>\n",
              "      <th>counts_kisses</th>\n",
              "      <th>isMobile</th>\n",
              "      <th>isNew</th>\n",
              "      <th>isVip</th>\n",
              "      <th>lang_count</th>\n",
              "      <th>lang_fr</th>\n",
              "      <th>lang_de</th>\n",
              "      <th>verified</th>\n",
              "      <th>shareProfileEnabled</th>\n",
              "      <th>lastOnlineDate</th>\n",
              "      <th>lastOnlineTime</th>\n",
              "      <th>birthd</th>\n",
              "      <th>freetext</th>\n",
              "      <th>whazzup</th>\n",
              "      <th>userId</th>\n",
              "      <th>pictureId</th>\n",
              "      <th>flirtInterests</th>\n",
              "      <th>country</th>\n",
              "      <th>continent</th>\n",
              "    </tr>\n",
              "  </thead>\n",
              "  <tbody>\n",
              "    <tr>\n",
              "      <th>0</th>\n",
              "      <td>F</td>\n",
              "      <td>M</td>\n",
              "      <td>25</td>\n",
              "      <td>daeni</td>\n",
              "      <td>1.0</td>\n",
              "      <td>4</td>\n",
              "      <td>8279.0</td>\n",
              "      <td>239</td>\n",
              "      <td>1</td>\n",
              "      <td>0</td>\n",
              "      <td>0</td>\n",
              "      <td>1</td>\n",
              "      <td>False</td>\n",
              "      <td>True</td>\n",
              "      <td>0</td>\n",
              "      <td>1</td>\n",
              "      <td>2015-04-25T20:43:26Z</td>\n",
              "      <td>1.429995e+09</td>\n",
              "      <td>0</td>\n",
              "      <td>Nur tote Fisch schwimmen mit dem Strom</td>\n",
              "      <td>Nur tote fische schwimmen mit dem strom</td>\n",
              "      <td>4e3842f79b70e7ea57000064</td>\n",
              "      <td>55303fc3160ba0eb728b4575</td>\n",
              "      <td>3</td>\n",
              "      <td>Switzerland</td>\n",
              "      <td>Europe</td>\n",
              "    </tr>\n",
              "  </tbody>\n",
              "</table>\n",
              "</div>\n",
              "      <button class=\"colab-df-convert\" onclick=\"convertToInteractive('df-4a6fd86a-da30-40ce-8300-8c6ef041da69')\"\n",
              "              title=\"Convert this dataframe to an interactive table.\"\n",
              "              style=\"display:none;\">\n",
              "        \n",
              "  <svg xmlns=\"http://www.w3.org/2000/svg\" height=\"24px\"viewBox=\"0 0 24 24\"\n",
              "       width=\"24px\">\n",
              "    <path d=\"M0 0h24v24H0V0z\" fill=\"none\"/>\n",
              "    <path d=\"M18.56 5.44l.94 2.06.94-2.06 2.06-.94-2.06-.94-.94-2.06-.94 2.06-2.06.94zm-11 1L8.5 8.5l.94-2.06 2.06-.94-2.06-.94L8.5 2.5l-.94 2.06-2.06.94zm10 10l.94 2.06.94-2.06 2.06-.94-2.06-.94-.94-2.06-.94 2.06-2.06.94z\"/><path d=\"M17.41 7.96l-1.37-1.37c-.4-.4-.92-.59-1.43-.59-.52 0-1.04.2-1.43.59L10.3 9.45l-7.72 7.72c-.78.78-.78 2.05 0 2.83L4 21.41c.39.39.9.59 1.41.59.51 0 1.02-.2 1.41-.59l7.78-7.78 2.81-2.81c.8-.78.8-2.07 0-2.86zM5.41 20L4 18.59l7.72-7.72 1.47 1.35L5.41 20z\"/>\n",
              "  </svg>\n",
              "      </button>\n",
              "      \n",
              "  <style>\n",
              "    .colab-df-container {\n",
              "      display:flex;\n",
              "      flex-wrap:wrap;\n",
              "      gap: 12px;\n",
              "    }\n",
              "\n",
              "    .colab-df-convert {\n",
              "      background-color: #E8F0FE;\n",
              "      border: none;\n",
              "      border-radius: 50%;\n",
              "      cursor: pointer;\n",
              "      display: none;\n",
              "      fill: #1967D2;\n",
              "      height: 32px;\n",
              "      padding: 0 0 0 0;\n",
              "      width: 32px;\n",
              "    }\n",
              "\n",
              "    .colab-df-convert:hover {\n",
              "      background-color: #E2EBFA;\n",
              "      box-shadow: 0px 1px 2px rgba(60, 64, 67, 0.3), 0px 1px 3px 1px rgba(60, 64, 67, 0.15);\n",
              "      fill: #174EA6;\n",
              "    }\n",
              "\n",
              "    [theme=dark] .colab-df-convert {\n",
              "      background-color: #3B4455;\n",
              "      fill: #D2E3FC;\n",
              "    }\n",
              "\n",
              "    [theme=dark] .colab-df-convert:hover {\n",
              "      background-color: #434B5C;\n",
              "      box-shadow: 0px 1px 3px 1px rgba(0, 0, 0, 0.15);\n",
              "      filter: drop-shadow(0px 1px 2px rgba(0, 0, 0, 0.3));\n",
              "      fill: #FFFFFF;\n",
              "    }\n",
              "  </style>\n",
              "\n",
              "      <script>\n",
              "        const buttonEl =\n",
              "          document.querySelector('#df-4a6fd86a-da30-40ce-8300-8c6ef041da69 button.colab-df-convert');\n",
              "        buttonEl.style.display =\n",
              "          google.colab.kernel.accessAllowed ? 'block' : 'none';\n",
              "\n",
              "        async function convertToInteractive(key) {\n",
              "          const element = document.querySelector('#df-4a6fd86a-da30-40ce-8300-8c6ef041da69');\n",
              "          const dataTable =\n",
              "            await google.colab.kernel.invokeFunction('convertToInteractive',\n",
              "                                                     [key], {});\n",
              "          if (!dataTable) return;\n",
              "\n",
              "          const docLinkHtml = 'Like what you see? Visit the ' +\n",
              "            '<a target=\"_blank\" href=https://colab.research.google.com/notebooks/data_table.ipynb>data table notebook</a>'\n",
              "            + ' to learn more about interactive tables.';\n",
              "          element.innerHTML = '';\n",
              "          dataTable['output_type'] = 'display_data';\n",
              "          await google.colab.output.renderOutput(dataTable, element);\n",
              "          const docLink = document.createElement('div');\n",
              "          docLink.innerHTML = docLinkHtml;\n",
              "          element.appendChild(docLink);\n",
              "        }\n",
              "      </script>\n",
              "    </div>\n",
              "  </div>\n",
              "  "
            ],
            "text/plain": [
              "  gender genderLooking  age  ... flirtInterests      country  continent\n",
              "0      F             M   25  ...              3  Switzerland     Europe\n",
              "\n",
              "[1 rows x 26 columns]"
            ]
          },
          "metadata": {},
          "execution_count": 35
        }
      ]
    },
    {
      "cell_type": "markdown",
      "source": [
        "### 1.3.3 lastOnlineDate & lastOnlineTime & birthd\n",
        "**lastOnlineDate**: Last login time of the user. One login session can last several hours\n",
        "\n",
        "**lastOnlineTime**: Last login time the user was connected, as timestamp\n",
        "\n",
        "**birthd**: Whether the user's birthday is today (time of fetch)"
      ],
      "metadata": {
        "id": "K0NX0nGJoPJ0"
      }
    },
    {
      "cell_type": "code",
      "source": [
        "df['lastOnlineDate'] = df['lastOnlineDate'].apply(pd.to_datetime, format='%Y-%m-%d')\n",
        "\n",
        "# Remove lastOnlineTime, birthd since they don't mean anything for now\n",
        "print(\"After merging:\",df.shape)\n",
        "df.drop(columns = ['lastOnlineTime', 'birthd'], inplace = True)\n",
        "print(\"After removal:\",df.shape)\n",
        "df.head(1)"
      ],
      "metadata": {
        "colab": {
          "base_uri": "https://localhost:8080/",
          "height": 249
        },
        "id": "7AARvmJ8b8oK",
        "outputId": "66f4c0bf-71f4-4622-f95a-39696783d8cd"
      },
      "execution_count": 36,
      "outputs": [
        {
          "output_type": "stream",
          "name": "stdout",
          "text": [
            "After merging: (2747, 26)\n",
            "After removal: (2747, 24)\n"
          ]
        },
        {
          "output_type": "execute_result",
          "data": {
            "text/html": [
              "\n",
              "  <div id=\"df-fd247fe8-a39c-4d75-ae73-b77387aaaec9\">\n",
              "    <div class=\"colab-df-container\">\n",
              "      <div>\n",
              "<style scoped>\n",
              "    .dataframe tbody tr th:only-of-type {\n",
              "        vertical-align: middle;\n",
              "    }\n",
              "\n",
              "    .dataframe tbody tr th {\n",
              "        vertical-align: top;\n",
              "    }\n",
              "\n",
              "    .dataframe thead th {\n",
              "        text-align: right;\n",
              "    }\n",
              "</style>\n",
              "<table border=\"1\" class=\"dataframe\">\n",
              "  <thead>\n",
              "    <tr style=\"text-align: right;\">\n",
              "      <th></th>\n",
              "      <th>gender</th>\n",
              "      <th>genderLooking</th>\n",
              "      <th>age</th>\n",
              "      <th>name</th>\n",
              "      <th>counts_details</th>\n",
              "      <th>counts_pictures</th>\n",
              "      <th>counts_profileVisits</th>\n",
              "      <th>counts_kisses</th>\n",
              "      <th>isMobile</th>\n",
              "      <th>isNew</th>\n",
              "      <th>isVip</th>\n",
              "      <th>lang_count</th>\n",
              "      <th>lang_fr</th>\n",
              "      <th>lang_de</th>\n",
              "      <th>verified</th>\n",
              "      <th>shareProfileEnabled</th>\n",
              "      <th>lastOnlineDate</th>\n",
              "      <th>freetext</th>\n",
              "      <th>whazzup</th>\n",
              "      <th>userId</th>\n",
              "      <th>pictureId</th>\n",
              "      <th>flirtInterests</th>\n",
              "      <th>country</th>\n",
              "      <th>continent</th>\n",
              "    </tr>\n",
              "  </thead>\n",
              "  <tbody>\n",
              "    <tr>\n",
              "      <th>0</th>\n",
              "      <td>F</td>\n",
              "      <td>M</td>\n",
              "      <td>25</td>\n",
              "      <td>daeni</td>\n",
              "      <td>1.0</td>\n",
              "      <td>4</td>\n",
              "      <td>8279.0</td>\n",
              "      <td>239</td>\n",
              "      <td>1</td>\n",
              "      <td>0</td>\n",
              "      <td>0</td>\n",
              "      <td>1</td>\n",
              "      <td>False</td>\n",
              "      <td>True</td>\n",
              "      <td>0</td>\n",
              "      <td>1</td>\n",
              "      <td>2015-04-25 20:43:26+00:00</td>\n",
              "      <td>Nur tote Fisch schwimmen mit dem Strom</td>\n",
              "      <td>Nur tote fische schwimmen mit dem strom</td>\n",
              "      <td>4e3842f79b70e7ea57000064</td>\n",
              "      <td>55303fc3160ba0eb728b4575</td>\n",
              "      <td>3</td>\n",
              "      <td>Switzerland</td>\n",
              "      <td>Europe</td>\n",
              "    </tr>\n",
              "  </tbody>\n",
              "</table>\n",
              "</div>\n",
              "      <button class=\"colab-df-convert\" onclick=\"convertToInteractive('df-fd247fe8-a39c-4d75-ae73-b77387aaaec9')\"\n",
              "              title=\"Convert this dataframe to an interactive table.\"\n",
              "              style=\"display:none;\">\n",
              "        \n",
              "  <svg xmlns=\"http://www.w3.org/2000/svg\" height=\"24px\"viewBox=\"0 0 24 24\"\n",
              "       width=\"24px\">\n",
              "    <path d=\"M0 0h24v24H0V0z\" fill=\"none\"/>\n",
              "    <path d=\"M18.56 5.44l.94 2.06.94-2.06 2.06-.94-2.06-.94-.94-2.06-.94 2.06-2.06.94zm-11 1L8.5 8.5l.94-2.06 2.06-.94-2.06-.94L8.5 2.5l-.94 2.06-2.06.94zm10 10l.94 2.06.94-2.06 2.06-.94-2.06-.94-.94-2.06-.94 2.06-2.06.94z\"/><path d=\"M17.41 7.96l-1.37-1.37c-.4-.4-.92-.59-1.43-.59-.52 0-1.04.2-1.43.59L10.3 9.45l-7.72 7.72c-.78.78-.78 2.05 0 2.83L4 21.41c.39.39.9.59 1.41.59.51 0 1.02-.2 1.41-.59l7.78-7.78 2.81-2.81c.8-.78.8-2.07 0-2.86zM5.41 20L4 18.59l7.72-7.72 1.47 1.35L5.41 20z\"/>\n",
              "  </svg>\n",
              "      </button>\n",
              "      \n",
              "  <style>\n",
              "    .colab-df-container {\n",
              "      display:flex;\n",
              "      flex-wrap:wrap;\n",
              "      gap: 12px;\n",
              "    }\n",
              "\n",
              "    .colab-df-convert {\n",
              "      background-color: #E8F0FE;\n",
              "      border: none;\n",
              "      border-radius: 50%;\n",
              "      cursor: pointer;\n",
              "      display: none;\n",
              "      fill: #1967D2;\n",
              "      height: 32px;\n",
              "      padding: 0 0 0 0;\n",
              "      width: 32px;\n",
              "    }\n",
              "\n",
              "    .colab-df-convert:hover {\n",
              "      background-color: #E2EBFA;\n",
              "      box-shadow: 0px 1px 2px rgba(60, 64, 67, 0.3), 0px 1px 3px 1px rgba(60, 64, 67, 0.15);\n",
              "      fill: #174EA6;\n",
              "    }\n",
              "\n",
              "    [theme=dark] .colab-df-convert {\n",
              "      background-color: #3B4455;\n",
              "      fill: #D2E3FC;\n",
              "    }\n",
              "\n",
              "    [theme=dark] .colab-df-convert:hover {\n",
              "      background-color: #434B5C;\n",
              "      box-shadow: 0px 1px 3px 1px rgba(0, 0, 0, 0.15);\n",
              "      filter: drop-shadow(0px 1px 2px rgba(0, 0, 0, 0.3));\n",
              "      fill: #FFFFFF;\n",
              "    }\n",
              "  </style>\n",
              "\n",
              "      <script>\n",
              "        const buttonEl =\n",
              "          document.querySelector('#df-fd247fe8-a39c-4d75-ae73-b77387aaaec9 button.colab-df-convert');\n",
              "        buttonEl.style.display =\n",
              "          google.colab.kernel.accessAllowed ? 'block' : 'none';\n",
              "\n",
              "        async function convertToInteractive(key) {\n",
              "          const element = document.querySelector('#df-fd247fe8-a39c-4d75-ae73-b77387aaaec9');\n",
              "          const dataTable =\n",
              "            await google.colab.kernel.invokeFunction('convertToInteractive',\n",
              "                                                     [key], {});\n",
              "          if (!dataTable) return;\n",
              "\n",
              "          const docLinkHtml = 'Like what you see? Visit the ' +\n",
              "            '<a target=\"_blank\" href=https://colab.research.google.com/notebooks/data_table.ipynb>data table notebook</a>'\n",
              "            + ' to learn more about interactive tables.';\n",
              "          element.innerHTML = '';\n",
              "          dataTable['output_type'] = 'display_data';\n",
              "          await google.colab.output.renderOutput(dataTable, element);\n",
              "          const docLink = document.createElement('div');\n",
              "          docLink.innerHTML = docLinkHtml;\n",
              "          element.appendChild(docLink);\n",
              "        }\n",
              "      </script>\n",
              "    </div>\n",
              "  </div>\n",
              "  "
            ],
            "text/plain": [
              "  gender genderLooking  age  ... flirtInterests      country  continent\n",
              "0      F             M   25  ...              3  Switzerland     Europe\n",
              "\n",
              "[1 rows x 24 columns]"
            ]
          },
          "metadata": {},
          "execution_count": 36
        }
      ]
    },
    {
      "cell_type": "markdown",
      "source": [
        "Assuming that the data was fetched at the maximum lastOnlineDate, then calculate how long had the users been idle to the day the data was fetched"
      ],
      "metadata": {
        "id": "mZaAVjIip03t"
      }
    },
    {
      "cell_type": "code",
      "source": [
        "fetched_day = df['lastOnlineDate'].max()\n",
        "df['lastOnlineRecency'] = df.apply(lambda x: (fetched_day - x['lastOnlineDate']).days, axis = 1)\n",
        "df.head(1)"
      ],
      "metadata": {
        "colab": {
          "base_uri": "https://localhost:8080/",
          "height": 214
        },
        "id": "igeOGblQpz2d",
        "outputId": "1f1afe4c-0e7b-46ea-cb1d-c3ac1b7ceeb8"
      },
      "execution_count": 37,
      "outputs": [
        {
          "output_type": "execute_result",
          "data": {
            "text/html": [
              "\n",
              "  <div id=\"df-f469ff71-1f2c-46e0-9434-ee16bd41e9e9\">\n",
              "    <div class=\"colab-df-container\">\n",
              "      <div>\n",
              "<style scoped>\n",
              "    .dataframe tbody tr th:only-of-type {\n",
              "        vertical-align: middle;\n",
              "    }\n",
              "\n",
              "    .dataframe tbody tr th {\n",
              "        vertical-align: top;\n",
              "    }\n",
              "\n",
              "    .dataframe thead th {\n",
              "        text-align: right;\n",
              "    }\n",
              "</style>\n",
              "<table border=\"1\" class=\"dataframe\">\n",
              "  <thead>\n",
              "    <tr style=\"text-align: right;\">\n",
              "      <th></th>\n",
              "      <th>gender</th>\n",
              "      <th>genderLooking</th>\n",
              "      <th>age</th>\n",
              "      <th>name</th>\n",
              "      <th>counts_details</th>\n",
              "      <th>counts_pictures</th>\n",
              "      <th>counts_profileVisits</th>\n",
              "      <th>counts_kisses</th>\n",
              "      <th>isMobile</th>\n",
              "      <th>isNew</th>\n",
              "      <th>isVip</th>\n",
              "      <th>lang_count</th>\n",
              "      <th>lang_fr</th>\n",
              "      <th>lang_de</th>\n",
              "      <th>verified</th>\n",
              "      <th>shareProfileEnabled</th>\n",
              "      <th>lastOnlineDate</th>\n",
              "      <th>freetext</th>\n",
              "      <th>whazzup</th>\n",
              "      <th>userId</th>\n",
              "      <th>pictureId</th>\n",
              "      <th>flirtInterests</th>\n",
              "      <th>country</th>\n",
              "      <th>continent</th>\n",
              "      <th>lastOnlineRecency</th>\n",
              "    </tr>\n",
              "  </thead>\n",
              "  <tbody>\n",
              "    <tr>\n",
              "      <th>0</th>\n",
              "      <td>F</td>\n",
              "      <td>M</td>\n",
              "      <td>25</td>\n",
              "      <td>daeni</td>\n",
              "      <td>1.0</td>\n",
              "      <td>4</td>\n",
              "      <td>8279.0</td>\n",
              "      <td>239</td>\n",
              "      <td>1</td>\n",
              "      <td>0</td>\n",
              "      <td>0</td>\n",
              "      <td>1</td>\n",
              "      <td>False</td>\n",
              "      <td>True</td>\n",
              "      <td>0</td>\n",
              "      <td>1</td>\n",
              "      <td>2015-04-25 20:43:26+00:00</td>\n",
              "      <td>Nur tote Fisch schwimmen mit dem Strom</td>\n",
              "      <td>Nur tote fische schwimmen mit dem strom</td>\n",
              "      <td>4e3842f79b70e7ea57000064</td>\n",
              "      <td>55303fc3160ba0eb728b4575</td>\n",
              "      <td>3</td>\n",
              "      <td>Switzerland</td>\n",
              "      <td>Europe</td>\n",
              "      <td>7</td>\n",
              "    </tr>\n",
              "  </tbody>\n",
              "</table>\n",
              "</div>\n",
              "      <button class=\"colab-df-convert\" onclick=\"convertToInteractive('df-f469ff71-1f2c-46e0-9434-ee16bd41e9e9')\"\n",
              "              title=\"Convert this dataframe to an interactive table.\"\n",
              "              style=\"display:none;\">\n",
              "        \n",
              "  <svg xmlns=\"http://www.w3.org/2000/svg\" height=\"24px\"viewBox=\"0 0 24 24\"\n",
              "       width=\"24px\">\n",
              "    <path d=\"M0 0h24v24H0V0z\" fill=\"none\"/>\n",
              "    <path d=\"M18.56 5.44l.94 2.06.94-2.06 2.06-.94-2.06-.94-.94-2.06-.94 2.06-2.06.94zm-11 1L8.5 8.5l.94-2.06 2.06-.94-2.06-.94L8.5 2.5l-.94 2.06-2.06.94zm10 10l.94 2.06.94-2.06 2.06-.94-2.06-.94-.94-2.06-.94 2.06-2.06.94z\"/><path d=\"M17.41 7.96l-1.37-1.37c-.4-.4-.92-.59-1.43-.59-.52 0-1.04.2-1.43.59L10.3 9.45l-7.72 7.72c-.78.78-.78 2.05 0 2.83L4 21.41c.39.39.9.59 1.41.59.51 0 1.02-.2 1.41-.59l7.78-7.78 2.81-2.81c.8-.78.8-2.07 0-2.86zM5.41 20L4 18.59l7.72-7.72 1.47 1.35L5.41 20z\"/>\n",
              "  </svg>\n",
              "      </button>\n",
              "      \n",
              "  <style>\n",
              "    .colab-df-container {\n",
              "      display:flex;\n",
              "      flex-wrap:wrap;\n",
              "      gap: 12px;\n",
              "    }\n",
              "\n",
              "    .colab-df-convert {\n",
              "      background-color: #E8F0FE;\n",
              "      border: none;\n",
              "      border-radius: 50%;\n",
              "      cursor: pointer;\n",
              "      display: none;\n",
              "      fill: #1967D2;\n",
              "      height: 32px;\n",
              "      padding: 0 0 0 0;\n",
              "      width: 32px;\n",
              "    }\n",
              "\n",
              "    .colab-df-convert:hover {\n",
              "      background-color: #E2EBFA;\n",
              "      box-shadow: 0px 1px 2px rgba(60, 64, 67, 0.3), 0px 1px 3px 1px rgba(60, 64, 67, 0.15);\n",
              "      fill: #174EA6;\n",
              "    }\n",
              "\n",
              "    [theme=dark] .colab-df-convert {\n",
              "      background-color: #3B4455;\n",
              "      fill: #D2E3FC;\n",
              "    }\n",
              "\n",
              "    [theme=dark] .colab-df-convert:hover {\n",
              "      background-color: #434B5C;\n",
              "      box-shadow: 0px 1px 3px 1px rgba(0, 0, 0, 0.15);\n",
              "      filter: drop-shadow(0px 1px 2px rgba(0, 0, 0, 0.3));\n",
              "      fill: #FFFFFF;\n",
              "    }\n",
              "  </style>\n",
              "\n",
              "      <script>\n",
              "        const buttonEl =\n",
              "          document.querySelector('#df-f469ff71-1f2c-46e0-9434-ee16bd41e9e9 button.colab-df-convert');\n",
              "        buttonEl.style.display =\n",
              "          google.colab.kernel.accessAllowed ? 'block' : 'none';\n",
              "\n",
              "        async function convertToInteractive(key) {\n",
              "          const element = document.querySelector('#df-f469ff71-1f2c-46e0-9434-ee16bd41e9e9');\n",
              "          const dataTable =\n",
              "            await google.colab.kernel.invokeFunction('convertToInteractive',\n",
              "                                                     [key], {});\n",
              "          if (!dataTable) return;\n",
              "\n",
              "          const docLinkHtml = 'Like what you see? Visit the ' +\n",
              "            '<a target=\"_blank\" href=https://colab.research.google.com/notebooks/data_table.ipynb>data table notebook</a>'\n",
              "            + ' to learn more about interactive tables.';\n",
              "          element.innerHTML = '';\n",
              "          dataTable['output_type'] = 'display_data';\n",
              "          await google.colab.output.renderOutput(dataTable, element);\n",
              "          const docLink = document.createElement('div');\n",
              "          docLink.innerHTML = docLinkHtml;\n",
              "          element.appendChild(docLink);\n",
              "        }\n",
              "      </script>\n",
              "    </div>\n",
              "  </div>\n",
              "  "
            ],
            "text/plain": [
              "  gender genderLooking  age  ...      country  continent  lastOnlineRecency\n",
              "0      F             M   25  ...  Switzerland     Europe                  7\n",
              "\n",
              "[1 rows x 25 columns]"
            ]
          },
          "metadata": {},
          "execution_count": 37
        }
      ]
    },
    {
      "cell_type": "markdown",
      "source": [
        "### 1.3.4 freetext, whazzup\n",
        "\n",
        "**freetext**: Another alternate free text\n",
        "\n",
        "**whazzup**: User status message (main status message)\n",
        "\n"
      ],
      "metadata": {
        "id": "McuXaoO3rob1"
      }
    },
    {
      "cell_type": "code",
      "source": [
        "# fill null value with null value\n",
        "print(\"Rows with null value in freetext:\", len(df[(df['freetext'].isna())]))\n",
        "df['freetext'].fillna('null', inplace = True)\n",
        "print(\"Rows with null value in freetext:\", len(df[(df['freetext'].isna())]))"
      ],
      "metadata": {
        "colab": {
          "base_uri": "https://localhost:8080/"
        },
        "id": "jfmjvgYCvbJe",
        "outputId": "6a8083e6-f26d-4fa2-87c4-08f315def4f2"
      },
      "execution_count": 38,
      "outputs": [
        {
          "output_type": "stream",
          "name": "stdout",
          "text": [
            "Rows with null value in freetext: 2671\n",
            "Rows with null value in freetext: 0\n"
          ]
        }
      ]
    },
    {
      "cell_type": "code",
      "source": [
        "# fill null value with null value\n",
        "print(\"Rows with null value in freetext:\", len(df[(df['whazzup'].isna())]))\n",
        "df['whazzup'].fillna('null', inplace = True)\n",
        "print(\"Rows with null value in freetext:\", len(df[(df['whazzup'].isna())]))"
      ],
      "metadata": {
        "colab": {
          "base_uri": "https://localhost:8080/"
        },
        "id": "BEr6wIvNv1_O",
        "outputId": "70d68d75-12d1-4c55-bbab-392ddc3fa34f"
      },
      "execution_count": 39,
      "outputs": [
        {
          "output_type": "stream",
          "name": "stdout",
          "text": [
            "Rows with null value in freetext: 999\n",
            "Rows with null value in freetext: 0\n"
          ]
        }
      ]
    },
    {
      "cell_type": "code",
      "source": [
        "# Calculate the length of freetext and whazzup\n",
        "df['freetext_len'] = df.apply(lambda x: 0 if x['freetext'] == 'null' else len(x['freetext']), axis = 1)\n",
        "df['whazzup_len'] = df.apply(lambda x: 0 if x['whazzup'] == 'null' else len(x['whazzup']), axis = 1)"
      ],
      "metadata": {
        "id": "xYsLKcPZtIkd"
      },
      "execution_count": 40,
      "outputs": []
    },
    {
      "cell_type": "code",
      "source": [
        "df.head(2)"
      ],
      "metadata": {
        "colab": {
          "base_uri": "https://localhost:8080/",
          "height": 263
        },
        "id": "at2JKmR9uSkF",
        "outputId": "9d746fe4-1bea-439a-f8e9-3bdda3cbe895"
      },
      "execution_count": 41,
      "outputs": [
        {
          "output_type": "execute_result",
          "data": {
            "text/html": [
              "\n",
              "  <div id=\"df-742b9adb-7a8c-4f97-b625-6f73c1342c6a\">\n",
              "    <div class=\"colab-df-container\">\n",
              "      <div>\n",
              "<style scoped>\n",
              "    .dataframe tbody tr th:only-of-type {\n",
              "        vertical-align: middle;\n",
              "    }\n",
              "\n",
              "    .dataframe tbody tr th {\n",
              "        vertical-align: top;\n",
              "    }\n",
              "\n",
              "    .dataframe thead th {\n",
              "        text-align: right;\n",
              "    }\n",
              "</style>\n",
              "<table border=\"1\" class=\"dataframe\">\n",
              "  <thead>\n",
              "    <tr style=\"text-align: right;\">\n",
              "      <th></th>\n",
              "      <th>gender</th>\n",
              "      <th>genderLooking</th>\n",
              "      <th>age</th>\n",
              "      <th>name</th>\n",
              "      <th>counts_details</th>\n",
              "      <th>counts_pictures</th>\n",
              "      <th>counts_profileVisits</th>\n",
              "      <th>counts_kisses</th>\n",
              "      <th>isMobile</th>\n",
              "      <th>isNew</th>\n",
              "      <th>isVip</th>\n",
              "      <th>lang_count</th>\n",
              "      <th>lang_fr</th>\n",
              "      <th>lang_de</th>\n",
              "      <th>verified</th>\n",
              "      <th>shareProfileEnabled</th>\n",
              "      <th>lastOnlineDate</th>\n",
              "      <th>freetext</th>\n",
              "      <th>whazzup</th>\n",
              "      <th>userId</th>\n",
              "      <th>pictureId</th>\n",
              "      <th>flirtInterests</th>\n",
              "      <th>country</th>\n",
              "      <th>continent</th>\n",
              "      <th>lastOnlineRecency</th>\n",
              "      <th>freetext_len</th>\n",
              "      <th>whazzup_len</th>\n",
              "    </tr>\n",
              "  </thead>\n",
              "  <tbody>\n",
              "    <tr>\n",
              "      <th>0</th>\n",
              "      <td>F</td>\n",
              "      <td>M</td>\n",
              "      <td>25</td>\n",
              "      <td>daeni</td>\n",
              "      <td>1.00</td>\n",
              "      <td>4</td>\n",
              "      <td>8279.0</td>\n",
              "      <td>239</td>\n",
              "      <td>1</td>\n",
              "      <td>0</td>\n",
              "      <td>0</td>\n",
              "      <td>1</td>\n",
              "      <td>False</td>\n",
              "      <td>True</td>\n",
              "      <td>0</td>\n",
              "      <td>1</td>\n",
              "      <td>2015-04-25 20:43:26+00:00</td>\n",
              "      <td>Nur tote Fisch schwimmen mit dem Strom</td>\n",
              "      <td>Nur tote fische schwimmen mit dem strom</td>\n",
              "      <td>4e3842f79b70e7ea57000064</td>\n",
              "      <td>55303fc3160ba0eb728b4575</td>\n",
              "      <td>3</td>\n",
              "      <td>Switzerland</td>\n",
              "      <td>Europe</td>\n",
              "      <td>7</td>\n",
              "      <td>38</td>\n",
              "      <td>39</td>\n",
              "    </tr>\n",
              "    <tr>\n",
              "      <th>1</th>\n",
              "      <td>F</td>\n",
              "      <td>M</td>\n",
              "      <td>22</td>\n",
              "      <td>italiana 92</td>\n",
              "      <td>0.85</td>\n",
              "      <td>5</td>\n",
              "      <td>663.0</td>\n",
              "      <td>13</td>\n",
              "      <td>1</td>\n",
              "      <td>0</td>\n",
              "      <td>0</td>\n",
              "      <td>3</td>\n",
              "      <td>True</td>\n",
              "      <td>True</td>\n",
              "      <td>0</td>\n",
              "      <td>1</td>\n",
              "      <td>2015-04-26 09:19:35+00:00</td>\n",
              "      <td>null</td>\n",
              "      <td>Primaveraaa&lt;3</td>\n",
              "      <td>4e3d34bf5d2bce7b160006a3</td>\n",
              "      <td>552e7b61c66da10d1e8b4c82</td>\n",
              "      <td>3</td>\n",
              "      <td>Switzerland</td>\n",
              "      <td>Europe</td>\n",
              "      <td>7</td>\n",
              "      <td>0</td>\n",
              "      <td>13</td>\n",
              "    </tr>\n",
              "  </tbody>\n",
              "</table>\n",
              "</div>\n",
              "      <button class=\"colab-df-convert\" onclick=\"convertToInteractive('df-742b9adb-7a8c-4f97-b625-6f73c1342c6a')\"\n",
              "              title=\"Convert this dataframe to an interactive table.\"\n",
              "              style=\"display:none;\">\n",
              "        \n",
              "  <svg xmlns=\"http://www.w3.org/2000/svg\" height=\"24px\"viewBox=\"0 0 24 24\"\n",
              "       width=\"24px\">\n",
              "    <path d=\"M0 0h24v24H0V0z\" fill=\"none\"/>\n",
              "    <path d=\"M18.56 5.44l.94 2.06.94-2.06 2.06-.94-2.06-.94-.94-2.06-.94 2.06-2.06.94zm-11 1L8.5 8.5l.94-2.06 2.06-.94-2.06-.94L8.5 2.5l-.94 2.06-2.06.94zm10 10l.94 2.06.94-2.06 2.06-.94-2.06-.94-.94-2.06-.94 2.06-2.06.94z\"/><path d=\"M17.41 7.96l-1.37-1.37c-.4-.4-.92-.59-1.43-.59-.52 0-1.04.2-1.43.59L10.3 9.45l-7.72 7.72c-.78.78-.78 2.05 0 2.83L4 21.41c.39.39.9.59 1.41.59.51 0 1.02-.2 1.41-.59l7.78-7.78 2.81-2.81c.8-.78.8-2.07 0-2.86zM5.41 20L4 18.59l7.72-7.72 1.47 1.35L5.41 20z\"/>\n",
              "  </svg>\n",
              "      </button>\n",
              "      \n",
              "  <style>\n",
              "    .colab-df-container {\n",
              "      display:flex;\n",
              "      flex-wrap:wrap;\n",
              "      gap: 12px;\n",
              "    }\n",
              "\n",
              "    .colab-df-convert {\n",
              "      background-color: #E8F0FE;\n",
              "      border: none;\n",
              "      border-radius: 50%;\n",
              "      cursor: pointer;\n",
              "      display: none;\n",
              "      fill: #1967D2;\n",
              "      height: 32px;\n",
              "      padding: 0 0 0 0;\n",
              "      width: 32px;\n",
              "    }\n",
              "\n",
              "    .colab-df-convert:hover {\n",
              "      background-color: #E2EBFA;\n",
              "      box-shadow: 0px 1px 2px rgba(60, 64, 67, 0.3), 0px 1px 3px 1px rgba(60, 64, 67, 0.15);\n",
              "      fill: #174EA6;\n",
              "    }\n",
              "\n",
              "    [theme=dark] .colab-df-convert {\n",
              "      background-color: #3B4455;\n",
              "      fill: #D2E3FC;\n",
              "    }\n",
              "\n",
              "    [theme=dark] .colab-df-convert:hover {\n",
              "      background-color: #434B5C;\n",
              "      box-shadow: 0px 1px 3px 1px rgba(0, 0, 0, 0.15);\n",
              "      filter: drop-shadow(0px 1px 2px rgba(0, 0, 0, 0.3));\n",
              "      fill: #FFFFFF;\n",
              "    }\n",
              "  </style>\n",
              "\n",
              "      <script>\n",
              "        const buttonEl =\n",
              "          document.querySelector('#df-742b9adb-7a8c-4f97-b625-6f73c1342c6a button.colab-df-convert');\n",
              "        buttonEl.style.display =\n",
              "          google.colab.kernel.accessAllowed ? 'block' : 'none';\n",
              "\n",
              "        async function convertToInteractive(key) {\n",
              "          const element = document.querySelector('#df-742b9adb-7a8c-4f97-b625-6f73c1342c6a');\n",
              "          const dataTable =\n",
              "            await google.colab.kernel.invokeFunction('convertToInteractive',\n",
              "                                                     [key], {});\n",
              "          if (!dataTable) return;\n",
              "\n",
              "          const docLinkHtml = 'Like what you see? Visit the ' +\n",
              "            '<a target=\"_blank\" href=https://colab.research.google.com/notebooks/data_table.ipynb>data table notebook</a>'\n",
              "            + ' to learn more about interactive tables.';\n",
              "          element.innerHTML = '';\n",
              "          dataTable['output_type'] = 'display_data';\n",
              "          await google.colab.output.renderOutput(dataTable, element);\n",
              "          const docLink = document.createElement('div');\n",
              "          docLink.innerHTML = docLinkHtml;\n",
              "          element.appendChild(docLink);\n",
              "        }\n",
              "      </script>\n",
              "    </div>\n",
              "  </div>\n",
              "  "
            ],
            "text/plain": [
              "  gender genderLooking  age  ... lastOnlineRecency  freetext_len  whazzup_len\n",
              "0      F             M   25  ...                 7            38           39\n",
              "1      F             M   22  ...                 7             0           13\n",
              "\n",
              "[2 rows x 27 columns]"
            ]
          },
          "metadata": {},
          "execution_count": 41
        }
      ]
    },
    {
      "cell_type": "markdown",
      "source": [
        "## 1.4 Selecting Columns"
      ],
      "metadata": {
        "id": "_9X1FtwdwwDx"
      }
    },
    {
      "cell_type": "code",
      "source": [
        "df.columns"
      ],
      "metadata": {
        "colab": {
          "base_uri": "https://localhost:8080/"
        },
        "id": "v6iM_kXlw3EH",
        "outputId": "f6c1be76-b017-4705-da0d-4364eef22bc8"
      },
      "execution_count": 42,
      "outputs": [
        {
          "output_type": "execute_result",
          "data": {
            "text/plain": [
              "Index(['gender', 'genderLooking', 'age', 'name', 'counts_details',\n",
              "       'counts_pictures', 'counts_profileVisits', 'counts_kisses', 'isMobile',\n",
              "       'isNew', 'isVip', 'lang_count', 'lang_fr', 'lang_de', 'verified',\n",
              "       'shareProfileEnabled', 'lastOnlineDate', 'freetext', 'whazzup',\n",
              "       'userId', 'pictureId', 'flirtInterests', 'country', 'continent',\n",
              "       'lastOnlineRecency', 'freetext_len', 'whazzup_len'],\n",
              "      dtype='object')"
            ]
          },
          "metadata": {},
          "execution_count": 42
        }
      ]
    },
    {
      "cell_type": "code",
      "source": [
        "df = df[['userId', 'age', 'gender', 'genderLooking', 'country','continent', # basic profile\n",
        "         'lang_count', 'lang_fr', 'lang_de', # language competency\n",
        "         'lastOnlineDate', 'lastOnlineRecency', # last online\n",
        "         'counts_details', 'counts_pictures', 'counts_profileVisits', 'counts_kisses', 'flirtInterests', # profile counts on several data points\n",
        "         'isMobile', 'isVip', 'verified','shareProfileEnabled', # account's data points\n",
        "         'freetext', 'whazzup', 'freetext_len', 'whazzup_len']] # text data points"
      ],
      "metadata": {
        "id": "g9GEw4PPxBRM"
      },
      "execution_count": 43,
      "outputs": []
    },
    {
      "cell_type": "code",
      "source": [
        "create_csv(df,\"cleaned_data\")"
      ],
      "metadata": {
        "colab": {
          "base_uri": "https://localhost:8080/"
        },
        "id": "3-3AsT9mzdWQ",
        "outputId": "2247af12-58d7-4233-e7dd-897438921fc9"
      },
      "execution_count": 44,
      "outputs": [
        {
          "output_type": "stream",
          "name": "stdout",
          "text": [
            "CSV export is done! File name: cleaned_data.csv\n"
          ]
        }
      ]
    },
    {
      "cell_type": "markdown",
      "source": [
        "## 1.5 Features Correlation\n",
        "is done to know which columns should be use for clustering"
      ],
      "metadata": {
        "id": "eaGFUrByzohK"
      }
    },
    {
      "cell_type": "code",
      "source": [
        "df_corr = df.copy()"
      ],
      "metadata": {
        "id": "Gn35H7kSz76L"
      },
      "execution_count": 45,
      "outputs": []
    },
    {
      "cell_type": "markdown",
      "source": [
        "## 1.5.1 Labels Encoding"
      ],
      "metadata": {
        "id": "zlCWxV7Z0e-B"
      }
    },
    {
      "cell_type": "code",
      "source": [
        "bool_col = ['lang_fr', 'lang_de']\n",
        "\n",
        "for c in bool_col:\n",
        "  df_corr[c] = df_corr[c].apply(lambda x: int(x)) #, axis = 1)"
      ],
      "metadata": {
        "id": "EOBi5N0v1EG6"
      },
      "execution_count": 46,
      "outputs": []
    },
    {
      "cell_type": "code",
      "source": [
        "cat_col = ['genderLooking','country','continent']\n",
        "\n",
        "for c in cat_col:\n",
        "  df_corr[c] = df_corr[c].astype('category').cat.codes\n",
        "\n",
        "df_corr.head(1)"
      ],
      "metadata": {
        "colab": {
          "base_uri": "https://localhost:8080/",
          "height": 214
        },
        "id": "4OrPNV_y0D0J",
        "outputId": "1333fedd-eaf4-40d5-d3e7-1b605283cdeb"
      },
      "execution_count": 47,
      "outputs": [
        {
          "output_type": "execute_result",
          "data": {
            "text/html": [
              "\n",
              "  <div id=\"df-4a137f2d-0418-4fb4-8b49-f14feda07166\">\n",
              "    <div class=\"colab-df-container\">\n",
              "      <div>\n",
              "<style scoped>\n",
              "    .dataframe tbody tr th:only-of-type {\n",
              "        vertical-align: middle;\n",
              "    }\n",
              "\n",
              "    .dataframe tbody tr th {\n",
              "        vertical-align: top;\n",
              "    }\n",
              "\n",
              "    .dataframe thead th {\n",
              "        text-align: right;\n",
              "    }\n",
              "</style>\n",
              "<table border=\"1\" class=\"dataframe\">\n",
              "  <thead>\n",
              "    <tr style=\"text-align: right;\">\n",
              "      <th></th>\n",
              "      <th>userId</th>\n",
              "      <th>age</th>\n",
              "      <th>gender</th>\n",
              "      <th>genderLooking</th>\n",
              "      <th>country</th>\n",
              "      <th>continent</th>\n",
              "      <th>lang_count</th>\n",
              "      <th>lang_fr</th>\n",
              "      <th>lang_de</th>\n",
              "      <th>lastOnlineDate</th>\n",
              "      <th>lastOnlineRecency</th>\n",
              "      <th>counts_details</th>\n",
              "      <th>counts_pictures</th>\n",
              "      <th>counts_profileVisits</th>\n",
              "      <th>counts_kisses</th>\n",
              "      <th>flirtInterests</th>\n",
              "      <th>isMobile</th>\n",
              "      <th>isVip</th>\n",
              "      <th>verified</th>\n",
              "      <th>shareProfileEnabled</th>\n",
              "      <th>freetext</th>\n",
              "      <th>whazzup</th>\n",
              "      <th>freetext_len</th>\n",
              "      <th>whazzup_len</th>\n",
              "    </tr>\n",
              "  </thead>\n",
              "  <tbody>\n",
              "    <tr>\n",
              "      <th>0</th>\n",
              "      <td>4e3842f79b70e7ea57000064</td>\n",
              "      <td>25</td>\n",
              "      <td>F</td>\n",
              "      <td>1</td>\n",
              "      <td>22</td>\n",
              "      <td>3</td>\n",
              "      <td>1</td>\n",
              "      <td>0</td>\n",
              "      <td>1</td>\n",
              "      <td>2015-04-25 20:43:26+00:00</td>\n",
              "      <td>7</td>\n",
              "      <td>1.0</td>\n",
              "      <td>4</td>\n",
              "      <td>8279.0</td>\n",
              "      <td>239</td>\n",
              "      <td>3</td>\n",
              "      <td>1</td>\n",
              "      <td>0</td>\n",
              "      <td>0</td>\n",
              "      <td>1</td>\n",
              "      <td>Nur tote Fisch schwimmen mit dem Strom</td>\n",
              "      <td>Nur tote fische schwimmen mit dem strom</td>\n",
              "      <td>38</td>\n",
              "      <td>39</td>\n",
              "    </tr>\n",
              "  </tbody>\n",
              "</table>\n",
              "</div>\n",
              "      <button class=\"colab-df-convert\" onclick=\"convertToInteractive('df-4a137f2d-0418-4fb4-8b49-f14feda07166')\"\n",
              "              title=\"Convert this dataframe to an interactive table.\"\n",
              "              style=\"display:none;\">\n",
              "        \n",
              "  <svg xmlns=\"http://www.w3.org/2000/svg\" height=\"24px\"viewBox=\"0 0 24 24\"\n",
              "       width=\"24px\">\n",
              "    <path d=\"M0 0h24v24H0V0z\" fill=\"none\"/>\n",
              "    <path d=\"M18.56 5.44l.94 2.06.94-2.06 2.06-.94-2.06-.94-.94-2.06-.94 2.06-2.06.94zm-11 1L8.5 8.5l.94-2.06 2.06-.94-2.06-.94L8.5 2.5l-.94 2.06-2.06.94zm10 10l.94 2.06.94-2.06 2.06-.94-2.06-.94-.94-2.06-.94 2.06-2.06.94z\"/><path d=\"M17.41 7.96l-1.37-1.37c-.4-.4-.92-.59-1.43-.59-.52 0-1.04.2-1.43.59L10.3 9.45l-7.72 7.72c-.78.78-.78 2.05 0 2.83L4 21.41c.39.39.9.59 1.41.59.51 0 1.02-.2 1.41-.59l7.78-7.78 2.81-2.81c.8-.78.8-2.07 0-2.86zM5.41 20L4 18.59l7.72-7.72 1.47 1.35L5.41 20z\"/>\n",
              "  </svg>\n",
              "      </button>\n",
              "      \n",
              "  <style>\n",
              "    .colab-df-container {\n",
              "      display:flex;\n",
              "      flex-wrap:wrap;\n",
              "      gap: 12px;\n",
              "    }\n",
              "\n",
              "    .colab-df-convert {\n",
              "      background-color: #E8F0FE;\n",
              "      border: none;\n",
              "      border-radius: 50%;\n",
              "      cursor: pointer;\n",
              "      display: none;\n",
              "      fill: #1967D2;\n",
              "      height: 32px;\n",
              "      padding: 0 0 0 0;\n",
              "      width: 32px;\n",
              "    }\n",
              "\n",
              "    .colab-df-convert:hover {\n",
              "      background-color: #E2EBFA;\n",
              "      box-shadow: 0px 1px 2px rgba(60, 64, 67, 0.3), 0px 1px 3px 1px rgba(60, 64, 67, 0.15);\n",
              "      fill: #174EA6;\n",
              "    }\n",
              "\n",
              "    [theme=dark] .colab-df-convert {\n",
              "      background-color: #3B4455;\n",
              "      fill: #D2E3FC;\n",
              "    }\n",
              "\n",
              "    [theme=dark] .colab-df-convert:hover {\n",
              "      background-color: #434B5C;\n",
              "      box-shadow: 0px 1px 3px 1px rgba(0, 0, 0, 0.15);\n",
              "      filter: drop-shadow(0px 1px 2px rgba(0, 0, 0, 0.3));\n",
              "      fill: #FFFFFF;\n",
              "    }\n",
              "  </style>\n",
              "\n",
              "      <script>\n",
              "        const buttonEl =\n",
              "          document.querySelector('#df-4a137f2d-0418-4fb4-8b49-f14feda07166 button.colab-df-convert');\n",
              "        buttonEl.style.display =\n",
              "          google.colab.kernel.accessAllowed ? 'block' : 'none';\n",
              "\n",
              "        async function convertToInteractive(key) {\n",
              "          const element = document.querySelector('#df-4a137f2d-0418-4fb4-8b49-f14feda07166');\n",
              "          const dataTable =\n",
              "            await google.colab.kernel.invokeFunction('convertToInteractive',\n",
              "                                                     [key], {});\n",
              "          if (!dataTable) return;\n",
              "\n",
              "          const docLinkHtml = 'Like what you see? Visit the ' +\n",
              "            '<a target=\"_blank\" href=https://colab.research.google.com/notebooks/data_table.ipynb>data table notebook</a>'\n",
              "            + ' to learn more about interactive tables.';\n",
              "          element.innerHTML = '';\n",
              "          dataTable['output_type'] = 'display_data';\n",
              "          await google.colab.output.renderOutput(dataTable, element);\n",
              "          const docLink = document.createElement('div');\n",
              "          docLink.innerHTML = docLinkHtml;\n",
              "          element.appendChild(docLink);\n",
              "        }\n",
              "      </script>\n",
              "    </div>\n",
              "  </div>\n",
              "  "
            ],
            "text/plain": [
              "                     userId  age  ... freetext_len  whazzup_len\n",
              "0  4e3842f79b70e7ea57000064   25  ...           38           39\n",
              "\n",
              "[1 rows x 24 columns]"
            ]
          },
          "metadata": {},
          "execution_count": 47
        }
      ]
    },
    {
      "cell_type": "code",
      "source": [
        "create_csv(df_corr,\"corr_data\")"
      ],
      "metadata": {
        "colab": {
          "base_uri": "https://localhost:8080/"
        },
        "id": "-6Esscin6omy",
        "outputId": "1944da7c-9390-4455-9f2a-4cb537f654f4"
      },
      "execution_count": 48,
      "outputs": [
        {
          "output_type": "stream",
          "name": "stdout",
          "text": [
            "CSV export is done! File name: corr_data.csv\n"
          ]
        }
      ]
    },
    {
      "cell_type": "markdown",
      "source": [
        "## 1.5.2 Correlation"
      ],
      "metadata": {
        "id": "l7JCV4LM2A74"
      }
    },
    {
      "cell_type": "code",
      "source": [
        "corr = df_corr.iloc[:,1:].corr()\n",
        "\n",
        "plt.figure(figsize=(12,12))\n",
        "ax = sns.heatmap(\n",
        "    corr, \n",
        "    vmin=-1, vmax=1, center=0,\n",
        "    annot=True, fmt='.2f',\n",
        "    cmap=\"PiYG\",\n",
        "    square=True)\n",
        "\n",
        "ax.set_xticklabels(\n",
        "    ax.get_xticklabels(),\n",
        "    rotation=45,\n",
        "    horizontalalignment='right')\n",
        "\n",
        "plt.show()"
      ],
      "metadata": {
        "colab": {
          "base_uri": "https://localhost:8080/",
          "height": 713
        },
        "id": "hX7xEyQw2FJr",
        "outputId": "df7c7ad4-d344-4f6e-e272-d7ea2ecc4062"
      },
      "execution_count": 49,
      "outputs": [
        {
          "output_type": "display_data",
          "data": {
            "image/png": "[encoded data removed]",
            "text/plain": [
              "<Figure size 864x864 with 2 Axes>"
            ]
          },
          "metadata": {
            "needs_background": "light"
          }
        }
      ]
    },
    {
      "cell_type": "markdown",
      "source": [
        "Based on the heatmap above, count_kisses and counts_profileVisits have quite high correlation, thus kisses is chosen as a user has higher possibility to talk if other users like her.\n",
        "\n",
        "We will be doing experiments to determine which features produce the best clustering in the next section"
      ],
      "metadata": {
        "id": "t1wHOT3t3G52"
      }
    },
    {
      "cell_type": "markdown",
      "source": [
        "# 2. K-means Clustering"
      ],
      "metadata": {
        "id": "lxPs5xhU7ZDn"
      }
    },
    {
      "cell_type": "code",
      "source": [
        "from sklearn.cluster import KMeans\n",
        "from sklearn.metrics import silhouette_score\n",
        "warnings.filterwarnings(\"ignore\", category=DeprecationWarning) "
      ],
      "metadata": {
        "id": "uqxUZ6CmC3In"
      },
      "execution_count": 50,
      "outputs": []
    },
    {
      "cell_type": "markdown",
      "source": [
        "## 2.1 Features Selection Experiment Using Elbow Method & Silhouette Scores"
      ],
      "metadata": {
        "id": "oIHIZSnn9A0v"
      }
    },
    {
      "cell_type": "code",
      "source": [
        "df_corr.columns"
      ],
      "metadata": {
        "colab": {
          "base_uri": "https://localhost:8080/"
        },
        "id": "Q9uqzZfDL9y2",
        "outputId": "019a7974-e238-4ebe-9d77-2e1263a346ef"
      },
      "execution_count": 51,
      "outputs": [
        {
          "output_type": "execute_result",
          "data": {
            "text/plain": [
              "Index(['userId', 'age', 'gender', 'genderLooking', 'country', 'continent',\n",
              "       'lang_count', 'lang_fr', 'lang_de', 'lastOnlineDate',\n",
              "       'lastOnlineRecency', 'counts_details', 'counts_pictures',\n",
              "       'counts_profileVisits', 'counts_kisses', 'flirtInterests', 'isMobile',\n",
              "       'isVip', 'verified', 'shareProfileEnabled', 'freetext', 'whazzup',\n",
              "       'freetext_len', 'whazzup_len'],\n",
              "      dtype='object')"
            ]
          },
          "metadata": {},
          "execution_count": 51
        }
      ]
    },
    {
      "cell_type": "code",
      "source": [
        "features19 = ['age', 'genderLooking', 'country', 'continent', 'lang_count',\n",
        "              'lang_fr', 'lang_de', 'lastOnlineRecency',\n",
        "              'counts_details', 'counts_pictures', 'counts_kisses', 'flirtInterests',\n",
        "              'isMobile', 'isVip', 'verified',\n",
        "              'shareProfileEnabled', 'freetext_len', 'whazzup_len']\n",
        "\n",
        "# excluding detailed features e.g. language\n",
        "features16 = ['age', 'genderLooking', 'country', 'continent', 'lang_count', 'lastOnlineRecency',\n",
        "              'counts_details', 'counts_pictures', 'counts_kisses', 'flirtInterests',\n",
        "              'isMobile', 'isVip', 'verified',\n",
        "              'shareProfileEnabled', 'freetext_len', 'whazzup_len']\n",
        "\n",
        "# excluding age, country, continent from features16\n",
        "features13 = ['genderLooking', 'lang_count', 'lastOnlineRecency',\n",
        "              'counts_details', 'counts_pictures', 'counts_kisses', 'flirtInterests',\n",
        "              'isMobile', 'isVip', 'verified',\n",
        "              'shareProfileEnabled', 'freetext_len', 'whazzup_len']\n",
        "\n",
        "# excluding all the is_something + verified as it is just yes or no, genderLooking & flirtInterests as it is categorical\n",
        "features7 = ['lang_count', 'lastOnlineRecency',\n",
        "             'counts_details', 'counts_pictures', 'counts_kisses',\n",
        "             'freetext_len', 'whazzup_len']\n",
        "\n",
        "# excluding freetext_len as it is not the main status and more users leave it blank\n",
        "features6 = ['lang_count', 'lastOnlineRecency', 'counts_details',\n",
        "             'counts_pictures', 'counts_kisses', 'whazzup_len']\n",
        "\n",
        "# exlcluding lastOnlineRecency\n",
        "features5 = ['lang_count', 'counts_details', 'counts_pictures', \n",
        "             'counts_kisses', 'whazzup_len']             \n",
        "\n",
        "f_collection = [features19, features16, features13, features7, features6, features5]"
      ],
      "metadata": {
        "id": "tGik8EQJ9P2p"
      },
      "execution_count": 52,
      "outputs": []
    },
    {
      "cell_type": "code",
      "source": [
        "for f in f_collection:\n",
        "  # select df\n",
        "  df_elbow = df_corr[f]\n",
        "\n",
        "  wcss = []\n",
        "  sil_kmeans = []\n",
        "\n",
        "  for k in range(2,11):\n",
        "      # K-Means Clustering:\n",
        "      kmeans = KMeans(n_clusters = k, init='k-means++', random_state = 0)\n",
        "      kmeans.fit(df_elbow)\n",
        "      \n",
        "      # Inertia and Silhouette Score for Clusters using K-Means:\n",
        "      in_km = kmeans.inertia_\n",
        "      wcss.append(in_km)\n",
        "      sil_km = silhouette_score(df_elbow, kmeans.labels_)\n",
        "      sil_kmeans.append(sil_km)\n",
        "  \n",
        "  # Visualisation\n",
        "  print('\\nNumber of features :', len(f))\n",
        "  print('WCSS:\\t',wcss)\n",
        "  print('Sil:\\t',sil_kmeans)\n",
        "  figure, axis = plt.subplots(1, 2, figsize=(20,6))\n",
        "  plt.figure(figsize=(12,6))\n",
        "\n",
        "  axis[0].grid()\n",
        "  axis[0].plot(range(2,11), wcss, linewidth=2, color=\"red\", marker =\"8\")\n",
        "  axis[0].set_title('Elbow Method')\n",
        "  axis[0].set_xlabel('K Value')\n",
        "  axis[0].set_ylabel('Clusters Errors WCSS')\n",
        "\n",
        "  axis[1].grid()\n",
        "  axis[1].plot(range(2,11), sil_kmeans, linewidth=2, color='green', marker='s', linestyle=\"--\")\n",
        "  axis[1].set_title('Silhouette Score')\n",
        "  axis[1].set_xlabel('K Value')\n",
        "  axis[1].set_ylabel('Silhouette Score')\n",
        "  \n",
        "  plt.show()"
      ],
      "metadata": {
        "colab": {
          "base_uri": "https://localhost:8080/",
          "height": 1000
        },
        "id": "2qlzi1vjCt8T",
        "outputId": "070b7389-d87e-4031-d39c-2023f3786f36"
      },
      "execution_count": 53,
      "outputs": [
        {
          "output_type": "stream",
          "name": "stdout",
          "text": [
            "\n",
            "Number of features : 18\n",
            "WCSS:\t [50995717.815662146, 27674035.403905068, 16755254.824317846, 12213919.375548586, 9004727.992558802, 7347905.715347611, 6190637.067822064, 5465800.334230735, 4716519.394836752]\n",
            "Sil:\t [0.8141074918846369, 0.6691235305727778, 0.6210300363369912, 0.5419798939234974, 0.5222826111499288, 0.5109088863100586, 0.41700048704767134, 0.40788915936291475, 0.40869977167866006]\n"
          ]
        },
        {
          "output_type": "display_data",
          "data": {
            "image/png": "[encoded data removed]",
            "text/plain": [
              "<Figure size 1440x432 with 2 Axes>"
            ]
          },
          "metadata": {
            "needs_background": "light"
          }
        },
        {
          "output_type": "display_data",
          "data": {
            "text/plain": [
              "<Figure size 864x432 with 0 Axes>"
            ]
          },
          "metadata": {}
        },
        {
          "output_type": "stream",
          "name": "stdout",
          "text": [
            "\n",
            "Number of features : 16\n",
            "WCSS:\t [50994502.245283335, 27672821.355053905, 16754039.918032618, 12214588.473473445, 9003622.172587074, 7346693.887373477, 6189425.986303996, 5465482.531835096, 4715167.432898587]\n",
            "Sil:\t [0.8141163516730211, 0.6691492207878018, 0.6210671039284472, 0.5406918294871169, 0.5225410373191592, 0.5109805416742643, 0.4171028931616303, 0.40900441093993234, 0.4071868913797786]\n"
          ]
        },
        {
          "output_type": "display_data",
          "data": {
            "image/png": "[encoded data removed]",
            "text/plain": [
              "<Figure size 1440x432 with 2 Axes>"
            ]
          },
          "metadata": {
            "needs_background": "light"
          }
        },
        {
          "output_type": "display_data",
          "data": {
            "text/plain": [
              "<Figure size 864x432 with 0 Axes>"
            ]
          },
          "metadata": {}
        },
        {
          "output_type": "stream",
          "name": "stdout",
          "text": [
            "\n",
            "Number of features : 13\n",
            "WCSS:\t [50862938.14563807, 27541804.810983293, 16623166.778381493, 12082976.413541336, 8874125.931504272, 7235810.988515479, 6060464.645008388, 5307707.006347762, 4586608.788822758]\n",
            "Sil:\t [0.8150395929934382, 0.6718147790473515, 0.6254190157033841, 0.547523565199604, 0.5290894824250587, 0.5184084139318261, 0.42792419693448813, 0.42826281215927936, 0.4200167037031804]\n"
          ]
        },
        {
          "output_type": "display_data",
          "data": {
            "image/png": "[encoded data removed]",
            "text/plain": [
              "<Figure size 1440x432 with 2 Axes>"
            ]
          },
          "metadata": {
            "needs_background": "light"
          }
        },
        {
          "output_type": "display_data",
          "data": {
            "text/plain": [
              "<Figure size 864x432 with 0 Axes>"
            ]
          },
          "metadata": {}
        },
        {
          "output_type": "stream",
          "name": "stdout",
          "text": [
            "\n",
            "Number of features : 7\n",
            "WCSS:\t [50858345.17112317, 27537219.572529186, 16620049.916889124, 12078247.659410164, 8869663.869862713, 7231236.287127204, 6053895.834276596, 5303136.413973993, 4582184.587862987]\n",
            "Sil:\t [0.8150752377281372, 0.6719187257032367, 0.6243665155681878, 0.548751914457029, 0.5296369055796148, 0.5187089873508757, 0.43317903853690537, 0.4287141333431088, 0.422907179294918]\n"
          ]
        },
        {
          "output_type": "display_data",
          "data": {
            "image/png": "[encoded data removed]",
            "text/plain": [
              "<Figure size 1440x432 with 2 Axes>"
            ]
          },
          "metadata": {
            "needs_background": "light"
          }
        },
        {
          "output_type": "display_data",
          "data": {
            "text/plain": [
              "<Figure size 864x432 with 0 Axes>"
            ]
          },
          "metadata": {}
        },
        {
          "output_type": "stream",
          "name": "stdout",
          "text": [
            "\n",
            "Number of features : 6\n",
            "WCSS:\t [50461830.2788104, 27140928.099155854, 16221884.127801916, 11682033.00015776, 8473033.421306456, 6835071.319287708, 5660526.453320624, 4906027.400266306, 4188280.192873682]\n",
            "Sil:\t [0.8163597560121907, 0.6752842598549501, 0.6295819179592108, 0.5560810706630358, 0.5356672881233849, 0.5248949107173722, 0.43412265821502655, 0.4385662796978505, 0.42557360275141964]\n"
          ]
        },
        {
          "output_type": "display_data",
          "data": {
            "image/png": "[encoded data removed]",
            "text/plain": [
              "<Figure size 1440x432 with 2 Axes>"
            ]
          },
          "metadata": {
            "needs_background": "light"
          }
        },
        {
          "output_type": "display_data",
          "data": {
            "text/plain": [
              "<Figure size 864x432 with 0 Axes>"
            ]
          },
          "metadata": {}
        },
        {
          "output_type": "stream",
          "name": "stdout",
          "text": [
            "\n",
            "Number of features : 5\n",
            "WCSS:\t [50213893.8229132, 26894325.708673593, 15977418.208767254, 11438044.344776738, 8227578.2111757565, 6594768.482417075, 5415490.604115918, 4663203.563062333, 3941670.8301440487]\n",
            "Sil:\t [0.818192446108955, 0.6806096641143254, 0.6365017302655428, 0.5647042175251894, 0.5497461743191636, 0.5137426283788236, 0.45646946105753644, 0.45684631396607783, 0.456127865055167]\n"
          ]
        },
        {
          "output_type": "display_data",
          "data": {
            "image/png": "[encoded data removed]",
            "text/plain": [
              "<Figure size 1440x432 with 2 Axes>"
            ]
          },
          "metadata": {
            "needs_background": "light"
          }
        },
        {
          "output_type": "display_data",
          "data": {
            "text/plain": [
              "<Figure size 864x432 with 0 Axes>"
            ]
          },
          "metadata": {}
        }
      ]
    },
    {
      "cell_type": "markdown",
      "source": [
        "## 2.2 Clustering Application\n",
        "Based on the WCSS and silhouette score, we will be using number of features = 5 as it has the highest silhouette score and k = 4 or 5 as the bend is there"
      ],
      "metadata": {
        "id": "LzSh3eCMJbTp"
      }
    },
    {
      "cell_type": "code",
      "source": [
        "df_clustering = df[features5]"
      ],
      "metadata": {
        "id": "g1FDfs4yKZc1"
      },
      "execution_count": 54,
      "outputs": []
    },
    {
      "cell_type": "code",
      "source": [
        "KM_4 = KMeans(n_clusters = 4, init='k-means++', random_state = 0).fit(df_clustering)\n",
        "KM_5 = KMeans(n_clusters = 5, init='k-means++', random_state = 0).fit(df_clustering)"
      ],
      "metadata": {
        "id": "FmbsIhBWKlk5"
      },
      "execution_count": 55,
      "outputs": []
    },
    {
      "cell_type": "code",
      "source": [
        "df_clustering.insert(0,'userId',df['userId'])\n",
        "df_clustering['cluster_4'] = KM_4.labels_\n",
        "df_clustering['cluster_5'] = KM_5.labels_\n",
        "df_clustering.head(1)"
      ],
      "metadata": {
        "colab": {
          "base_uri": "https://localhost:8080/",
          "height": 81
        },
        "id": "oD0RPWR9KvRZ",
        "outputId": "3cd5b6ed-78ca-4e9c-c99a-3d3e1ad047f9"
      },
      "execution_count": 56,
      "outputs": [
        {
          "output_type": "execute_result",
          "data": {
            "text/html": [
              "\n",
              "  <div id=\"df-6d5a45df-db16-4d1b-ba6d-a6224fa2e901\">\n",
              "    <div class=\"colab-df-container\">\n",
              "      <div>\n",
              "<style scoped>\n",
              "    .dataframe tbody tr th:only-of-type {\n",
              "        vertical-align: middle;\n",
              "    }\n",
              "\n",
              "    .dataframe tbody tr th {\n",
              "        vertical-align: top;\n",
              "    }\n",
              "\n",
              "    .dataframe thead th {\n",
              "        text-align: right;\n",
              "    }\n",
              "</style>\n",
              "<table border=\"1\" class=\"dataframe\">\n",
              "  <thead>\n",
              "    <tr style=\"text-align: right;\">\n",
              "      <th></th>\n",
              "      <th>userId</th>\n",
              "      <th>lang_count</th>\n",
              "      <th>counts_details</th>\n",
              "      <th>counts_pictures</th>\n",
              "      <th>counts_kisses</th>\n",
              "      <th>whazzup_len</th>\n",
              "      <th>cluster_4</th>\n",
              "      <th>cluster_5</th>\n",
              "    </tr>\n",
              "  </thead>\n",
              "  <tbody>\n",
              "    <tr>\n",
              "      <th>0</th>\n",
              "      <td>4e3842f79b70e7ea57000064</td>\n",
              "      <td>1</td>\n",
              "      <td>1.0</td>\n",
              "      <td>4</td>\n",
              "      <td>239</td>\n",
              "      <td>39</td>\n",
              "      <td>0</td>\n",
              "      <td>0</td>\n",
              "    </tr>\n",
              "  </tbody>\n",
              "</table>\n",
              "</div>\n",
              "      <button class=\"colab-df-convert\" onclick=\"convertToInteractive('df-6d5a45df-db16-4d1b-ba6d-a6224fa2e901')\"\n",
              "              title=\"Convert this dataframe to an interactive table.\"\n",
              "              style=\"display:none;\">\n",
              "        \n",
              "  <svg xmlns=\"http://www.w3.org/2000/svg\" height=\"24px\"viewBox=\"0 0 24 24\"\n",
              "       width=\"24px\">\n",
              "    <path d=\"M0 0h24v24H0V0z\" fill=\"none\"/>\n",
              "    <path d=\"M18.56 5.44l.94 2.06.94-2.06 2.06-.94-2.06-.94-.94-2.06-.94 2.06-2.06.94zm-11 1L8.5 8.5l.94-2.06 2.06-.94-2.06-.94L8.5 2.5l-.94 2.06-2.06.94zm10 10l.94 2.06.94-2.06 2.06-.94-2.06-.94-.94-2.06-.94 2.06-2.06.94z\"/><path d=\"M17.41 7.96l-1.37-1.37c-.4-.4-.92-.59-1.43-.59-.52 0-1.04.2-1.43.59L10.3 9.45l-7.72 7.72c-.78.78-.78 2.05 0 2.83L4 21.41c.39.39.9.59 1.41.59.51 0 1.02-.2 1.41-.59l7.78-7.78 2.81-2.81c.8-.78.8-2.07 0-2.86zM5.41 20L4 18.59l7.72-7.72 1.47 1.35L5.41 20z\"/>\n",
              "  </svg>\n",
              "      </button>\n",
              "      \n",
              "  <style>\n",
              "    .colab-df-container {\n",
              "      display:flex;\n",
              "      flex-wrap:wrap;\n",
              "      gap: 12px;\n",
              "    }\n",
              "\n",
              "    .colab-df-convert {\n",
              "      background-color: #E8F0FE;\n",
              "      border: none;\n",
              "      border-radius: 50%;\n",
              "      cursor: pointer;\n",
              "      display: none;\n",
              "      fill: #1967D2;\n",
              "      height: 32px;\n",
              "      padding: 0 0 0 0;\n",
              "      width: 32px;\n",
              "    }\n",
              "\n",
              "    .colab-df-convert:hover {\n",
              "      background-color: #E2EBFA;\n",
              "      box-shadow: 0px 1px 2px rgba(60, 64, 67, 0.3), 0px 1px 3px 1px rgba(60, 64, 67, 0.15);\n",
              "      fill: #174EA6;\n",
              "    }\n",
              "\n",
              "    [theme=dark] .colab-df-convert {\n",
              "      background-color: #3B4455;\n",
              "      fill: #D2E3FC;\n",
              "    }\n",
              "\n",
              "    [theme=dark] .colab-df-convert:hover {\n",
              "      background-color: #434B5C;\n",
              "      box-shadow: 0px 1px 3px 1px rgba(0, 0, 0, 0.15);\n",
              "      filter: drop-shadow(0px 1px 2px rgba(0, 0, 0, 0.3));\n",
              "      fill: #FFFFFF;\n",
              "    }\n",
              "  </style>\n",
              "\n",
              "      <script>\n",
              "        const buttonEl =\n",
              "          document.querySelector('#df-6d5a45df-db16-4d1b-ba6d-a6224fa2e901 button.colab-df-convert');\n",
              "        buttonEl.style.display =\n",
              "          google.colab.kernel.accessAllowed ? 'block' : 'none';\n",
              "\n",
              "        async function convertToInteractive(key) {\n",
              "          const element = document.querySelector('#df-6d5a45df-db16-4d1b-ba6d-a6224fa2e901');\n",
              "          const dataTable =\n",
              "            await google.colab.kernel.invokeFunction('convertToInteractive',\n",
              "                                                     [key], {});\n",
              "          if (!dataTable) return;\n",
              "\n",
              "          const docLinkHtml = 'Like what you see? Visit the ' +\n",
              "            '<a target=\"_blank\" href=https://colab.research.google.com/notebooks/data_table.ipynb>data table notebook</a>'\n",
              "            + ' to learn more about interactive tables.';\n",
              "          element.innerHTML = '';\n",
              "          dataTable['output_type'] = 'display_data';\n",
              "          await google.colab.output.renderOutput(dataTable, element);\n",
              "          const docLink = document.createElement('div');\n",
              "          docLink.innerHTML = docLinkHtml;\n",
              "          element.appendChild(docLink);\n",
              "        }\n",
              "      </script>\n",
              "    </div>\n",
              "  </div>\n",
              "  "
            ],
            "text/plain": [
              "                     userId  lang_count  ...  cluster_4  cluster_5\n",
              "0  4e3842f79b70e7ea57000064           1  ...          0          0\n",
              "\n",
              "[1 rows x 8 columns]"
            ]
          },
          "metadata": {},
          "execution_count": 56
        }
      ]
    },
    {
      "cell_type": "code",
      "source": [
        "df['cluster_4'] = KM_4.labels_\n",
        "df['cluster_5'] = KM_5.labels_\n",
        "df.head(1)"
      ],
      "metadata": {
        "colab": {
          "base_uri": "https://localhost:8080/",
          "height": 214
        },
        "id": "3wfXth1TLSG-",
        "outputId": "9f601126-8f60-4c7f-ac9b-a06bc9998d34"
      },
      "execution_count": 57,
      "outputs": [
        {
          "output_type": "execute_result",
          "data": {
            "text/html": [
              "\n",
              "  <div id=\"df-6e9c9e0a-0d06-4f0a-94f7-429b70b60519\">\n",
              "    <div class=\"colab-df-container\">\n",
              "      <div>\n",
              "<style scoped>\n",
              "    .dataframe tbody tr th:only-of-type {\n",
              "        vertical-align: middle;\n",
              "    }\n",
              "\n",
              "    .dataframe tbody tr th {\n",
              "        vertical-align: top;\n",
              "    }\n",
              "\n",
              "    .dataframe thead th {\n",
              "        text-align: right;\n",
              "    }\n",
              "</style>\n",
              "<table border=\"1\" class=\"dataframe\">\n",
              "  <thead>\n",
              "    <tr style=\"text-align: right;\">\n",
              "      <th></th>\n",
              "      <th>userId</th>\n",
              "      <th>age</th>\n",
              "      <th>gender</th>\n",
              "      <th>genderLooking</th>\n",
              "      <th>country</th>\n",
              "      <th>continent</th>\n",
              "      <th>lang_count</th>\n",
              "      <th>lang_fr</th>\n",
              "      <th>lang_de</th>\n",
              "      <th>lastOnlineDate</th>\n",
              "      <th>lastOnlineRecency</th>\n",
              "      <th>counts_details</th>\n",
              "      <th>counts_pictures</th>\n",
              "      <th>counts_profileVisits</th>\n",
              "      <th>counts_kisses</th>\n",
              "      <th>flirtInterests</th>\n",
              "      <th>isMobile</th>\n",
              "      <th>isVip</th>\n",
              "      <th>verified</th>\n",
              "      <th>shareProfileEnabled</th>\n",
              "      <th>freetext</th>\n",
              "      <th>whazzup</th>\n",
              "      <th>freetext_len</th>\n",
              "      <th>whazzup_len</th>\n",
              "      <th>cluster_4</th>\n",
              "      <th>cluster_5</th>\n",
              "    </tr>\n",
              "  </thead>\n",
              "  <tbody>\n",
              "    <tr>\n",
              "      <th>0</th>\n",
              "      <td>4e3842f79b70e7ea57000064</td>\n",
              "      <td>25</td>\n",
              "      <td>F</td>\n",
              "      <td>M</td>\n",
              "      <td>Switzerland</td>\n",
              "      <td>Europe</td>\n",
              "      <td>1</td>\n",
              "      <td>False</td>\n",
              "      <td>True</td>\n",
              "      <td>2015-04-25 20:43:26+00:00</td>\n",
              "      <td>7</td>\n",
              "      <td>1.0</td>\n",
              "      <td>4</td>\n",
              "      <td>8279.0</td>\n",
              "      <td>239</td>\n",
              "      <td>3</td>\n",
              "      <td>1</td>\n",
              "      <td>0</td>\n",
              "      <td>0</td>\n",
              "      <td>1</td>\n",
              "      <td>Nur tote Fisch schwimmen mit dem Strom</td>\n",
              "      <td>Nur tote fische schwimmen mit dem strom</td>\n",
              "      <td>38</td>\n",
              "      <td>39</td>\n",
              "      <td>0</td>\n",
              "      <td>0</td>\n",
              "    </tr>\n",
              "  </tbody>\n",
              "</table>\n",
              "</div>\n",
              "      <button class=\"colab-df-convert\" onclick=\"convertToInteractive('df-6e9c9e0a-0d06-4f0a-94f7-429b70b60519')\"\n",
              "              title=\"Convert this dataframe to an interactive table.\"\n",
              "              style=\"display:none;\">\n",
              "        \n",
              "  <svg xmlns=\"http://www.w3.org/2000/svg\" height=\"24px\"viewBox=\"0 0 24 24\"\n",
              "       width=\"24px\">\n",
              "    <path d=\"M0 0h24v24H0V0z\" fill=\"none\"/>\n",
              "    <path d=\"M18.56 5.44l.94 2.06.94-2.06 2.06-.94-2.06-.94-.94-2.06-.94 2.06-2.06.94zm-11 1L8.5 8.5l.94-2.06 2.06-.94-2.06-.94L8.5 2.5l-.94 2.06-2.06.94zm10 10l.94 2.06.94-2.06 2.06-.94-2.06-.94-.94-2.06-.94 2.06-2.06.94z\"/><path d=\"M17.41 7.96l-1.37-1.37c-.4-.4-.92-.59-1.43-.59-.52 0-1.04.2-1.43.59L10.3 9.45l-7.72 7.72c-.78.78-.78 2.05 0 2.83L4 21.41c.39.39.9.59 1.41.59.51 0 1.02-.2 1.41-.59l7.78-7.78 2.81-2.81c.8-.78.8-2.07 0-2.86zM5.41 20L4 18.59l7.72-7.72 1.47 1.35L5.41 20z\"/>\n",
              "  </svg>\n",
              "      </button>\n",
              "      \n",
              "  <style>\n",
              "    .colab-df-container {\n",
              "      display:flex;\n",
              "      flex-wrap:wrap;\n",
              "      gap: 12px;\n",
              "    }\n",
              "\n",
              "    .colab-df-convert {\n",
              "      background-color: #E8F0FE;\n",
              "      border: none;\n",
              "      border-radius: 50%;\n",
              "      cursor: pointer;\n",
              "      display: none;\n",
              "      fill: #1967D2;\n",
              "      height: 32px;\n",
              "      padding: 0 0 0 0;\n",
              "      width: 32px;\n",
              "    }\n",
              "\n",
              "    .colab-df-convert:hover {\n",
              "      background-color: #E2EBFA;\n",
              "      box-shadow: 0px 1px 2px rgba(60, 64, 67, 0.3), 0px 1px 3px 1px rgba(60, 64, 67, 0.15);\n",
              "      fill: #174EA6;\n",
              "    }\n",
              "\n",
              "    [theme=dark] .colab-df-convert {\n",
              "      background-color: #3B4455;\n",
              "      fill: #D2E3FC;\n",
              "    }\n",
              "\n",
              "    [theme=dark] .colab-df-convert:hover {\n",
              "      background-color: #434B5C;\n",
              "      box-shadow: 0px 1px 3px 1px rgba(0, 0, 0, 0.15);\n",
              "      filter: drop-shadow(0px 1px 2px rgba(0, 0, 0, 0.3));\n",
              "      fill: #FFFFFF;\n",
              "    }\n",
              "  </style>\n",
              "\n",
              "      <script>\n",
              "        const buttonEl =\n",
              "          document.querySelector('#df-6e9c9e0a-0d06-4f0a-94f7-429b70b60519 button.colab-df-convert');\n",
              "        buttonEl.style.display =\n",
              "          google.colab.kernel.accessAllowed ? 'block' : 'none';\n",
              "\n",
              "        async function convertToInteractive(key) {\n",
              "          const element = document.querySelector('#df-6e9c9e0a-0d06-4f0a-94f7-429b70b60519');\n",
              "          const dataTable =\n",
              "            await google.colab.kernel.invokeFunction('convertToInteractive',\n",
              "                                                     [key], {});\n",
              "          if (!dataTable) return;\n",
              "\n",
              "          const docLinkHtml = 'Like what you see? Visit the ' +\n",
              "            '<a target=\"_blank\" href=https://colab.research.google.com/notebooks/data_table.ipynb>data table notebook</a>'\n",
              "            + ' to learn more about interactive tables.';\n",
              "          element.innerHTML = '';\n",
              "          dataTable['output_type'] = 'display_data';\n",
              "          await google.colab.output.renderOutput(dataTable, element);\n",
              "          const docLink = document.createElement('div');\n",
              "          docLink.innerHTML = docLinkHtml;\n",
              "          element.appendChild(docLink);\n",
              "        }\n",
              "      </script>\n",
              "    </div>\n",
              "  </div>\n",
              "  "
            ],
            "text/plain": [
              "                     userId  age gender  ... whazzup_len cluster_4 cluster_5\n",
              "0  4e3842f79b70e7ea57000064   25      F  ...          39         0         0\n",
              "\n",
              "[1 rows x 26 columns]"
            ]
          },
          "metadata": {},
          "execution_count": 57
        }
      ]
    },
    {
      "cell_type": "code",
      "source": [
        "create_csv(df_clustering, \"KM_5features\")\n",
        "create_csv(df, \"KM_detailed\")"
      ],
      "metadata": {
        "colab": {
          "base_uri": "https://localhost:8080/"
        },
        "id": "A4hf7ZEoLiWc",
        "outputId": "0dcc9cab-e5aa-4a58-8a83-3e184dbdcc97"
      },
      "execution_count": 58,
      "outputs": [
        {
          "output_type": "stream",
          "name": "stdout",
          "text": [
            "CSV export is done! File name: KM_5features.csv\n",
            "CSV export is done! File name: KM_detailed.csv\n"
          ]
        }
      ]
    },
    {
      "cell_type": "markdown",
      "source": [
        "# 3. Analysis/Profiling\n",
        "The goal of Profiling is to be able to differentiate between the groups with the proper distinction that means each group has some unique characteristics about it and then that cluster is the ideal solution to segment the values.\n",
        "\n",
        "Steps to do Profiling are:\n",
        "\n",
        "1. Find the count of each segment (value_counts) -> that gives how many observations or records are present in each segment\n",
        "\n",
        "2. For each of the variable: find the overall average and the individual segment-wise average\n",
        "\n",
        "3. Perform the above two steps for each K value to find the best profiling"
      ],
      "metadata": {
        "id": "jrrf-JQ7Lp6G"
      }
    },
    {
      "cell_type": "markdown",
      "source": [
        "## 3.1 Step 1: Count how many users in each segment"
      ],
      "metadata": {
        "id": "7Ehoghn3NQHZ"
      }
    },
    {
      "cell_type": "code",
      "source": [
        "pd.Series.sort_index(df_clustering.cluster_4.value_counts())"
      ],
      "metadata": {
        "colab": {
          "base_uri": "https://localhost:8080/"
        },
        "id": "2JM-dfIOMARN",
        "outputId": "d5281fc8-a683-4a62-831c-4eaafdcd9b8d"
      },
      "execution_count": 59,
      "outputs": [
        {
          "output_type": "execute_result",
          "data": {
            "text/plain": [
              "0     529\n",
              "1     142\n",
              "2    2026\n",
              "3      50\n",
              "Name: cluster_4, dtype: int64"
            ]
          },
          "metadata": {},
          "execution_count": 59
        }
      ]
    },
    {
      "cell_type": "code",
      "source": [
        "pd.Series.sort_index(df_clustering.cluster_5.value_counts())"
      ],
      "metadata": {
        "colab": {
          "base_uri": "https://localhost:8080/"
        },
        "id": "eowox1WdMYgR",
        "outputId": "032b76da-0c3d-4e77-92dd-ab8c696300b9"
      },
      "execution_count": 60,
      "outputs": [
        {
          "output_type": "execute_result",
          "data": {
            "text/plain": [
              "0     641\n",
              "1     106\n",
              "2    1737\n",
              "3     227\n",
              "4      36\n",
              "Name: cluster_5, dtype: int64"
            ]
          },
          "metadata": {},
          "execution_count": 60
        }
      ]
    },
    {
      "cell_type": "code",
      "source": [
        "size = pd.concat([pd.Series(df_clustering.cluster_4.size), pd.Series.sort_index(df_clustering.cluster_4.value_counts()), pd.Series.sort_index(df_clustering.cluster_5.value_counts())])\n",
        "\n",
        "# Segment Size\n",
        "seg_size = pd.DataFrame(size, columns=['segment_size'])\n",
        "\n",
        "# Segment %Distribtuion:\n",
        "seg_pct = pd.DataFrame(round((size/df_clustering.cluster_4.size)*100,2), columns=['segment_percentage'])\n",
        "\n",
        "# Concatenating the Segment Size and Segment Percentage:\n",
        "pd.concat([seg_size.T, seg_pct.T], axis=0)"
      ],
      "metadata": {
        "colab": {
          "base_uri": "https://localhost:8080/",
          "height": 112
        },
        "id": "U_CagCUVMhBv",
        "outputId": "271c08a9-1542-4f5d-86b2-e0b94ec74c6d"
      },
      "execution_count": 61,
      "outputs": [
        {
          "output_type": "execute_result",
          "data": {
            "text/html": [
              "\n",
              "  <div id=\"df-a22ef556-0258-4530-b072-e077b8e2b989\">\n",
              "    <div class=\"colab-df-container\">\n",
              "      <div>\n",
              "<style scoped>\n",
              "    .dataframe tbody tr th:only-of-type {\n",
              "        vertical-align: middle;\n",
              "    }\n",
              "\n",
              "    .dataframe tbody tr th {\n",
              "        vertical-align: top;\n",
              "    }\n",
              "\n",
              "    .dataframe thead th {\n",
              "        text-align: right;\n",
              "    }\n",
              "</style>\n",
              "<table border=\"1\" class=\"dataframe\">\n",
              "  <thead>\n",
              "    <tr style=\"text-align: right;\">\n",
              "      <th></th>\n",
              "      <th>0</th>\n",
              "      <th>0</th>\n",
              "      <th>1</th>\n",
              "      <th>2</th>\n",
              "      <th>3</th>\n",
              "      <th>0</th>\n",
              "      <th>1</th>\n",
              "      <th>2</th>\n",
              "      <th>3</th>\n",
              "      <th>4</th>\n",
              "    </tr>\n",
              "  </thead>\n",
              "  <tbody>\n",
              "    <tr>\n",
              "      <th>segment_size</th>\n",
              "      <td>2747.0</td>\n",
              "      <td>529.00</td>\n",
              "      <td>142.00</td>\n",
              "      <td>2026.00</td>\n",
              "      <td>50.00</td>\n",
              "      <td>641.00</td>\n",
              "      <td>106.00</td>\n",
              "      <td>1737.00</td>\n",
              "      <td>227.00</td>\n",
              "      <td>36.00</td>\n",
              "    </tr>\n",
              "    <tr>\n",
              "      <th>segment_percentage</th>\n",
              "      <td>100.0</td>\n",
              "      <td>19.26</td>\n",
              "      <td>5.17</td>\n",
              "      <td>73.75</td>\n",
              "      <td>1.82</td>\n",
              "      <td>23.33</td>\n",
              "      <td>3.86</td>\n",
              "      <td>63.23</td>\n",
              "      <td>8.26</td>\n",
              "      <td>1.31</td>\n",
              "    </tr>\n",
              "  </tbody>\n",
              "</table>\n",
              "</div>\n",
              "      <button class=\"colab-df-convert\" onclick=\"convertToInteractive('df-a22ef556-0258-4530-b072-e077b8e2b989')\"\n",
              "              title=\"Convert this dataframe to an interactive table.\"\n",
              "              style=\"display:none;\">\n",
              "        \n",
              "  <svg xmlns=\"http://www.w3.org/2000/svg\" height=\"24px\"viewBox=\"0 0 24 24\"\n",
              "       width=\"24px\">\n",
              "    <path d=\"M0 0h24v24H0V0z\" fill=\"none\"/>\n",
              "    <path d=\"M18.56 5.44l.94 2.06.94-2.06 2.06-.94-2.06-.94-.94-2.06-.94 2.06-2.06.94zm-11 1L8.5 8.5l.94-2.06 2.06-.94-2.06-.94L8.5 2.5l-.94 2.06-2.06.94zm10 10l.94 2.06.94-2.06 2.06-.94-2.06-.94-.94-2.06-.94 2.06-2.06.94z\"/><path d=\"M17.41 7.96l-1.37-1.37c-.4-.4-.92-.59-1.43-.59-.52 0-1.04.2-1.43.59L10.3 9.45l-7.72 7.72c-.78.78-.78 2.05 0 2.83L4 21.41c.39.39.9.59 1.41.59.51 0 1.02-.2 1.41-.59l7.78-7.78 2.81-2.81c.8-.78.8-2.07 0-2.86zM5.41 20L4 18.59l7.72-7.72 1.47 1.35L5.41 20z\"/>\n",
              "  </svg>\n",
              "      </button>\n",
              "      \n",
              "  <style>\n",
              "    .colab-df-container {\n",
              "      display:flex;\n",
              "      flex-wrap:wrap;\n",
              "      gap: 12px;\n",
              "    }\n",
              "\n",
              "    .colab-df-convert {\n",
              "      background-color: #E8F0FE;\n",
              "      border: none;\n",
              "      border-radius: 50%;\n",
              "      cursor: pointer;\n",
              "      display: none;\n",
              "      fill: #1967D2;\n",
              "      height: 32px;\n",
              "      padding: 0 0 0 0;\n",
              "      width: 32px;\n",
              "    }\n",
              "\n",
              "    .colab-df-convert:hover {\n",
              "      background-color: #E2EBFA;\n",
              "      box-shadow: 0px 1px 2px rgba(60, 64, 67, 0.3), 0px 1px 3px 1px rgba(60, 64, 67, 0.15);\n",
              "      fill: #174EA6;\n",
              "    }\n",
              "\n",
              "    [theme=dark] .colab-df-convert {\n",
              "      background-color: #3B4455;\n",
              "      fill: #D2E3FC;\n",
              "    }\n",
              "\n",
              "    [theme=dark] .colab-df-convert:hover {\n",
              "      background-color: #434B5C;\n",
              "      box-shadow: 0px 1px 3px 1px rgba(0, 0, 0, 0.15);\n",
              "      filter: drop-shadow(0px 1px 2px rgba(0, 0, 0, 0.3));\n",
              "      fill: #FFFFFF;\n",
              "    }\n",
              "  </style>\n",
              "\n",
              "      <script>\n",
              "        const buttonEl =\n",
              "          document.querySelector('#df-a22ef556-0258-4530-b072-e077b8e2b989 button.colab-df-convert');\n",
              "        buttonEl.style.display =\n",
              "          google.colab.kernel.accessAllowed ? 'block' : 'none';\n",
              "\n",
              "        async function convertToInteractive(key) {\n",
              "          const element = document.querySelector('#df-a22ef556-0258-4530-b072-e077b8e2b989');\n",
              "          const dataTable =\n",
              "            await google.colab.kernel.invokeFunction('convertToInteractive',\n",
              "                                                     [key], {});\n",
              "          if (!dataTable) return;\n",
              "\n",
              "          const docLinkHtml = 'Like what you see? Visit the ' +\n",
              "            '<a target=\"_blank\" href=https://colab.research.google.com/notebooks/data_table.ipynb>data table notebook</a>'\n",
              "            + ' to learn more about interactive tables.';\n",
              "          element.innerHTML = '';\n",
              "          dataTable['output_type'] = 'display_data';\n",
              "          await google.colab.output.renderOutput(dataTable, element);\n",
              "          const docLink = document.createElement('div');\n",
              "          docLink.innerHTML = docLinkHtml;\n",
              "          element.appendChild(docLink);\n",
              "        }\n",
              "      </script>\n",
              "    </div>\n",
              "  </div>\n",
              "  "
            ],
            "text/plain": [
              "                         0       0       1  ...        2       3      4\n",
              "segment_size        2747.0  529.00  142.00  ...  1737.00  227.00  36.00\n",
              "segment_percentage   100.0   19.26    5.17  ...    63.23    8.26   1.31\n",
              "\n",
              "[2 rows x 10 columns]"
            ]
          },
          "metadata": {},
          "execution_count": 61
        }
      ]
    },
    {
      "cell_type": "markdown",
      "source": [
        "## 3.2 Step 2: Finding average/median of features for each cluster"
      ],
      "metadata": {
        "id": "vKhmcOvZOSko"
      }
    },
    {
      "cell_type": "code",
      "source": [
        "df_clustering.iloc[:,1:6].apply(np.mean).round(2).T"
      ],
      "metadata": {
        "colab": {
          "base_uri": "https://localhost:8080/"
        },
        "id": "ScK08efEOtBj",
        "outputId": "7c91110b-fa61-4b07-d5bc-44189afee6bb"
      },
      "execution_count": 62,
      "outputs": [
        {
          "output_type": "execute_result",
          "data": {
            "text/plain": [
              "lang_count           1.13\n",
              "counts_details       0.59\n",
              "counts_pictures      4.21\n",
              "counts_kisses      151.23\n",
              "whazzup_len         20.37\n",
              "dtype: float64"
            ]
          },
          "metadata": {},
          "execution_count": 62
        }
      ]
    },
    {
      "cell_type": "code",
      "source": [
        "df_clustering.iloc[:,1:6].apply(np.median).round(2).T"
      ],
      "metadata": {
        "colab": {
          "base_uri": "https://localhost:8080/"
        },
        "id": "xKaEqSQKkOLc",
        "outputId": "01c5038e-1b6d-44fe-b8f5-e5b2091fdfec"
      },
      "execution_count": 63,
      "outputs": [
        {
          "output_type": "execute_result",
          "data": {
            "text/plain": [
              "lang_count          1.00\n",
              "counts_details      0.65\n",
              "counts_pictures     4.00\n",
              "counts_kisses      67.00\n",
              "whazzup_len         7.00\n",
              "dtype: float64"
            ]
          },
          "metadata": {},
          "execution_count": 63
        }
      ]
    },
    {
      "cell_type": "code",
      "source": [
        "df_clustering.groupby('cluster_4').apply(np.mean).round(2).T"
      ],
      "metadata": {
        "colab": {
          "base_uri": "https://localhost:8080/",
          "height": 269
        },
        "id": "rBa7n3MnPB8v",
        "outputId": "949f3e99-07f2-4dd1-e712-4338c7c7ea97"
      },
      "execution_count": 64,
      "outputs": [
        {
          "output_type": "execute_result",
          "data": {
            "text/html": [
              "\n",
              "  <div id=\"df-a4bc848b-aabd-4b35-ab25-47779ebb093b\">\n",
              "    <div class=\"colab-df-container\">\n",
              "      <div>\n",
              "<style scoped>\n",
              "    .dataframe tbody tr th:only-of-type {\n",
              "        vertical-align: middle;\n",
              "    }\n",
              "\n",
              "    .dataframe tbody tr th {\n",
              "        vertical-align: top;\n",
              "    }\n",
              "\n",
              "    .dataframe thead th {\n",
              "        text-align: right;\n",
              "    }\n",
              "</style>\n",
              "<table border=\"1\" class=\"dataframe\">\n",
              "  <thead>\n",
              "    <tr style=\"text-align: right;\">\n",
              "      <th>cluster_4</th>\n",
              "      <th>0</th>\n",
              "      <th>1</th>\n",
              "      <th>2</th>\n",
              "      <th>3</th>\n",
              "    </tr>\n",
              "  </thead>\n",
              "  <tbody>\n",
              "    <tr>\n",
              "      <th>lang_count</th>\n",
              "      <td>1.19</td>\n",
              "      <td>1.30</td>\n",
              "      <td>1.10</td>\n",
              "      <td>1.28</td>\n",
              "    </tr>\n",
              "    <tr>\n",
              "      <th>counts_details</th>\n",
              "      <td>0.64</td>\n",
              "      <td>0.66</td>\n",
              "      <td>0.57</td>\n",
              "      <td>0.68</td>\n",
              "    </tr>\n",
              "    <tr>\n",
              "      <th>counts_pictures</th>\n",
              "      <td>4.97</td>\n",
              "      <td>5.46</td>\n",
              "      <td>3.88</td>\n",
              "      <td>5.78</td>\n",
              "    </tr>\n",
              "    <tr>\n",
              "      <th>counts_kisses</th>\n",
              "      <td>263.64</td>\n",
              "      <td>710.92</td>\n",
              "      <td>52.82</td>\n",
              "      <td>1359.94</td>\n",
              "    </tr>\n",
              "    <tr>\n",
              "      <th>whazzup_len</th>\n",
              "      <td>24.92</td>\n",
              "      <td>25.61</td>\n",
              "      <td>18.77</td>\n",
              "      <td>22.14</td>\n",
              "    </tr>\n",
              "    <tr>\n",
              "      <th>cluster_4</th>\n",
              "      <td>0.00</td>\n",
              "      <td>1.00</td>\n",
              "      <td>2.00</td>\n",
              "      <td>3.00</td>\n",
              "    </tr>\n",
              "    <tr>\n",
              "      <th>cluster_5</th>\n",
              "      <td>1.00</td>\n",
              "      <td>1.70</td>\n",
              "      <td>1.71</td>\n",
              "      <td>3.16</td>\n",
              "    </tr>\n",
              "  </tbody>\n",
              "</table>\n",
              "</div>\n",
              "      <button class=\"colab-df-convert\" onclick=\"convertToInteractive('df-a4bc848b-aabd-4b35-ab25-47779ebb093b')\"\n",
              "              title=\"Convert this dataframe to an interactive table.\"\n",
              "              style=\"display:none;\">\n",
              "        \n",
              "  <svg xmlns=\"http://www.w3.org/2000/svg\" height=\"24px\"viewBox=\"0 0 24 24\"\n",
              "       width=\"24px\">\n",
              "    <path d=\"M0 0h24v24H0V0z\" fill=\"none\"/>\n",
              "    <path d=\"M18.56 5.44l.94 2.06.94-2.06 2.06-.94-2.06-.94-.94-2.06-.94 2.06-2.06.94zm-11 1L8.5 8.5l.94-2.06 2.06-.94-2.06-.94L8.5 2.5l-.94 2.06-2.06.94zm10 10l.94 2.06.94-2.06 2.06-.94-2.06-.94-.94-2.06-.94 2.06-2.06.94z\"/><path d=\"M17.41 7.96l-1.37-1.37c-.4-.4-.92-.59-1.43-.59-.52 0-1.04.2-1.43.59L10.3 9.45l-7.72 7.72c-.78.78-.78 2.05 0 2.83L4 21.41c.39.39.9.59 1.41.59.51 0 1.02-.2 1.41-.59l7.78-7.78 2.81-2.81c.8-.78.8-2.07 0-2.86zM5.41 20L4 18.59l7.72-7.72 1.47 1.35L5.41 20z\"/>\n",
              "  </svg>\n",
              "      </button>\n",
              "      \n",
              "  <style>\n",
              "    .colab-df-container {\n",
              "      display:flex;\n",
              "      flex-wrap:wrap;\n",
              "      gap: 12px;\n",
              "    }\n",
              "\n",
              "    .colab-df-convert {\n",
              "      background-color: #E8F0FE;\n",
              "      border: none;\n",
              "      border-radius: 50%;\n",
              "      cursor: pointer;\n",
              "      display: none;\n",
              "      fill: #1967D2;\n",
              "      height: 32px;\n",
              "      padding: 0 0 0 0;\n",
              "      width: 32px;\n",
              "    }\n",
              "\n",
              "    .colab-df-convert:hover {\n",
              "      background-color: #E2EBFA;\n",
              "      box-shadow: 0px 1px 2px rgba(60, 64, 67, 0.3), 0px 1px 3px 1px rgba(60, 64, 67, 0.15);\n",
              "      fill: #174EA6;\n",
              "    }\n",
              "\n",
              "    [theme=dark] .colab-df-convert {\n",
              "      background-color: #3B4455;\n",
              "      fill: #D2E3FC;\n",
              "    }\n",
              "\n",
              "    [theme=dark] .colab-df-convert:hover {\n",
              "      background-color: #434B5C;\n",
              "      box-shadow: 0px 1px 3px 1px rgba(0, 0, 0, 0.15);\n",
              "      filter: drop-shadow(0px 1px 2px rgba(0, 0, 0, 0.3));\n",
              "      fill: #FFFFFF;\n",
              "    }\n",
              "  </style>\n",
              "\n",
              "      <script>\n",
              "        const buttonEl =\n",
              "          document.querySelector('#df-a4bc848b-aabd-4b35-ab25-47779ebb093b button.colab-df-convert');\n",
              "        buttonEl.style.display =\n",
              "          google.colab.kernel.accessAllowed ? 'block' : 'none';\n",
              "\n",
              "        async function convertToInteractive(key) {\n",
              "          const element = document.querySelector('#df-a4bc848b-aabd-4b35-ab25-47779ebb093b');\n",
              "          const dataTable =\n",
              "            await google.colab.kernel.invokeFunction('convertToInteractive',\n",
              "                                                     [key], {});\n",
              "          if (!dataTable) return;\n",
              "\n",
              "          const docLinkHtml = 'Like what you see? Visit the ' +\n",
              "            '<a target=\"_blank\" href=https://colab.research.google.com/notebooks/data_table.ipynb>data table notebook</a>'\n",
              "            + ' to learn more about interactive tables.';\n",
              "          element.innerHTML = '';\n",
              "          dataTable['output_type'] = 'display_data';\n",
              "          await google.colab.output.renderOutput(dataTable, element);\n",
              "          const docLink = document.createElement('div');\n",
              "          docLink.innerHTML = docLinkHtml;\n",
              "          element.appendChild(docLink);\n",
              "        }\n",
              "      </script>\n",
              "    </div>\n",
              "  </div>\n",
              "  "
            ],
            "text/plain": [
              "cluster_4             0       1      2        3\n",
              "lang_count         1.19    1.30   1.10     1.28\n",
              "counts_details     0.64    0.66   0.57     0.68\n",
              "counts_pictures    4.97    5.46   3.88     5.78\n",
              "counts_kisses    263.64  710.92  52.82  1359.94\n",
              "whazzup_len       24.92   25.61  18.77    22.14\n",
              "cluster_4          0.00    1.00   2.00     3.00\n",
              "cluster_5          1.00    1.70   1.71     3.16"
            ]
          },
          "metadata": {},
          "execution_count": 64
        }
      ]
    },
    {
      "cell_type": "code",
      "source": [
        "df_clustering.groupby('cluster_5').apply(np.mean).round(2).T"
      ],
      "metadata": {
        "colab": {
          "base_uri": "https://localhost:8080/",
          "height": 269
        },
        "id": "IGZoJWTCQnta",
        "outputId": "26d1d86d-7ee9-4c91-9b05-c1714450dd88"
      },
      "execution_count": 65,
      "outputs": [
        {
          "output_type": "execute_result",
          "data": {
            "text/html": [
              "\n",
              "  <div id=\"df-3c590a96-1b3e-4020-b5fa-d7880904dc08\">\n",
              "    <div class=\"colab-df-container\">\n",
              "      <div>\n",
              "<style scoped>\n",
              "    .dataframe tbody tr th:only-of-type {\n",
              "        vertical-align: middle;\n",
              "    }\n",
              "\n",
              "    .dataframe tbody tr th {\n",
              "        vertical-align: top;\n",
              "    }\n",
              "\n",
              "    .dataframe thead th {\n",
              "        text-align: right;\n",
              "    }\n",
              "</style>\n",
              "<table border=\"1\" class=\"dataframe\">\n",
              "  <thead>\n",
              "    <tr style=\"text-align: right;\">\n",
              "      <th>cluster_5</th>\n",
              "      <th>0</th>\n",
              "      <th>1</th>\n",
              "      <th>2</th>\n",
              "      <th>3</th>\n",
              "      <th>4</th>\n",
              "    </tr>\n",
              "  </thead>\n",
              "  <tbody>\n",
              "    <tr>\n",
              "      <th>lang_count</th>\n",
              "      <td>1.18</td>\n",
              "      <td>1.28</td>\n",
              "      <td>1.08</td>\n",
              "      <td>1.25</td>\n",
              "      <td>1.33</td>\n",
              "    </tr>\n",
              "    <tr>\n",
              "      <th>counts_details</th>\n",
              "      <td>0.61</td>\n",
              "      <td>0.63</td>\n",
              "      <td>0.57</td>\n",
              "      <td>0.68</td>\n",
              "      <td>0.68</td>\n",
              "    </tr>\n",
              "    <tr>\n",
              "      <th>counts_pictures</th>\n",
              "      <td>4.96</td>\n",
              "      <td>5.73</td>\n",
              "      <td>3.70</td>\n",
              "      <td>5.00</td>\n",
              "      <td>5.78</td>\n",
              "    </tr>\n",
              "    <tr>\n",
              "      <th>counts_kisses</th>\n",
              "      <td>176.08</td>\n",
              "      <td>835.61</td>\n",
              "      <td>39.88</td>\n",
              "      <td>405.11</td>\n",
              "      <td>1465.22</td>\n",
              "    </tr>\n",
              "    <tr>\n",
              "      <th>whazzup_len</th>\n",
              "      <td>23.16</td>\n",
              "      <td>24.17</td>\n",
              "      <td>18.17</td>\n",
              "      <td>26.89</td>\n",
              "      <td>24.72</td>\n",
              "    </tr>\n",
              "    <tr>\n",
              "      <th>cluster_4</th>\n",
              "      <td>0.90</td>\n",
              "      <td>1.26</td>\n",
              "      <td>2.00</td>\n",
              "      <td>0.22</td>\n",
              "      <td>3.00</td>\n",
              "    </tr>\n",
              "    <tr>\n",
              "      <th>cluster_5</th>\n",
              "      <td>0.00</td>\n",
              "      <td>1.00</td>\n",
              "      <td>2.00</td>\n",
              "      <td>3.00</td>\n",
              "      <td>4.00</td>\n",
              "    </tr>\n",
              "  </tbody>\n",
              "</table>\n",
              "</div>\n",
              "      <button class=\"colab-df-convert\" onclick=\"convertToInteractive('df-3c590a96-1b3e-4020-b5fa-d7880904dc08')\"\n",
              "              title=\"Convert this dataframe to an interactive table.\"\n",
              "              style=\"display:none;\">\n",
              "        \n",
              "  <svg xmlns=\"http://www.w3.org/2000/svg\" height=\"24px\"viewBox=\"0 0 24 24\"\n",
              "       width=\"24px\">\n",
              "    <path d=\"M0 0h24v24H0V0z\" fill=\"none\"/>\n",
              "    <path d=\"M18.56 5.44l.94 2.06.94-2.06 2.06-.94-2.06-.94-.94-2.06-.94 2.06-2.06.94zm-11 1L8.5 8.5l.94-2.06 2.06-.94-2.06-.94L8.5 2.5l-.94 2.06-2.06.94zm10 10l.94 2.06.94-2.06 2.06-.94-2.06-.94-.94-2.06-.94 2.06-2.06.94z\"/><path d=\"M17.41 7.96l-1.37-1.37c-.4-.4-.92-.59-1.43-.59-.52 0-1.04.2-1.43.59L10.3 9.45l-7.72 7.72c-.78.78-.78 2.05 0 2.83L4 21.41c.39.39.9.59 1.41.59.51 0 1.02-.2 1.41-.59l7.78-7.78 2.81-2.81c.8-.78.8-2.07 0-2.86zM5.41 20L4 18.59l7.72-7.72 1.47 1.35L5.41 20z\"/>\n",
              "  </svg>\n",
              "      </button>\n",
              "      \n",
              "  <style>\n",
              "    .colab-df-container {\n",
              "      display:flex;\n",
              "      flex-wrap:wrap;\n",
              "      gap: 12px;\n",
              "    }\n",
              "\n",
              "    .colab-df-convert {\n",
              "      background-color: #E8F0FE;\n",
              "      border: none;\n",
              "      border-radius: 50%;\n",
              "      cursor: pointer;\n",
              "      display: none;\n",
              "      fill: #1967D2;\n",
              "      height: 32px;\n",
              "      padding: 0 0 0 0;\n",
              "      width: 32px;\n",
              "    }\n",
              "\n",
              "    .colab-df-convert:hover {\n",
              "      background-color: #E2EBFA;\n",
              "      box-shadow: 0px 1px 2px rgba(60, 64, 67, 0.3), 0px 1px 3px 1px rgba(60, 64, 67, 0.15);\n",
              "      fill: #174EA6;\n",
              "    }\n",
              "\n",
              "    [theme=dark] .colab-df-convert {\n",
              "      background-color: #3B4455;\n",
              "      fill: #D2E3FC;\n",
              "    }\n",
              "\n",
              "    [theme=dark] .colab-df-convert:hover {\n",
              "      background-color: #434B5C;\n",
              "      box-shadow: 0px 1px 3px 1px rgba(0, 0, 0, 0.15);\n",
              "      filter: drop-shadow(0px 1px 2px rgba(0, 0, 0, 0.3));\n",
              "      fill: #FFFFFF;\n",
              "    }\n",
              "  </style>\n",
              "\n",
              "      <script>\n",
              "        const buttonEl =\n",
              "          document.querySelector('#df-3c590a96-1b3e-4020-b5fa-d7880904dc08 button.colab-df-convert');\n",
              "        buttonEl.style.display =\n",
              "          google.colab.kernel.accessAllowed ? 'block' : 'none';\n",
              "\n",
              "        async function convertToInteractive(key) {\n",
              "          const element = document.querySelector('#df-3c590a96-1b3e-4020-b5fa-d7880904dc08');\n",
              "          const dataTable =\n",
              "            await google.colab.kernel.invokeFunction('convertToInteractive',\n",
              "                                                     [key], {});\n",
              "          if (!dataTable) return;\n",
              "\n",
              "          const docLinkHtml = 'Like what you see? Visit the ' +\n",
              "            '<a target=\"_blank\" href=https://colab.research.google.com/notebooks/data_table.ipynb>data table notebook</a>'\n",
              "            + ' to learn more about interactive tables.';\n",
              "          element.innerHTML = '';\n",
              "          dataTable['output_type'] = 'display_data';\n",
              "          await google.colab.output.renderOutput(dataTable, element);\n",
              "          const docLink = document.createElement('div');\n",
              "          docLink.innerHTML = docLinkHtml;\n",
              "          element.appendChild(docLink);\n",
              "        }\n",
              "      </script>\n",
              "    </div>\n",
              "  </div>\n",
              "  "
            ],
            "text/plain": [
              "cluster_5             0       1      2       3        4\n",
              "lang_count         1.18    1.28   1.08    1.25     1.33\n",
              "counts_details     0.61    0.63   0.57    0.68     0.68\n",
              "counts_pictures    4.96    5.73   3.70    5.00     5.78\n",
              "counts_kisses    176.08  835.61  39.88  405.11  1465.22\n",
              "whazzup_len       23.16   24.17  18.17   26.89    24.72\n",
              "cluster_4          0.90    1.26   2.00    0.22     3.00\n",
              "cluster_5          0.00    1.00   2.00    3.00     4.00"
            ]
          },
          "metadata": {},
          "execution_count": 65
        }
      ]
    },
    {
      "cell_type": "code",
      "source": [
        "# Concatinating the above two averages:\n",
        "\n",
        "profiling  = pd.concat([df_clustering.iloc[:,1:].apply(lambda x: x.mean()).T, \n",
        "                df_clustering.iloc[:,1:].groupby('cluster_4').apply(lambda x: x.mean()).T,\n",
        "                df_clustering.iloc[:,1:].groupby('cluster_5').apply(lambda x: x.mean()).T], axis=1)\n",
        "\n",
        "profiling_final = pd.concat([seg_size.T, seg_pct.T, profiling], axis=0)\n",
        "profiling_final = profiling_final.reset_index()\n",
        "profiling_final.columns = ['Metrics','Overall', \n",
        "                           'KM4_1', 'KM4_2', 'KM4_3', 'KM4_4',\n",
        "                           'KM5_1', 'KM5_2', 'KM5_3', 'KM5_4', 'KM5_5']\n",
        "profiling_final"
      ],
      "metadata": {
        "colab": {
          "base_uri": "https://localhost:8080/",
          "height": 331
        },
        "id": "H0sI0XaST1Ja",
        "outputId": "ce92dea3-217a-4f12-b291-9c681a72ae98"
      },
      "execution_count": 66,
      "outputs": [
        {
          "output_type": "execute_result",
          "data": {
            "text/html": [
              "\n",
              "  <div id=\"df-b6c5ba74-f7b5-45de-b273-e13a15ba51a3\">\n",
              "    <div class=\"colab-df-container\">\n",
              "      <div>\n",
              "<style scoped>\n",
              "    .dataframe tbody tr th:only-of-type {\n",
              "        vertical-align: middle;\n",
              "    }\n",
              "\n",
              "    .dataframe tbody tr th {\n",
              "        vertical-align: top;\n",
              "    }\n",
              "\n",
              "    .dataframe thead th {\n",
              "        text-align: right;\n",
              "    }\n",
              "</style>\n",
              "<table border=\"1\" class=\"dataframe\">\n",
              "  <thead>\n",
              "    <tr style=\"text-align: right;\">\n",
              "      <th></th>\n",
              "      <th>Metrics</th>\n",
              "      <th>Overall</th>\n",
              "      <th>KM4_1</th>\n",
              "      <th>KM4_2</th>\n",
              "      <th>KM4_3</th>\n",
              "      <th>KM4_4</th>\n",
              "      <th>KM5_1</th>\n",
              "      <th>KM5_2</th>\n",
              "      <th>KM5_3</th>\n",
              "      <th>KM5_4</th>\n",
              "      <th>KM5_5</th>\n",
              "    </tr>\n",
              "  </thead>\n",
              "  <tbody>\n",
              "    <tr>\n",
              "      <th>0</th>\n",
              "      <td>segment_size</td>\n",
              "      <td>2747.000000</td>\n",
              "      <td>529.000000</td>\n",
              "      <td>142.000000</td>\n",
              "      <td>2026.000000</td>\n",
              "      <td>50.0000</td>\n",
              "      <td>641.000000</td>\n",
              "      <td>106.000000</td>\n",
              "      <td>1737.000000</td>\n",
              "      <td>227.000000</td>\n",
              "      <td>36.000000</td>\n",
              "    </tr>\n",
              "    <tr>\n",
              "      <th>1</th>\n",
              "      <td>segment_percentage</td>\n",
              "      <td>100.000000</td>\n",
              "      <td>19.260000</td>\n",
              "      <td>5.170000</td>\n",
              "      <td>73.750000</td>\n",
              "      <td>1.8200</td>\n",
              "      <td>23.330000</td>\n",
              "      <td>3.860000</td>\n",
              "      <td>63.230000</td>\n",
              "      <td>8.260000</td>\n",
              "      <td>1.310000</td>\n",
              "    </tr>\n",
              "    <tr>\n",
              "      <th>2</th>\n",
              "      <td>lang_count</td>\n",
              "      <td>1.128504</td>\n",
              "      <td>1.194707</td>\n",
              "      <td>1.295775</td>\n",
              "      <td>1.095755</td>\n",
              "      <td>1.2800</td>\n",
              "      <td>1.180967</td>\n",
              "      <td>1.283019</td>\n",
              "      <td>1.080023</td>\n",
              "      <td>1.246696</td>\n",
              "      <td>1.333333</td>\n",
              "    </tr>\n",
              "    <tr>\n",
              "      <th>3</th>\n",
              "      <td>counts_details</td>\n",
              "      <td>0.591926</td>\n",
              "      <td>0.644045</td>\n",
              "      <td>0.656972</td>\n",
              "      <td>0.571496</td>\n",
              "      <td>0.6836</td>\n",
              "      <td>0.609314</td>\n",
              "      <td>0.632925</td>\n",
              "      <td>0.570006</td>\n",
              "      <td>0.677533</td>\n",
              "      <td>0.679444</td>\n",
              "    </tr>\n",
              "    <tr>\n",
              "      <th>4</th>\n",
              "      <td>counts_pictures</td>\n",
              "      <td>4.209319</td>\n",
              "      <td>4.973535</td>\n",
              "      <td>5.457746</td>\n",
              "      <td>3.883514</td>\n",
              "      <td>5.7800</td>\n",
              "      <td>4.960998</td>\n",
              "      <td>5.726415</td>\n",
              "      <td>3.704088</td>\n",
              "      <td>4.995595</td>\n",
              "      <td>5.777778</td>\n",
              "    </tr>\n",
              "    <tr>\n",
              "      <th>5</th>\n",
              "      <td>counts_kisses</td>\n",
              "      <td>151.227885</td>\n",
              "      <td>263.638941</td>\n",
              "      <td>710.915493</td>\n",
              "      <td>52.818855</td>\n",
              "      <td>1359.9400</td>\n",
              "      <td>176.079563</td>\n",
              "      <td>835.613208</td>\n",
              "      <td>39.880253</td>\n",
              "      <td>405.114537</td>\n",
              "      <td>1465.222222</td>\n",
              "    </tr>\n",
              "    <tr>\n",
              "      <th>6</th>\n",
              "      <td>whazzup_len</td>\n",
              "      <td>20.370950</td>\n",
              "      <td>24.924386</td>\n",
              "      <td>25.612676</td>\n",
              "      <td>18.770977</td>\n",
              "      <td>22.1400</td>\n",
              "      <td>23.162246</td>\n",
              "      <td>24.169811</td>\n",
              "      <td>18.166379</td>\n",
              "      <td>26.894273</td>\n",
              "      <td>24.722222</td>\n",
              "    </tr>\n",
              "    <tr>\n",
              "      <th>7</th>\n",
              "      <td>cluster_4</td>\n",
              "      <td>1.581361</td>\n",
              "      <td>0.000000</td>\n",
              "      <td>1.000000</td>\n",
              "      <td>2.000000</td>\n",
              "      <td>3.0000</td>\n",
              "      <td>0.901716</td>\n",
              "      <td>1.264151</td>\n",
              "      <td>2.000000</td>\n",
              "      <td>0.220264</td>\n",
              "      <td>3.000000</td>\n",
              "    </tr>\n",
              "    <tr>\n",
              "      <th>8</th>\n",
              "      <td>cluster_5</td>\n",
              "      <td>1.603568</td>\n",
              "      <td>1.003781</td>\n",
              "      <td>1.704225</td>\n",
              "      <td>1.714709</td>\n",
              "      <td>3.1600</td>\n",
              "      <td>0.000000</td>\n",
              "      <td>1.000000</td>\n",
              "      <td>2.000000</td>\n",
              "      <td>3.000000</td>\n",
              "      <td>4.000000</td>\n",
              "    </tr>\n",
              "  </tbody>\n",
              "</table>\n",
              "</div>\n",
              "      <button class=\"colab-df-convert\" onclick=\"convertToInteractive('df-b6c5ba74-f7b5-45de-b273-e13a15ba51a3')\"\n",
              "              title=\"Convert this dataframe to an interactive table.\"\n",
              "              style=\"display:none;\">\n",
              "        \n",
              "  <svg xmlns=\"http://www.w3.org/2000/svg\" height=\"24px\"viewBox=\"0 0 24 24\"\n",
              "       width=\"24px\">\n",
              "    <path d=\"M0 0h24v24H0V0z\" fill=\"none\"/>\n",
              "    <path d=\"M18.56 5.44l.94 2.06.94-2.06 2.06-.94-2.06-.94-.94-2.06-.94 2.06-2.06.94zm-11 1L8.5 8.5l.94-2.06 2.06-.94-2.06-.94L8.5 2.5l-.94 2.06-2.06.94zm10 10l.94 2.06.94-2.06 2.06-.94-2.06-.94-.94-2.06-.94 2.06-2.06.94z\"/><path d=\"M17.41 7.96l-1.37-1.37c-.4-.4-.92-.59-1.43-.59-.52 0-1.04.2-1.43.59L10.3 9.45l-7.72 7.72c-.78.78-.78 2.05 0 2.83L4 21.41c.39.39.9.59 1.41.59.51 0 1.02-.2 1.41-.59l7.78-7.78 2.81-2.81c.8-.78.8-2.07 0-2.86zM5.41 20L4 18.59l7.72-7.72 1.47 1.35L5.41 20z\"/>\n",
              "  </svg>\n",
              "      </button>\n",
              "      \n",
              "  <style>\n",
              "    .colab-df-container {\n",
              "      display:flex;\n",
              "      flex-wrap:wrap;\n",
              "      gap: 12px;\n",
              "    }\n",
              "\n",
              "    .colab-df-convert {\n",
              "      background-color: #E8F0FE;\n",
              "      border: none;\n",
              "      border-radius: 50%;\n",
              "      cursor: pointer;\n",
              "      display: none;\n",
              "      fill: #1967D2;\n",
              "      height: 32px;\n",
              "      padding: 0 0 0 0;\n",
              "      width: 32px;\n",
              "    }\n",
              "\n",
              "    .colab-df-convert:hover {\n",
              "      background-color: #E2EBFA;\n",
              "      box-shadow: 0px 1px 2px rgba(60, 64, 67, 0.3), 0px 1px 3px 1px rgba(60, 64, 67, 0.15);\n",
              "      fill: #174EA6;\n",
              "    }\n",
              "\n",
              "    [theme=dark] .colab-df-convert {\n",
              "      background-color: #3B4455;\n",
              "      fill: #D2E3FC;\n",
              "    }\n",
              "\n",
              "    [theme=dark] .colab-df-convert:hover {\n",
              "      background-color: #434B5C;\n",
              "      box-shadow: 0px 1px 3px 1px rgba(0, 0, 0, 0.15);\n",
              "      filter: drop-shadow(0px 1px 2px rgba(0, 0, 0, 0.3));\n",
              "      fill: #FFFFFF;\n",
              "    }\n",
              "  </style>\n",
              "\n",
              "      <script>\n",
              "        const buttonEl =\n",
              "          document.querySelector('#df-b6c5ba74-f7b5-45de-b273-e13a15ba51a3 button.colab-df-convert');\n",
              "        buttonEl.style.display =\n",
              "          google.colab.kernel.accessAllowed ? 'block' : 'none';\n",
              "\n",
              "        async function convertToInteractive(key) {\n",
              "          const element = document.querySelector('#df-b6c5ba74-f7b5-45de-b273-e13a15ba51a3');\n",
              "          const dataTable =\n",
              "            await google.colab.kernel.invokeFunction('convertToInteractive',\n",
              "                                                     [key], {});\n",
              "          if (!dataTable) return;\n",
              "\n",
              "          const docLinkHtml = 'Like what you see? Visit the ' +\n",
              "            '<a target=\"_blank\" href=https://colab.research.google.com/notebooks/data_table.ipynb>data table notebook</a>'\n",
              "            + ' to learn more about interactive tables.';\n",
              "          element.innerHTML = '';\n",
              "          dataTable['output_type'] = 'display_data';\n",
              "          await google.colab.output.renderOutput(dataTable, element);\n",
              "          const docLink = document.createElement('div');\n",
              "          docLink.innerHTML = docLinkHtml;\n",
              "          element.appendChild(docLink);\n",
              "        }\n",
              "      </script>\n",
              "    </div>\n",
              "  </div>\n",
              "  "
            ],
            "text/plain": [
              "              Metrics      Overall  ...       KM5_4        KM5_5\n",
              "0        segment_size  2747.000000  ...  227.000000    36.000000\n",
              "1  segment_percentage   100.000000  ...    8.260000     1.310000\n",
              "2          lang_count     1.128504  ...    1.246696     1.333333\n",
              "3      counts_details     0.591926  ...    0.677533     0.679444\n",
              "4     counts_pictures     4.209319  ...    4.995595     5.777778\n",
              "5       counts_kisses   151.227885  ...  405.114537  1465.222222\n",
              "6         whazzup_len    20.370950  ...   26.894273    24.722222\n",
              "7           cluster_4     1.581361  ...    0.220264     3.000000\n",
              "8           cluster_5     1.603568  ...    3.000000     4.000000\n",
              "\n",
              "[9 rows x 11 columns]"
            ]
          },
          "metadata": {},
          "execution_count": 66
        }
      ]
    },
    {
      "cell_type": "code",
      "source": [
        "create_csv(profiling_final, \"pivoting\")"
      ],
      "metadata": {
        "colab": {
          "base_uri": "https://localhost:8080/"
        },
        "id": "TWMDGLY6UqXO",
        "outputId": "7c266b6c-5f10-43bc-f90d-c03d6114fe07"
      },
      "execution_count": 67,
      "outputs": [
        {
          "output_type": "stream",
          "name": "stdout",
          "text": [
            "CSV export is done! File name: pivoting.csv\n"
          ]
        }
      ]
    }
  ]
}